{
  "nbformat": 4,
  "nbformat_minor": 0,
  "metadata": {
    "colab": {
      "name": "191216TF_IPIP.ipynb",
      "provenance": [],
      "collapsed_sections": [],
      "include_colab_link": true
    },
    "kernelspec": {
      "name": "python3",
      "display_name": "Python 3"
    },
    "accelerator": "GPU"
  },
  "cells": [
    {
      "cell_type": "markdown",
      "metadata": {
        "id": "view-in-github",
        "colab_type": "text"
      },
      "source": [
        "<a href=\"https://colab.research.google.com/github/jhuang12/Tensorflow-for-personality-items-classification/blob/master/191216TF_IPIP.ipynb\" target=\"_parent\"><img src=\"https://colab.research.google.com/assets/colab-badge.svg\" alt=\"Open In Colab\"/></a>"
      ]
    },
    {
      "cell_type": "code",
      "metadata": {
        "id": "52bYMFnQprcf",
        "colab_type": "code",
        "colab": {}
      },
      "source": [
        "#THIS NOTEBOOK WAS CREATED TO USE TF NLP FOR IPIP ITEMS"
      ],
      "execution_count": 0,
      "outputs": []
    },
    {
      "cell_type": "code",
      "metadata": {
        "id": "jkBl41YZNuzj",
        "colab_type": "code",
        "colab": {}
      },
      "source": [
        "import pandas as pd\n",
        "import os\n",
        "import numpy as np\n",
        "import tensorflow as tf"
      ],
      "execution_count": 0,
      "outputs": []
    },
    {
      "cell_type": "code",
      "metadata": {
        "id": "3HmQPn2QLInf",
        "colab_type": "code",
        "colab": {
          "base_uri": "https://localhost:8080/",
          "height": 34
        },
        "outputId": "67b3cc7a-30a2-4505-861e-9e81ff8205f8"
      },
      "source": [
        "print(tf.__version__)"
      ],
      "execution_count": 2,
      "outputs": [
        {
          "output_type": "stream",
          "text": [
            "2.0.0\n"
          ],
          "name": "stdout"
        }
      ]
    },
    {
      "cell_type": "code",
      "metadata": {
        "id": "9Di92YMtLRR-",
        "colab_type": "code",
        "colab": {
          "base_uri": "https://localhost:8080/",
          "height": 1000
        },
        "outputId": "61161542-35d6-4e09-d25a-469698d51607"
      },
      "source": [
        "#!pip install tensorflow==2.0.0"
      ],
      "execution_count": 18,
      "outputs": [
        {
          "output_type": "stream",
          "text": [
            "Collecting tensorflow==2.0.0\n",
            "\u001b[?25l  Downloading https://files.pythonhosted.org/packages/46/0f/7bd55361168bb32796b360ad15a25de6966c9c1beb58a8e30c01c8279862/tensorflow-2.0.0-cp36-cp36m-manylinux2010_x86_64.whl (86.3MB)\n",
            "\u001b[K     |████████████████████████████████| 86.3MB 52kB/s \n",
            "\u001b[?25hRequirement already satisfied: google-pasta>=0.1.6 in /usr/local/lib/python3.6/dist-packages (from tensorflow==2.0.0) (0.1.8)\n",
            "Requirement already satisfied: protobuf>=3.6.1 in /usr/local/lib/python3.6/dist-packages (from tensorflow==2.0.0) (3.10.0)\n",
            "Collecting tensorboard<2.1.0,>=2.0.0\n",
            "\u001b[?25l  Downloading https://files.pythonhosted.org/packages/76/54/99b9d5d52d5cb732f099baaaf7740403e83fe6b0cedde940fabd2b13d75a/tensorboard-2.0.2-py3-none-any.whl (3.8MB)\n",
            "\u001b[K     |████████████████████████████████| 3.8MB 48.4MB/s \n",
            "\u001b[?25hRequirement already satisfied: grpcio>=1.8.6 in /usr/local/lib/python3.6/dist-packages (from tensorflow==2.0.0) (1.15.0)\n",
            "Requirement already satisfied: six>=1.10.0 in /usr/local/lib/python3.6/dist-packages (from tensorflow==2.0.0) (1.12.0)\n",
            "Requirement already satisfied: wheel>=0.26 in /usr/local/lib/python3.6/dist-packages (from tensorflow==2.0.0) (0.33.6)\n",
            "Requirement already satisfied: astor>=0.6.0 in /usr/local/lib/python3.6/dist-packages (from tensorflow==2.0.0) (0.8.1)\n",
            "Requirement already satisfied: termcolor>=1.1.0 in /usr/local/lib/python3.6/dist-packages (from tensorflow==2.0.0) (1.1.0)\n",
            "Requirement already satisfied: keras-applications>=1.0.8 in /usr/local/lib/python3.6/dist-packages (from tensorflow==2.0.0) (1.0.8)\n",
            "Requirement already satisfied: absl-py>=0.7.0 in /usr/local/lib/python3.6/dist-packages (from tensorflow==2.0.0) (0.8.1)\n",
            "Requirement already satisfied: keras-preprocessing>=1.0.5 in /usr/local/lib/python3.6/dist-packages (from tensorflow==2.0.0) (1.1.0)\n",
            "Collecting tensorflow-estimator<2.1.0,>=2.0.0\n",
            "\u001b[?25l  Downloading https://files.pythonhosted.org/packages/fc/08/8b927337b7019c374719145d1dceba21a8bb909b93b1ad6f8fb7d22c1ca1/tensorflow_estimator-2.0.1-py2.py3-none-any.whl (449kB)\n",
            "\u001b[K     |████████████████████████████████| 450kB 44.4MB/s \n",
            "\u001b[?25hRequirement already satisfied: wrapt>=1.11.1 in /usr/local/lib/python3.6/dist-packages (from tensorflow==2.0.0) (1.11.2)\n",
            "Requirement already satisfied: numpy<2.0,>=1.16.0 in /usr/local/lib/python3.6/dist-packages (from tensorflow==2.0.0) (1.17.4)\n",
            "Requirement already satisfied: gast==0.2.2 in /usr/local/lib/python3.6/dist-packages (from tensorflow==2.0.0) (0.2.2)\n",
            "Requirement already satisfied: opt-einsum>=2.3.2 in /usr/local/lib/python3.6/dist-packages (from tensorflow==2.0.0) (3.1.0)\n",
            "Requirement already satisfied: setuptools in /usr/local/lib/python3.6/dist-packages (from protobuf>=3.6.1->tensorflow==2.0.0) (42.0.2)\n",
            "Collecting google-auth<2,>=1.6.3\n",
            "\u001b[?25l  Downloading https://files.pythonhosted.org/packages/36/f8/84b5771faec3eba9fe0c91c8c5896364a8ba08852c0dea5ad2025026dd95/google_auth-1.10.0-py2.py3-none-any.whl (76kB)\n",
            "\u001b[K     |████████████████████████████████| 81kB 9.7MB/s \n",
            "\u001b[?25hRequirement already satisfied: markdown>=2.6.8 in /usr/local/lib/python3.6/dist-packages (from tensorboard<2.1.0,>=2.0.0->tensorflow==2.0.0) (3.1.1)\n",
            "Requirement already satisfied: requests<3,>=2.21.0 in /usr/local/lib/python3.6/dist-packages (from tensorboard<2.1.0,>=2.0.0->tensorflow==2.0.0) (2.21.0)\n",
            "Requirement already satisfied: werkzeug>=0.11.15 in /usr/local/lib/python3.6/dist-packages (from tensorboard<2.1.0,>=2.0.0->tensorflow==2.0.0) (0.16.0)\n",
            "Requirement already satisfied: google-auth-oauthlib<0.5,>=0.4.1 in /usr/local/lib/python3.6/dist-packages (from tensorboard<2.1.0,>=2.0.0->tensorflow==2.0.0) (0.4.1)\n",
            "Requirement already satisfied: h5py in /usr/local/lib/python3.6/dist-packages (from keras-applications>=1.0.8->tensorflow==2.0.0) (2.8.0)\n",
            "Requirement already satisfied: cachetools<5.0,>=2.0.0 in /usr/local/lib/python3.6/dist-packages (from google-auth<2,>=1.6.3->tensorboard<2.1.0,>=2.0.0->tensorflow==2.0.0) (4.0.0)\n",
            "Requirement already satisfied: rsa<4.1,>=3.1.4 in /usr/local/lib/python3.6/dist-packages (from google-auth<2,>=1.6.3->tensorboard<2.1.0,>=2.0.0->tensorflow==2.0.0) (4.0)\n",
            "Requirement already satisfied: pyasn1-modules>=0.2.1 in /usr/local/lib/python3.6/dist-packages (from google-auth<2,>=1.6.3->tensorboard<2.1.0,>=2.0.0->tensorflow==2.0.0) (0.2.7)\n",
            "Requirement already satisfied: idna<2.9,>=2.5 in /usr/local/lib/python3.6/dist-packages (from requests<3,>=2.21.0->tensorboard<2.1.0,>=2.0.0->tensorflow==2.0.0) (2.8)\n",
            "Requirement already satisfied: urllib3<1.25,>=1.21.1 in /usr/local/lib/python3.6/dist-packages (from requests<3,>=2.21.0->tensorboard<2.1.0,>=2.0.0->tensorflow==2.0.0) (1.24.3)\n",
            "Requirement already satisfied: chardet<3.1.0,>=3.0.2 in /usr/local/lib/python3.6/dist-packages (from requests<3,>=2.21.0->tensorboard<2.1.0,>=2.0.0->tensorflow==2.0.0) (3.0.4)\n",
            "Requirement already satisfied: certifi>=2017.4.17 in /usr/local/lib/python3.6/dist-packages (from requests<3,>=2.21.0->tensorboard<2.1.0,>=2.0.0->tensorflow==2.0.0) (2019.11.28)\n",
            "Requirement already satisfied: requests-oauthlib>=0.7.0 in /usr/local/lib/python3.6/dist-packages (from google-auth-oauthlib<0.5,>=0.4.1->tensorboard<2.1.0,>=2.0.0->tensorflow==2.0.0) (1.3.0)\n",
            "Requirement already satisfied: pyasn1>=0.1.3 in /usr/local/lib/python3.6/dist-packages (from rsa<4.1,>=3.1.4->google-auth<2,>=1.6.3->tensorboard<2.1.0,>=2.0.0->tensorflow==2.0.0) (0.4.8)\n",
            "Requirement already satisfied: oauthlib>=3.0.0 in /usr/local/lib/python3.6/dist-packages (from requests-oauthlib>=0.7.0->google-auth-oauthlib<0.5,>=0.4.1->tensorboard<2.1.0,>=2.0.0->tensorflow==2.0.0) (3.1.0)\n",
            "\u001b[31mERROR: tensorboard 2.0.2 has requirement grpcio>=1.24.3, but you'll have grpcio 1.15.0 which is incompatible.\u001b[0m\n",
            "\u001b[31mERROR: google-colab 1.0.0 has requirement google-auth~=1.4.0, but you'll have google-auth 1.10.0 which is incompatible.\u001b[0m\n",
            "Installing collected packages: google-auth, tensorboard, tensorflow-estimator, tensorflow\n",
            "  Found existing installation: google-auth 1.4.2\n",
            "    Uninstalling google-auth-1.4.2:\n",
            "      Successfully uninstalled google-auth-1.4.2\n",
            "  Found existing installation: tensorboard 1.15.0\n",
            "    Uninstalling tensorboard-1.15.0:\n",
            "      Successfully uninstalled tensorboard-1.15.0\n",
            "  Found existing installation: tensorflow-estimator 1.15.1\n",
            "    Uninstalling tensorflow-estimator-1.15.1:\n",
            "      Successfully uninstalled tensorflow-estimator-1.15.1\n",
            "  Found existing installation: tensorflow 1.15.0\n",
            "    Uninstalling tensorflow-1.15.0:\n",
            "      Successfully uninstalled tensorflow-1.15.0\n",
            "Successfully installed google-auth-1.10.0 tensorboard-2.0.2 tensorflow-2.0.0 tensorflow-estimator-2.0.1\n"
          ],
          "name": "stdout"
        },
        {
          "output_type": "display_data",
          "data": {
            "application/vnd.colab-display-data+json": {
              "pip_warning": {
                "packages": [
                  "google",
                  "tensorboard",
                  "tensorflow",
                  "tensorflow_core",
                  "tensorflow_estimator"
                ]
              }
            }
          },
          "metadata": {
            "tags": []
          }
        }
      ]
    },
    {
      "cell_type": "markdown",
      "metadata": {
        "id": "OVnl38Ttp19e",
        "colab_type": "text"
      },
      "source": [
        "DATA LOADING"
      ]
    },
    {
      "cell_type": "code",
      "metadata": {
        "id": "7WLvGKL-p1Qx",
        "colab_type": "code",
        "outputId": "f0ffc585-ea6d-4263-ae80-a610317cbd9e",
        "colab": {
          "base_uri": "https://localhost:8080/",
          "height": 54
        }
      },
      "source": [
        "# mount google drive\n",
        "from google.colab import drive\n",
        "drive.mount('/content/drive')"
      ],
      "execution_count": 3,
      "outputs": [
        {
          "output_type": "stream",
          "text": [
            "Drive already mounted at /content/drive; to attempt to forcibly remount, call drive.mount(\"/content/drive\", force_remount=True).\n"
          ],
          "name": "stdout"
        }
      ]
    },
    {
      "cell_type": "code",
      "metadata": {
        "id": "4dy0KLWPG_WD",
        "colab_type": "code",
        "outputId": "5670f113-e9ca-416c-bb22-302e6e0470fa",
        "colab": {
          "base_uri": "https://localhost:8080/",
          "height": 276
        }
      },
      "source": [
        "#!pip install pydrive"
      ],
      "execution_count": 0,
      "outputs": [
        {
          "output_type": "stream",
          "text": [
            "Requirement already satisfied: pydrive in /usr/local/lib/python3.6/dist-packages (1.3.1)\n",
            "Requirement already satisfied: google-api-python-client>=1.2 in /usr/local/lib/python3.6/dist-packages (from pydrive) (1.7.11)\n",
            "Requirement already satisfied: PyYAML>=3.0 in /usr/local/lib/python3.6/dist-packages (from pydrive) (3.13)\n",
            "Requirement already satisfied: oauth2client>=4.0.0 in /usr/local/lib/python3.6/dist-packages (from pydrive) (4.1.3)\n",
            "Requirement already satisfied: six<2dev,>=1.6.1 in /usr/local/lib/python3.6/dist-packages (from google-api-python-client>=1.2->pydrive) (1.12.0)\n",
            "Requirement already satisfied: google-auth>=1.4.1 in /usr/local/lib/python3.6/dist-packages (from google-api-python-client>=1.2->pydrive) (1.4.2)\n",
            "Requirement already satisfied: uritemplate<4dev,>=3.0.0 in /usr/local/lib/python3.6/dist-packages (from google-api-python-client>=1.2->pydrive) (3.0.0)\n",
            "Requirement already satisfied: google-auth-httplib2>=0.0.3 in /usr/local/lib/python3.6/dist-packages (from google-api-python-client>=1.2->pydrive) (0.0.3)\n",
            "Requirement already satisfied: httplib2<1dev,>=0.9.2 in /usr/local/lib/python3.6/dist-packages (from google-api-python-client>=1.2->pydrive) (0.11.3)\n",
            "Requirement already satisfied: pyasn1-modules>=0.0.5 in /usr/local/lib/python3.6/dist-packages (from oauth2client>=4.0.0->pydrive) (0.2.7)\n",
            "Requirement already satisfied: rsa>=3.1.4 in /usr/local/lib/python3.6/dist-packages (from oauth2client>=4.0.0->pydrive) (4.0)\n",
            "Requirement already satisfied: pyasn1>=0.1.7 in /usr/local/lib/python3.6/dist-packages (from oauth2client>=4.0.0->pydrive) (0.4.8)\n",
            "Requirement already satisfied: cachetools>=2.0.0 in /usr/local/lib/python3.6/dist-packages (from google-auth>=1.4.1->google-api-python-client>=1.2->pydrive) (4.0.0)\n"
          ],
          "name": "stdout"
        }
      ]
    },
    {
      "cell_type": "code",
      "metadata": {
        "id": "ZWPpXW6IMU24",
        "colab_type": "code",
        "colab": {}
      },
      "source": [
        "# dpath = os.path.join(r\"C:/Users/amead/Google Drive/active/machine learning/big5/big_five_items.csv\")\n",
        "dpath = os.path.join(\"/content/drive/My Drive/big_five_items.csv\")"
      ],
      "execution_count": 0,
      "outputs": []
    },
    {
      "cell_type": "code",
      "metadata": {
        "id": "3XVQVhbQMw-w",
        "colab_type": "code",
        "colab": {}
      },
      "source": [
        "data = pd.read_csv(dpath,low_memory=False, sep =\"\\t\", lineterminator='\\n', encoding='utf-8')"
      ],
      "execution_count": 0,
      "outputs": []
    },
    {
      "cell_type": "code",
      "metadata": {
        "id": "SG4JlWhqRMXE",
        "colab_type": "code",
        "outputId": "fc732232-69c1-40f4-c3d0-f6f30f2657f5",
        "colab": {
          "base_uri": "https://localhost:8080/",
          "height": 55
        }
      },
      "source": [
        "#with open(dpath, mode='rb') as f:\n",
        "#    print(f.read())"
      ],
      "execution_count": 0,
      "outputs": [
        {
          "output_type": "stream",
          "text": [
            "b'#ID\\tScale Item ID\\tScale\\tDirection\\tStem\\tInstrument\\r\\n1\\t1\\tNeuroticism\\t-\\tI seldom feel blue.\\tBFAS\\r\\n2\\t2\\tAgreeableness\\t-\\tI am not interested in other people\\'s problems.\\tBFAS\\r\\n3\\t3\\tConscientiousness\\t+\\tI carry out my plans.\\tBFAS\\r\\n4\\t4\\tExtraversion\\t+\\tI make friends easily.\\tBFAS\\r\\n5\\t5\\tOpenness\\t+\\tI am quick to understand things.\\tBFAS\\r\\n6\\t6\\tNeuroticism\\t+\\tI get angry easily.\\tBFAS\\r\\n7\\t7\\tAgreeableness\\t+\\tI respect authority.\\tBFAS\\r\\n8\\t8\\tConscientiousness\\t-\\tI leave my belongings around.\\tBFAS\\r\\n9\\t9\\tExtraversion\\t+\\tI take charge.\\tBFAS\\r\\n10\\t10\\tOpenness\\t+\\tI enjoy the beauty of nature.\\tBFAS\\r\\n11\\t11\\tNeuroticism\\t+\\tI am filled with doubts about things.\\tBFAS\\r\\n12\\t12\\tAgreeableness\\t+\\tI feel others\\' emotions.\\tBFAS\\r\\n13\\t13\\tConscientiousness\\t-\\tI waste my time.\\tBFAS\\r\\n14\\t14\\tExtraversion\\t-\\tI am hard to get to know.\\tBFAS\\r\\n15\\t15\\tOpenness\\t-\\tI have difficulty understanding abstract ideas.\\tBFAS\\r\\n16\\t16\\tNeuroticism\\t-\\tI rarely get irritated.\\tBFAS\\r\\n17\\t17\\tAgreeableness\\t-\\tI believe that I am better than others.\\tBFAS\\r\\n18\\t18\\tConscientiousness\\t+\\tI like order.\\tBFAS\\r\\n19\\t19\\tExtraversion\\t+\\tI have a strong personality.\\tBFAS\\r\\n20\\t20\\tOpenness\\t+\\tI believe in the importance of art.\\tBFAS\\r\\n21\\t21\\tNeuroticism\\t-\\tI feel comfortable with myself.\\tBFAS\\r\\n22\\t22\\tAgreeableness\\t+\\tI inquire about others\\' well-being.\\tBFAS\\r\\n23\\t23\\tConscientiousness\\t-\\tI find it difficult to get down to work.\\tBFAS\\r\\n24\\t24\\tExtraversion\\t-\\tI keep others at a distance.\\tBFAS\\r\\n25\\t25\\tOpenness\\t+\\tI can handle a lot of information.\\tBFAS\\r\\n26\\t26\\tNeuroticism\\t+\\tI get upset easily.\\tBFAS\\r\\n27\\t27\\tAgreeableness\\t+\\tI hate to seem pushy.\\tBFAS\\r\\n28\\t28\\tConscientiousness\\t+\\tI keep things tidy.\\tBFAS\\r\\n29\\t29\\tExtraversion\\t-\\tI lack the talent for influencing people.\\tBFAS\\r\\n30\\t30\\tOpenness\\t+\\tI love to reflect on things.\\tBFAS\\r\\n31\\t31\\tNeuroticism\\t+\\tI feel threatened easily.\\tBFAS\\r\\n32\\t32\\tAgreeableness\\t-\\tI can\\'t be bothered with other\\'s needs.\\tBFAS\\r\\n33\\t33\\tConscientiousness\\t-\\tI mess things up.\\tBFAS\\r\\n34\\t34\\tExtraversion\\t-\\tI reveal little about myself.\\tBFAS\\r\\n35\\t35\\tOpenness\\t+\\tI like to solve complex problems.\\tBFAS\\r\\n36\\t36\\tNeuroticism\\t-\\tI keep my emotions under control.\\tBFAS\\r\\n37\\t37\\tAgreeableness\\t-\\tI take advantage of others.\\tBFAS\\r\\n38\\t38\\tConscientiousness\\t+\\tI follow a schedule.\\tBFAS\\r\\n39\\t39\\tExtraversion\\t+\\tI know how to captivate people.\\tBFAS\\r\\n40\\t40\\tOpenness\\t+\\tI get deeply immersed in music.\\tBFAS\\r\\n41\\t41\\tNeuroticism\\t-\\tI rarely feel depressed.\\tBFAS\\r\\n42\\t42\\tAgreeableness\\t+\\tI sympathize with others\\' feelings.\\tBFAS\\r\\n43\\t43\\tConscientiousness\\t+\\tI finish what I start.\\tBFAS\\r\\n44\\t44\\tExtraversion\\t+\\tI warm up quickly to others.\\tBFAS\\r\\n45\\t45\\tOpenness\\t-\\tI avoid philosophical discussions.\\tBFAS\\r\\n46\\t46\\tNeuroticism\\t+\\tI change my mood a lot.\\tBFAS\\r\\n47\\t47\\tAgreeableness\\t+\\tI avoid imposing my will on others.\\tBFAS\\r\\n48\\t48\\tConscientiousness\\t-\\tI am not bothered by messy people.\\tBFAS\\r\\n49\\t49\\tExtraversion\\t-\\tI wait for others to lead the way.\\tBFAS\\r\\n50\\t50\\tOpenness\\t-\\tI do not like poetry.\\tBFAS\\r\\n51\\t51\\tNeuroticism\\t+\\tI worry about things.\\tBFAS\\r\\n52\\t52\\tAgreeableness\\t-\\tI am indifferent to the feelings of others.\\tBFAS\\r\\n53\\t53\\tConscientiousness\\t-\\tI don\\'t put my mind on the task at hand.\\tBFAS\\r\\n54\\t54\\tExtraversion\\t-\\tI rarely get caught up in the excitement.\\tBFAS\\r\\n55\\t55\\tOpenness\\t-\\tI avoid difficult reading material.\\tBFAS\\r\\n56\\t56\\tNeuroticism\\t-\\tI rarely lose my composure.\\tBFAS\\r\\n57\\t57\\tAgreeableness\\t+\\tI rarely put people under pressure.\\tBFAS\\r\\n58\\t58\\tConscientiousness\\t+\\tI want everything to be \\xe2\\x80\\x9cjust right.\\xe2\\x80\\x9d\\tBFAS\\r\\n59\\t59\\tExtraversion\\t+\\tI see myself as a good leader.\\tBFAS\\r\\n60\\t60\\tOpenness\\t-\\tI seldom notice the emotional aspects of paintings and pictures.\\tBFAS\\r\\n61\\t61\\tNeuroticism\\t+\\tI am easily discouraged.\\tBFAS\\r\\n62\\t62\\tAgreeableness\\t-\\tI take no time for others.\\tBFAS\\r\\n63\\t63\\tConscientiousness\\t+\\tI get things done quickly.\\tBFAS\\r\\n64\\t64\\tExtraversion\\t-\\tI am not a very enthusiastic person.\\tBFAS\\r\\n65\\t65\\tOpenness\\t+\\tI have a rich vocabulary.\\tBFAS\\r\\n66\\t66\\tNeuroticism\\t+\\tI am a person whose moods go up and down easily.\\tBFAS\\r\\n67\\t67\\tAgreeableness\\t-\\tI insult people.\\tBFAS\\r\\n68\\t68\\tConscientiousness\\t-\\tI am not bothered by disorder.\\tBFAS\\r\\n69\\t69\\tExtraversion\\t+\\tI can talk others into doing things.\\tBFAS\\r\\n70\\t70\\tOpenness\\t+\\tI need a creative outlet.\\tBFAS\\r\\n71\\t71\\tNeuroticism\\t-\\tI am not embarrassed easily.\\tBFAS\\r\\n72\\t72\\tAgreeableness\\t+\\tI take an interest in other people\\'s lives.\\tBFAS\\r\\n73\\t73\\tConscientiousness\\t+\\tI always know what I am doing.\\tBFAS\\r\\n74\\t74\\tExtraversion\\t+\\tI show my feelings when I\\'m happy.\\tBFAS\\r\\n75\\t75\\tOpenness\\t+\\tI think quickly.\\tBFAS\\r\\n76\\t76\\tNeuroticism\\t-\\tI am not easily annoyed.\\tBFAS\\r\\n77\\t77\\tAgreeableness\\t-\\tI seek conflict.\\tBFAS\\r\\n78\\t78\\tConscientiousness\\t-\\tI dislike routine.\\tBFAS\\r\\n79\\t79\\tExtraversion\\t-\\tI hold back my opinions.\\tBFAS\\r\\n80\\t80\\tOpenness\\t-\\tI seldom get lost in thought.\\tBFAS\\r\\n81\\t81\\tNeuroticism\\t+\\tI become overwhelmed by events.\\tBFAS\\r\\n82\\t82\\tAgreeableness\\t-\\tI don\\'t have a soft side.\\tBFAS\\r\\n83\\t83\\tConscientiousness\\t-\\tI postpone decisions.\\tBFAS\\r\\n84\\t84\\tExtraversion\\t+\\tI have a lot of fun.\\tBFAS\\r\\n85\\t85\\tOpenness\\t-\\tI learn things slowly.\\tBFAS\\r\\n86\\t86\\tNeuroticism\\t+\\tI get easily agitated.\\tBFAS\\r\\n87\\t87\\tAgreeableness\\t-\\tI love a good fight.\\tBFAS\\r\\n88\\t88\\tConscientiousness\\t+\\tI see that rules are observed.\\tBFAS\\r\\n89\\t89\\tExtraversion\\t+\\tI am the first to act.\\tBFAS\\r\\n90\\t90\\tOpenness\\t-\\tI seldom daydream.\\tBFAS\\r\\n91\\t91\\tNeuroticism\\t+\\tI am afraid of many things.\\tBFAS\\r\\n92\\t92\\tAgreeableness\\t+\\tI like to do things for others.\\tBFAS\\r\\n93\\t93\\tConscientiousness\\t-\\tI am easily distracted.\\tBFAS\\r\\n94\\t94\\tExtraversion\\t+\\tI laugh a lot.\\tBFAS\\r\\n95\\t95\\tOpenness\\t+\\tI formulate ideas clearly.\\tBFAS\\r\\n96\\t96\\tNeuroticism\\t+\\tI can be stirred up easily.\\tBFAS\\r\\n97\\t97\\tAgreeableness\\t-\\tI am out for my own personal gain.\\tBFAS\\r\\n98\\t98\\tConscientiousness\\t+\\tI want every detail taken care of.\\tBFAS\\r\\n99\\t99\\tExtraversion\\t-\\tI do not have an assertive personality.\\tBFAS\\r\\n100\\t100\\tOpenness\\t+\\tI see beauty in things that others might not notice.\\tBFAS\\r\\n101\\t1\\tExtraversion\\t+\\tis talkative\\tBFI\\r\\n102\\t2\\tAgreeableness\\t-\\ttends to find fault with others\\tBFI\\r\\n103\\t3\\tConscientiousness\\t+\\tdoes a thorough job\\tBFI\\r\\n104\\t4\\tNeuroticism\\t+\\tis depressed, blue\\tBFI\\r\\n105\\t5\\tOpenness\\t+\\tis original, comes up with new ideas\\tBFI\\r\\n106\\t6\\tExtraversion\\t-\\tis reserved\\tBFI\\r\\n107\\t7\\tAgreeableness\\t+\\tis helpful and unselfish with others\\tBFI\\r\\n108\\t8\\tConscientiousness\\t-\\tcan be somewhat careless\\tBFI\\r\\n109\\t9\\tNeuroticism\\t-\\tis relaxed, handles stress well\\tBFI\\r\\n110\\t10\\tOpenness\\t+\\tis curious about many different things\\tBFI\\r\\n111\\t11\\tExtraversion\\t+\\tis full of energy\\tBFI\\r\\n112\\t12\\tAgreeableness\\t-\\tstarts quarrels with others\\tBFI\\r\\n113\\t13\\tConscientiousness\\t+\\tis a reliable worker\\tBFI\\r\\n114\\t14\\tNeuroticism\\t+\\tcan be tense\\tBFI\\r\\n115\\t15\\tOpenness\\t+\\tis ingenious, a deep thinker\\tBFI\\r\\n116\\t16\\tExtraversion\\t+\\tgenerates a lot of enthusiasm\\tBFI\\r\\n117\\t17\\tAgreeableness\\t+\\thas a forgiving nature\\tBFI\\r\\n118\\t18\\tConscientiousness\\t-\\ttends to be disorganized\\tBFI\\r\\n119\\t19\\tNeuroticism\\t+\\tworries a lot\\tBFI\\r\\n120\\t20\\tOpenness\\t+\\thas an active imagination\\tBFI\\r\\n121\\t21\\tExtraversion\\t-\\ttends to be quiet\\tBFI\\r\\n122\\t22\\tAgreeableness\\t+\\tis generally trusting\\tBFI\\r\\n123\\t23\\tConscientiousness\\t-\\ttends to be lazy\\tBFI\\r\\n124\\t24\\tNeuroticism\\t-\\tis emotionally stable, not easily upset\\tBFI\\r\\n125\\t25\\tOpenness\\t+\\tis inventive\\tBFI\\r\\n126\\t26\\tExtraversion\\t+\\thas an assertive personality\\tBFI\\r\\n127\\t27\\tAgreeableness\\t-\\tcan be cold and aloof\\tBFI\\r\\n128\\t28\\tConscientiousness\\t+\\tperseveres until the task is finished\\tBFI\\r\\n129\\t29\\tNeuroticism\\t+\\tcan be moody\\tBFI\\r\\n130\\t30\\tOpenness\\t+\\tvalues artistic, aesthetic experiences\\tBFI\\r\\n131\\t31\\tExtraversion\\t-\\tis sometimes shy, inhibited\\tBFI\\r\\n132\\t32\\tAgreeableness\\t+\\tis considerate and kind to almost everyone\\tBFI\\r\\n133\\t33\\tConscientiousness\\t+\\tdoes things efficiently\\tBFI\\r\\n134\\t34\\tNeuroticism\\t-\\tremains calm in tense situations\\tBFI\\r\\n135\\t35\\tOpenness\\t-\\tprefers work that is routine\\tBFI\\r\\n136\\t36\\tExtraversion\\t+\\tis outgoing, sociable\\tBFI\\r\\n137\\t37\\tAgreeableness\\t-\\tis sometimes rude to others\\tBFI\\r\\n138\\t38\\tConscientiousness\\t+\\tmakes plans and follows through with them\\tBFI\\r\\n139\\t39\\tNeuroticism\\t+\\tgets nervous easily\\tBFI\\r\\n140\\t40\\tOpenness\\t+\\tlikes to reflect, play with ideas\\tBFI\\r\\n141\\t41\\tOpenness\\t-\\thas few artistic interests\\tBFI\\r\\n142\\t42\\tAgreeableness\\t+\\tlikes to cooperate with others\\tBFI\\r\\n143\\t43\\tConscientiousness\\t-\\tis easily distracted\\tBFI\\r\\n144\\t44\\tOpenness\\t+\\tis sophisticated in art, music, or literature\\tBFI\\r\\n145\\t45\\tOpenness\\t+\\tis politically liberal\\tBFI\\r\\n146\\t1\\tExtraversion\\t+\\tactive\\tGoldberg92\\r\\n147\\t1\\tExtraversion\\t+\\tActive\\tGoldberg92\\r\\n148\\t2\\tAgreeableness\\t+\\tAgreeable\\tGoldberg92\\r\\n149\\t2\\tExtraversion\\t+\\tadventurous\\tGoldberg92\\r\\n150\\t3\\tAgreeableness\\t+\\tagreeable\\tGoldberg92\\r\\n151\\t3\\tNeuroticism\\t+\\tAnxious\\tGoldberg92\\r\\n152\\t4\\tOpenness\\t+\\tanalytical\\tGoldberg92\\r\\n153\\t4\\tOpenness\\t+\\tArtistic\\tGoldberg92\\r\\n154\\t5\\tExtraversion\\t+\\tAssertive\\tGoldberg92\\r\\n155\\t5\\tNeuroticism\\t-\\tangry\\tGoldberg92\\r\\n156\\t6\\tExtraversion\\t+\\tassertive\\tGoldberg92\\r\\n157\\t6\\tExtraversion\\t-\\tBashful\\tGoldberg92\\r\\n158\\t7\\tExtraversion\\t+\\tBold\\tGoldberg92\\r\\n159\\t7\\tNeuroticism\\t+\\tat ease\\tGoldberg92\\r\\n160\\t8\\tExtraversion\\t+\\tbold\\tGoldberg92\\r\\n161\\t8\\tOpenness\\t+\\tBright\\tGoldberg92\\r\\n162\\t9\\tConscientiousness\\t+\\tCareful\\tGoldberg92\\r\\n163\\t9\\tNeuroticism\\t+\\tcalm\\tGoldberg92\\r\\n164\\t10\\tConscientiousness\\t-\\tcareless\\tGoldberg92\\r\\n165\\t10\\tConscientiousness\\t-\\tCareless\\tGoldberg92\\r\\n166\\t11\\tAgreeableness\\t-\\tcold\\tGoldberg92\\r\\n167\\t11\\tAgreeableness\\t-\\tCold\\tGoldberg92\\r\\n168\\t12\\tConscientiousness\\t+\\tconscientious\\tGoldberg92\\r\\n169\\t12\\tOpenness\\t+\\tComplex\\tGoldberg92\\r\\n170\\t13\\tConscientiousness\\t+\\tConscientious\\tGoldberg92\\r\\n171\\t13\\tNeuroticism\\t+\\tcontented\\tGoldberg92\\r\\n172\\t14\\tAgreeableness\\t+\\tcooperative\\tGoldberg92\\r\\n173\\t14\\tAgreeableness\\t+\\tConsiderate\\tGoldberg92\\r\\n174\\t15\\tAgreeableness\\t+\\tCooperative\\tGoldberg92\\r\\n175\\t15\\tOpenness\\t+\\tcreative\\tGoldberg92\\r\\n176\\t16\\tOpenness\\t+\\tcurious\\tGoldberg92\\r\\n177\\t16\\tOpenness\\t+\\tCreative\\tGoldberg92\\r\\n178\\t17\\tAgreeableness\\t-\\tdisagreeable\\tGoldberg92\\r\\n179\\t17\\tExtraversion\\t+\\tDaring\\tGoldberg92\\r\\n180\\t18\\tNeuroticism\\t-\\tdiscontented\\tGoldberg92\\r\\n181\\t18\\tOpenness\\t+\\tDeep\\tGoldberg92\\r\\n182\\t19\\tAgreeableness\\t-\\tDemanding\\tGoldberg92\\r\\n183\\t19\\tConscientiousness\\t-\\tdisorganized\\tGoldberg92\\r\\n184\\t20\\tAgreeableness\\t-\\tdistrustful\\tGoldberg92\\r\\n185\\t20\\tConscientiousness\\t-\\tDisorganized\\tGoldberg92\\r\\n186\\t21\\tAgreeableness\\t-\\tDistrustful\\tGoldberg92\\r\\n187\\t21\\tNeuroticism\\t-\\temotional\\tGoldberg92\\r\\n188\\t22\\tConscientiousness\\t+\\tEfficient\\tGoldberg92\\r\\n189\\t22\\tExtraversion\\t+\\tenergetic\\tGoldberg92\\r\\n190\\t23\\tNeuroticism\\t-\\tenvious\\tGoldberg92\\r\\n191\\t23\\tNeuroticism\\t+\\tEmotional\\tGoldberg92\\r\\n192\\t24\\tConscientiousness\\t-\\textravagant\\tGoldberg92\\r\\n193\\t24\\tExtraversion\\t+\\tEnergetic\\tGoldberg92\\r\\n194\\t25\\tExtraversion\\t+\\textraverted\\tGoldberg92\\r\\n195\\t25\\tNeuroticism\\t+\\tEnvious\\tGoldberg92\\r\\n196\\t26\\tAgreeableness\\t+\\tgenerous\\tGoldberg92\\r\\n197\\t26\\tExtraversion\\t+\\tExtraverted\\tGoldberg92\\r\\n198\\t27\\tConscientiousness\\t+\\thardworking\\tGoldberg92\\r\\n199\\t27\\tNeuroticism\\t+\\tFearful\\tGoldberg92\\r\\n200\\t28\\tNeuroticism\\t+\\tFretful\\tGoldberg92\\r\\n201\\t28\\tOpenness\\t+\\timaginative\\tGoldberg92\\r\\n202\\t29\\tAgreeableness\\t+\\tGenerous\\tGoldberg92\\r\\n203\\t29\\tConscientiousness\\t-\\timpractical\\tGoldberg92\\r\\n204\\t30\\tConscientiousness\\t-\\tHaphazard\\tGoldberg92\\r\\n205\\t30\\tExtraversion\\t-\\tinactive\\tGoldberg92\\r\\n206\\t31\\tAgreeableness\\t-\\tHarsh\\tGoldberg92\\r\\n207\\t31\\tOpenness\\t+\\tintelligent\\tGoldberg92\\r\\n208\\t32\\tAgreeableness\\t+\\tHelpful\\tGoldberg92\\r\\n209\\t32\\tExtraversion\\t-\\tintroverted\\tGoldberg92\\r\\n210\\t33\\tConscientiousness\\t-\\tirresponsible\\tGoldberg92\\r\\n211\\t33\\tNeuroticism\\t+\\tHigh-strung\\tGoldberg92\\r\\n212\\t34\\tAgreeableness\\t+\\tkind\\tGoldberg92\\r\\n213\\t34\\tOpenness\\t+\\tImaginative\\tGoldberg92\\r\\n214\\t35\\tConscientiousness\\t-\\tlazy\\tGoldberg92\\r\\n215\\t35\\tOpenness\\t-\\tImperceptive\\tGoldberg92\\r\\n216\\t36\\tConscientiousness\\t-\\tnegligent\\tGoldberg92\\r\\n217\\t36\\tNeuroticism\\t-\\tImperturbable\\tGoldberg92\\r\\n218\\t37\\tConscientiousness\\t-\\tImpractical\\tGoldberg92\\r\\n219\\t37\\tNeuroticism\\t-\\tnervous\\tGoldberg92\\r\\n220\\t38\\tConscientiousness\\t-\\tInconsistent\\tGoldberg92\\r\\n221\\t38\\tNeuroticism\\t+\\tnot envious\\tGoldberg92\\r\\n222\\t39\\tConscientiousness\\t+\\torganized\\tGoldberg92\\r\\n223\\t39\\tConscientiousness\\t-\\tInefficient\\tGoldberg92\\r\\n224\\t40\\tConscientiousness\\t+\\tpractical\\tGoldberg92\\r\\n225\\t40\\tExtraversion\\t-\\tInhibited\\tGoldberg92\\r\\n226\\t41\\tOpenness\\t+\\treflective\\tGoldberg92\\r\\n227\\t41\\tOpenness\\t+\\tInnovative\\tGoldberg92\\r\\n228\\t42\\tNeuroticism\\t+\\trelaxed\\tGoldberg92\\r\\n229\\t42\\tNeuroticism\\t+\\tInsecure\\tGoldberg92\\r\\n230\\t43\\tConscientiousness\\t+\\tresponsible\\tGoldberg92\\r\\n231\\t43\\tOpenness\\t+\\tIntellectual\\tGoldberg92\\r\\n232\\t44\\tAgreeableness\\t-\\tselfish\\tGoldberg92\\r\\n233\\t44\\tOpenness\\t+\\tIntrospective\\tGoldberg92\\r\\n234\\t45\\tExtraversion\\t-\\tsilent\\tGoldberg92\\r\\n235\\t45\\tExtraversion\\t-\\tIntroverted\\tGoldberg92\\r\\n236\\t46\\tNeuroticism\\t+\\tIrritable\\tGoldberg92\\r\\n237\\t46\\tOpenness\\t+\\tsophisticated\\tGoldberg92\\r\\n238\\t47\\tNeuroticism\\t+\\tstable\\tGoldberg92\\r\\n239\\t47\\tNeuroticism\\t+\\tJealous\\tGoldberg92\\r\\n240\\t48\\tAgreeableness\\t-\\tstingy\\tGoldberg92\\r\\n241\\t48\\tAgreeableness\\t+\\tKind\\tGoldberg92\\r\\n242\\t49\\tExtraversion\\t+\\ttalkative\\tGoldberg92\\r\\n243\\t49\\tNeuroticism\\t+\\tMoody\\tGoldberg92\\r\\n244\\t50\\tConscientiousness\\t+\\tNeat\\tGoldberg92\\r\\n245\\t50\\tNeuroticism\\t-\\ttense\\tGoldberg92\\r\\n246\\t51\\tConscientiousness\\t+\\tthorough\\tGoldberg92\\r\\n247\\t51\\tConscientiousness\\t-\\tNegligent\\tGoldberg92\\r\\n248\\t52\\tConscientiousness\\t+\\tthrifty\\tGoldberg92\\r\\n249\\t52\\tNeuroticism\\t+\\tNervous\\tGoldberg92\\r\\n250\\t53\\tConscientiousness\\t+\\tOrganized\\tGoldberg92\\r\\n251\\t53\\tExtraversion\\t-\\ttimid\\tGoldberg92\\r\\n252\\t54\\tAgreeableness\\t+\\ttrustful\\tGoldberg92\\r\\n253\\t54\\tOpenness\\t+\\tPhilosophical\\tGoldberg92\\r\\n254\\t55\\tAgreeableness\\t+\\tPleasant\\tGoldberg92\\r\\n255\\t55\\tExtraversion\\t-\\tunadventurous\\tGoldberg92\\r\\n256\\t56\\tConscientiousness\\t+\\tPractical\\tGoldberg92\\r\\n257\\t56\\tOpenness\\t-\\tunanalytical\\tGoldberg92\\r\\n258\\t57\\tConscientiousness\\t+\\tPrompt\\tGoldberg92\\r\\n259\\t57\\tExtraversion\\t-\\tunassertive\\tGoldberg92\\r\\n260\\t58\\tAgreeableness\\t-\\tuncooperative\\tGoldberg92\\r\\n261\\t58\\tExtraversion\\t-\\tQuiet\\tGoldberg92\\r\\n262\\t59\\tNeuroticism\\t-\\tRelaxed\\tGoldberg92\\r\\n263\\t59\\tOpenness\\t-\\tuncreative\\tGoldberg92\\r\\n264\\t60\\tExtraversion\\t-\\tReserved\\tGoldberg92\\r\\n265\\t60\\tNeuroticism\\t+\\tunemotional\\tGoldberg92\\r\\n266\\t61\\tAgreeableness\\t-\\tRude\\tGoldberg92\\r\\n267\\t61\\tExtraversion\\t-\\tunenergetic\\tGoldberg92\\r\\n268\\t62\\tAgreeableness\\t-\\tSelfish\\tGoldberg92\\r\\n269\\t62\\tOpenness\\t-\\tunimaginative\\tGoldberg92\\r\\n270\\t63\\tNeuroticism\\t+\\tSelf-pitying\\tGoldberg92\\r\\n271\\t63\\tOpenness\\t-\\tuninquisitive\\tGoldberg92\\r\\n272\\t64\\tOpenness\\t-\\tunintelligent\\tGoldberg92\\r\\n273\\t64\\tOpenness\\t-\\tShallow\\tGoldberg92\\r\\n274\\t65\\tAgreeableness\\t-\\tunkind\\tGoldberg92\\r\\n275\\t65\\tExtraversion\\t-\\tShy\\tGoldberg92\\r\\n276\\t66\\tOpenness\\t-\\tunreflective\\tGoldberg92\\r\\n277\\t66\\tOpenness\\t-\\tSimple\\tGoldberg92\\r\\n278\\t67\\tAgreeableness\\t+\\tunselfish\\tGoldberg92\\r\\n279\\t67\\tConscientiousness\\t-\\tSloppy\\tGoldberg92\\r\\n280\\t68\\tConscientiousness\\t+\\tSteady\\tGoldberg92\\r\\n281\\t68\\tOpenness\\t-\\tunsophisticated\\tGoldberg92\\r\\n282\\t69\\tAgreeableness\\t+\\tSympathetic\\tGoldberg92\\r\\n283\\t69\\tNeuroticism\\t-\\tunstable\\tGoldberg92\\r\\n284\\t70\\tAgreeableness\\t+\\twarm\\tGoldberg92\\r\\n285\\t70\\tConscientiousness\\t+\\tSystematic\\tGoldberg92\\r\\n286\\t71\\tExtraversion\\t+\\tTalkative\\tGoldberg92\\r\\n287\\t72\\tNeuroticism\\t+\\tTemperamental\\tGoldberg92\\r\\n288\\t73\\tConscientiousness\\t+\\tThorough\\tGoldberg92\\r\\n289\\t74\\tExtraversion\\t-\\tTimid\\tGoldberg92\\r\\n290\\t75\\tNeuroticism\\t+\\tTouchy\\tGoldberg92\\r\\n291\\t76\\tAgreeableness\\t+\\tTrustful\\tGoldberg92\\r\\n292\\t77\\tExtraversion\\t-\\tUnadventurous\\tGoldberg92\\r\\n293\\t78\\tAgreeableness\\t-\\tUncharitable\\tGoldberg92\\r\\n294\\t79\\tAgreeableness\\t-\\tUncooperative\\tGoldberg92\\r\\n295\\t80\\tOpenness\\t-\\tUncreative\\tGoldberg92\\r\\n296\\t81\\tConscientiousness\\t-\\tUndefendable\\tGoldberg92\\r\\n297\\t82\\tNeuroticism\\t-\\tUndemanding\\tGoldberg92\\r\\n298\\t83\\tNeuroticism\\t-\\tUnemotional\\tGoldberg92\\r\\n299\\t84\\tNeuroticism\\t-\\tUnenvious\\tGoldberg92\\r\\n300\\t85\\tNeuroticism\\t-\\tUnexcitable\\tGoldberg92\\r\\n301\\t86\\tOpenness\\t-\\tUnimaginative\\tGoldberg92\\r\\n302\\t87\\tOpenness\\t-\\tUninquisitive\\tGoldberg92\\r\\n303\\t88\\tOpenness\\t-\\tUnintellectual\\tGoldberg92\\r\\n304\\t89\\tOpenness\\t-\\tUnintelligent\\tGoldberg92\\r\\n305\\t90\\tAgreeableness\\t-\\tUnkind\\tGoldberg92\\r\\n306\\t91\\tOpenness\\t-\\tUnreflective\\tGoldberg92\\r\\n307\\t92\\tExtraversion\\t+\\tUnrestrained\\tGoldberg92\\r\\n308\\t93\\tOpenness\\t-\\tUnsophisticated\\tGoldberg92\\r\\n309\\t94\\tAgreeableness\\t-\\tUnsympathetic\\tGoldberg92\\r\\n310\\t95\\tConscientiousness\\t-\\tUnsystematic\\tGoldberg92\\r\\n311\\t96\\tExtraversion\\t-\\tUntalkative\\tGoldberg92\\r\\n312\\t97\\tExtraversion\\t+\\tVerbal\\tGoldberg92\\r\\n313\\t98\\tExtraversion\\t+\\tVigorous\\tGoldberg92\\r\\n314\\t99\\tAgreeableness\\t+\\tWarm\\tGoldberg92\\r\\n315\\t100\\tExtraversion\\t-\\tWithdrawn\\tGoldberg92\\r\\n316\\tE119\\tConscientiousness\\t+\\tI get chores done right away.\\tIPIP\\r\\n317\\tE136\\tAgreeableness\\t+\\tI feel others\\' emotions.\\tIPIP\\r\\n318\\tE141\\tNeuroticism\\t-\\tI am relaxed most of the time.\\tIPIP\\r\\n319\\tE171\\tOpenness\\t-\\tI try to avoid complex people.\\tIPIP\\r\\n320\\tE92\\tNeuroticism\\t+\\tI have frequent mood swings.\\tIPIP\\r\\n321\\tH1\\tExtraversion\\t+\\tI feel at ease with people.\\tIPIP\\r\\n322\\tH1039\\tExtraversion\\t-\\tI have little to say.\\tIPIP\\r\\n323\\tH107\\tAgreeableness\\t+\\tI make people feel at ease.\\tIPIP\\r\\n324\\tH1103\\tAgreeableness\\t-\\tI insult people.\\tIPIP\\r\\n325\\tH1108\\tAgreeableness\\t+\\tI love to help others.\\tIPIP\\r\\n326\\tH1110\\tExtraversion\\t+\\tI know how to captivate people.\\tIPIP\\r\\n327\\tH1130\\tAgreeableness\\t+\\tI sympathize with others\\' feelings.\\tIPIP\\r\\n328\\tH1133\\tNeuroticism\\t+\\tI grumble about things.\\tIPIP\\r\\n329\\tH1140\\tConscientiousness\\t-\\tI shirk my duties.\\tIPIP\\r\\n330\\tH1146\\tExtraversion\\t-\\tI bottle up my feelings.\\tIPIP\\r\\n331\\tH1157\\tNeuroticism\\t+\\tI worry about things.\\tIPIP\\r\\n332\\tH1171\\tConscientiousness\\t-\\tI find it difficult to get down to work.\\tIPIP\\r\\n333\\tH1186\\tConscientiousness\\t-\\tI waste my time.\\tIPIP\\r\\n334\\tH1189\\tConscientiousness\\t-\\tI neglect my duties.\\tIPIP\\r\\n335\\tH1227\\tOpenness\\t+\\tI carry the conversation to a higher level.\\tIPIP\\r\\n336\\tH1246\\tOpenness\\t+\\tI am good at many things.\\tIPIP\\r\\n337\\tH126\\tAgreeableness\\t+\\tI think of others first.\\tIPIP\\r\\n338\\tH1272\\tOpenness\\t+\\tI use difficult words.\\tIPIP\\r\\n339\\tH1276\\tOpenness\\t+\\tI have a rich vocabulary.\\tIPIP\\r\\n340\\tH1313\\tOpenness\\t+\\tI have excellent ideas.\\tIPIP\\r\\n341\\tH1322\\tOpenness\\t+\\tI can handle a lot of information.\\tIPIP\\r\\n342\\tH1351\\tConscientiousness\\t+\\tI do things according to a plan.\\tIPIP\\r\\n343\\tH1362\\tConscientiousness\\t+\\tI pay attention to details.\\tIPIP\\r\\n344\\tH1366\\tExtraversion\\t+\\tI am skilled in handling social situations.\\tIPIP\\r\\n345\\tH1382\\tOpenness\\t-\\tI have difficulty imagining things.\\tIPIP\\r\\n346\\tH1392\\tOpenness\\t-\\tI will not probe deeply into a subject.\\tIPIP\\r\\n347\\tH1413\\tConscientiousness\\t-\\tI do things in a half-way manner.\\tIPIP\\r\\n348\\tH1467\\tConscientiousness\\t-\\tI make a mess of things.\\tIPIP\\r\\n349\\tH154\\tExtraversion\\t-\\tI keep in the background.\\tIPIP\\r\\n350\\tH16\\tExtraversion\\t+\\tI start conversations.\\tIPIP\\r\\n351\\tH160\\tAgreeableness\\t+\\tI take time out for others.\\tIPIP\\r\\n352\\tH173\\tAgreeableness\\t+\\tI know how to comfort others.\\tIPIP\\r\\n353\\tH21\\tAgreeableness\\t+\\tI am interested in people.\\tIPIP\\r\\n354\\tH22\\tAgreeableness\\t+\\tI have a good word for everyone.\\tIPIP\\r\\n355\\tH225\\tAgreeableness\\t+\\tI inquire about others\\' well-being.\\tIPIP\\r\\n356\\tH244\\tConscientiousness\\t+\\tI like to tidy up.\\tIPIP\\r\\n357\\tH286\\tConscientiousness\\t+\\tI continue until everything is perfect.\\tIPIP\\r\\n358\\tH29\\tExtraversion\\t+\\tI make friends easily.\\tIPIP\\r\\n359\\tH309\\tConscientiousness\\t+\\tI love order and regularity.\\tIPIP\\r\\n360\\tH334\\tExtraversion\\t+\\tI take charge.\\tIPIP\\r\\n361\\tH34\\tExtraversion\\t+\\tI am the life of the party.\\tIPIP\\r\\n362\\tH37\\tAgreeableness\\t+\\tI am on good terms with nearly everyone.\\tIPIP\\r\\n363\\tH53\\tOpenness\\t+\\tI am full of ideas.\\tIPIP\\r\\n364\\tH557\\tAgreeableness\\t+\\tI show my gratitude.\\tIPIP\\r\\n365\\tH589\\tExtraversion\\t-\\tI am a very private person.\\tIPIP\\r\\n366\\tH592\\tExtraversion\\t-\\tI find it difficult to approach others.\\tIPIP\\r\\n367\\tH596\\tAgreeableness\\t-\\tI am hard to get to know.\\tIPIP\\r\\n368\\tH612\\tNeuroticism\\t+\\tI feel threatened easily.\\tIPIP\\r\\n369\\tH661\\tExtraversion\\t-\\tI am quiet around strangers.\\tIPIP\\r\\n370\\tH754\\tNeuroticism\\t+\\tI get angry easily.\\tIPIP\\r\\n371\\tH761\\tNeuroticism\\t+\\tI get irritated easily.\\tIPIP\\r\\n372\\tH822\\tConscientiousness\\t-\\tI leave a mess in my room.\\tIPIP\\r\\n373\\tH823\\tConscientiousness\\t-\\tI leave my belongings around.\\tIPIP\\r\\n374\\tH909\\tExtraversion\\t-\\tI often feel uncomfortable around others.\\tIPIP\\r\\n375\\tH920\\tNeuroticism\\t+\\tI take offense easily.\\tIPIP\\r\\n376\\tH926\\tNeuroticism\\t+\\tI change my mood a lot.\\tIPIP\\r\\n377\\tH927\\tNeuroticism\\t+\\tI am easily disturbed.\\tIPIP\\r\\n378\\tH948\\tNeuroticism\\t+\\tI panic easily.\\tIPIP\\r\\n379\\tH950\\tNeuroticism\\t+\\tI get overwhelmed by emotions.\\tIPIP\\r\\n380\\tH976\\tExtraversion\\t-\\tI wait for others to lead the way.\\tIPIP\\r\\n381\\tX100\\tOpenness\\t+\\tI am quick to understand things.\\tIPIP\\r\\n382\\tX107\\tNeuroticism\\t+\\tI get stressed out easily.\\tIPIP\\r\\n383\\tX109\\tOpenness\\t-\\tI avoid difficult reading material.\\tIPIP\\r\\n384\\tX112\\tExtraversion\\t+\\tI feel comfortable around people.\\tIPIP\\r\\n385\\tX114\\tOpenness\\t+\\tI spend time reflecting on things.\\tIPIP\\r\\n386\\tX118\\tConscientiousness\\t+\\tI like order.\\tIPIP\\r\\n387\\tX120\\tNeuroticism\\t+\\tI get caught up in my problems.\\tIPIP\\r\\n388\\tX138\\tNeuroticism\\t-\\tI am not easily bothered by things.\\tIPIP\\r\\n389\\tX14\\tOpenness\\t+\\tI have a vivid imagination.\\tIPIP\\r\\n390\\tX156\\tNeuroticism\\t-\\tI seldom feel blue.\\tIPIP\\r\\n391\\tX163\\tConscientiousness\\t+\\tI am exacting in my work.\\tIPIP\\r\\n392\\tX165\\tAgreeableness\\t-\\tI am not really interested in others.\\tIPIP\\r\\n393\\tX176\\tOpenness\\t-\\tI have difficulty understanding abstract ideas.\\tIPIP\\r\\n394\\tX177\\tAgreeableness\\t+\\tI have a soft heart.\\tIPIP\\r\\n395\\tX179\\tConscientiousness\\t+\\tI follow a schedule.\\tIPIP\\r\\n396\\tX203\\tAgreeableness\\t-\\tI am indifferent to the feelings of others.\\tIPIP\\r\\n397\\tX211\\tOpenness\\t+\\tI love to read challenging material.\\tIPIP\\r\\n398\\tX225\\tOpenness\\t+\\tI love to think up new ways of doing things.\\tIPIP\\r\\n399\\tX227\\tAgreeableness\\t-\\tI am not interested in other people\\'s problems.\\tIPIP\\r\\n400\\tX228\\tOpenness\\t-\\tI am not interested in abstract ideas.\\tIPIP\\r\\n401\\tX231\\tNeuroticism\\t-\\tI seldom get mad.\\tIPIP\\r\\n402\\tX244\\tAgreeableness\\t-\\tI feel little concern for others.\\tIPIP\\r\\n403\\tX263\\tConscientiousness\\t+\\tI make plans and stick to them.\\tIPIP\\r\\n404\\tX265\\tNeuroticism\\t-\\tI rarely get irritated.\\tIPIP\\r\\n405\\tX272\\tOpenness\\t-\\tI do not have a good imagination.\\tIPIP\\r\\n406\\tX275\\tOpenness\\t+\\tI catch on to things quickly.\\tIPIP\\r\\n407\\tX56\\tExtraversion\\t-\\tI don\\'t talk a lot.\\tIPIP\\r\\n408\\tX68\\tExtraversion\\t-\\tI don\\'t like to draw attention to myself.\\tIPIP\\r\\n409\\tX73\\tAgreeableness\\t+\\tI love children.\\tIPIP\\r\\n410\\tX74\\tNeuroticism\\t+\\tI often feel blue.\\tIPIP\\r\\n411\\tX78\\tExtraversion\\t+\\tI don\\'t mind being the center of attention.\\tIPIP\\r\\n412\\tX82\\tConscientiousness\\t-\\tI often forget to put things back in their proper place.\\tIPIP\\r\\n413\\tX83\\tExtraversion\\t+\\tI talk to a lot of different people at parties.\\tIPIP\\r\\n414\\tX87\\tConscientiousness\\t+\\tI am always prepared.\\tIPIP\\r\\n415\\tX95\\tNeuroticism\\t+\\tI get upset easily.\\tIPIP\\r\\n416\\t1\\tNeuroticism\\t-\\tI am not a worrier.\\tNEO\\r\\n417\\t2\\tExtraversion\\t+\\tI really like most people I meet.\\tNEO\\r\\n418\\t3\\tOpenness\\t+\\tI have a very active imagination.\\tNEO\\r\\n419\\t4\\tAgreeableness\\t-\\tI tend to be cynical and skeptical of others\\' intentions.\\tNEO\\r\\n420\\t5\\tConscientiousness\\t+\\tI\\'m known for my prudence and common sense.\\tNEO\\r\\n421\\t6\\tNeuroticism\\t+\\tI often get angry at the way people treat me.\\tNEO\\r\\n422\\t7\\tExtraversion\\t-\\tI shy away from crowds of people.\\tNEO\\r\\n423\\t8\\tOpenness\\t-\\tAesthetic and artistic concerns aren\\'t very important to me.\\tNEO\\r\\n424\\t9\\tAgreeableness\\t+\\tI\\'m not crafty or sly.\\tNEO\\r\\n425\\t10\\tConscientiousness\\t-\\tI would rather keep my options open than plan everything in advance.\\tNEO\\r\\n426\\t11\\tNeuroticism\\t-\\tI rarely feel lonely or blue.\\tNEO\\r\\n427\\t12\\tExtraversion\\t+\\tI am dominant, forceful, and assertive.\\tNEO\\r\\n428\\t13\\tOpenness\\t+\\tWithout strong emotions, life would be uninteresting to me.\\tNEO\\r\\n429\\t14\\tAgreeableness\\t-\\tSome people think I\\'m selfish and egotistical.\\tNEO\\r\\n430\\t15\\tConscientiousness\\t+\\tI try to perform all the tasks assigned to me conscientiously.\\tNEO\\r\\n431\\t16\\tNeuroticism\\t+\\tIn dealing with other people, I always dread making a social blunder.\\tNEO\\r\\n432\\t17\\tExtraversion\\t-\\tI have a leisurely style in work and play.\\tNEO\\r\\n433\\t18\\tOpenness\\t-\\tI\\'m pretty set in my ways.\\tNEO\\r\\n434\\t19\\tAgreeableness\\t+\\tI would rather cooperate with others than compete with them.\\tNEO\\r\\n435\\t20\\tConscientiousness\\t-\\tI am easy-going and lackadaisical.\\tNEO\\r\\n436\\t21\\tNeuroticism\\t-\\tI rarely overindulge in anything.\\tNEO\\r\\n437\\t22\\tExtraversion\\t+\\tI often crave excitement.\\tNEO\\r\\n438\\t23\\tOpenness\\t+\\tI often enjoy playing with theories or abstract ideas.\\tNEO\\r\\n439\\t24\\tAgreeableness\\t-\\tI don\\'t mind bragging about my talents and accomplishments.\\tNEO\\r\\n440\\t25\\tConscientiousness\\t+\\tI\\'m pretty good about pacing myself so as to get things done on time.\\tNEO\\r\\n441\\t26\\tNeuroticism\\t+\\tI often feel helpless and want someone else to solve my problems.\\tNEO\\r\\n442\\t27\\tExtraversion\\t-\\tI have never literally jumped for joy.\\tNEO\\r\\n443\\t28\\tOpenness\\t-\\tI believe letting students hear controversial speakers can only confuse and mislead them.\\tNEO\\r\\n444\\t29\\tAgreeableness\\t+\\tPolitical leaders need to be more aware of the human side of their policies.\\tNEO\\r\\n445\\t30\\tConscientiousness\\t-\\tOver the years I\\'ve done some pretty stupid things.\\tNEO\\r\\n446\\t31\\tNeuroticism\\t+\\tI am easily frightened.\\tNEO\\r\\n447\\t32\\tExtraversion\\t-\\tI don\\'t get much pleasure from chatting with people.\\tNEO\\r\\n448\\t33\\tOpenness\\t-\\tI try to keep all my thoughts directed along realistic lines and avoid flights of fancy.\\tNEO\\r\\n449\\t34\\tAgreeableness\\t+\\tI believe that most people are basically well-intentioned.\\tNEO\\r\\n450\\t35\\tConscientiousness\\t-\\tI don\\'t take civic duties like voting very seriously.\\tNEO\\r\\n451\\t36\\tNeuroticism\\t-\\tI\\'m an even-tempered person.\\tNEO\\r\\n452\\t37\\tExtraversion\\t+\\tI like to have a lot of people around me.\\tNEO\\r\\n453\\t38\\tOpenness\\t+\\tI am sometimes completely absorbed in music I am listening to.\\tNEO\\r\\n454\\t39\\tAgreeableness\\t-\\tIf necessary, I am willing to manipulate people to get what I want.\\tNEO\\r\\n455\\t40\\tConscientiousness\\t+\\tI keep my belongings neat and clean.\\tNEO\\r\\n456\\t41\\tNeuroticism\\t+\\tSometimes I feel completely worthless.\\tNEO\\r\\n457\\t42\\tExtraversion\\t-\\tI sometimes fail to assert myself as much as I should.\\tNEO\\r\\n458\\t43\\tOpenness\\t-\\tI rarely experience strong emotions.\\tNEO\\r\\n459\\t44\\tAgreeableness\\t+\\tI try to be courteous to everyone I meet.\\tNEO\\r\\n460\\t45\\tConscientiousness\\t-\\tSometimes I\\'m not as dependable or reliable as I should be.\\tNEO\\r\\n461\\t46\\tNeuroticism\\t-\\tI seldom feel self-conscious when I\\'m around people.\\tNEO\\r\\n462\\t47\\tExtraversion\\t+\\tWhen I do things, I do them vigorously.\\tNEO\\r\\n463\\t48\\tOpenness\\t+\\tI think it\\'s interesting to learn and develop new hobbies.\\tNEO\\r\\n464\\t49\\tAgreeableness\\t-\\tI can be sarcastic and cutting when I need to be.\\tNEO\\r\\n465\\t50\\tConscientiousness\\t+\\tI have a clear set of goals and work toward them in an orderly fashion.\\tNEO\\r\\n466\\t51\\tNeuroticism\\t+\\tI have trouble resisting my cravings.\\tNEO\\r\\n467\\t52\\tExtraversion\\t-\\tI wouldn\\'t enjoy vacationing in Las Vegas.\\tNEO\\r\\n468\\t53\\tOpenness\\t-\\tI find philosophical arguments boring.\\tNEO\\r\\n469\\t54\\tAgreeableness\\t+\\tI\\'d rather not talk about myself and my achievements.\\tNEO\\r\\n470\\t55\\tConscientiousness\\t-\\tI waste a lot of time before settling down to work.\\tNEO\\r\\n471\\t56\\tNeuroticism\\t-\\tI feel I am capable of coping with most of my problems.\\tNEO\\r\\n472\\t57\\tExtraversion\\t+\\tI have sometimes experienced intense joy or ecstasy.\\tNEO\\r\\n473\\t58\\tOpenness\\t+\\tI believe that laws and social policies should change to reflect the needs of a changing world.\\tNEO\\r\\n474\\t59\\tAgreeableness\\t-\\tI\\'m hard-headed and tough-minded in my attitudes.\\tNEO\\r\\n475\\t60\\tConscientiousness\\t+\\tI think things through before coming to a decision.\\tNEO\\r\\n476\\t61\\tNeuroticism\\t-\\tI rarely feel fearful or anxious.\\tNEO\\r\\n477\\t62\\tExtraversion\\t+\\tI\\'m known as a warm and friendly person.\\tNEO\\r\\n478\\t63\\tOpenness\\t+\\tI have an active fantasy life.\\tNEO\\r\\n479\\t64\\tAgreeableness\\t-\\tI believe that most people will take advantage of you if you let them.\\tNEO\\r\\n480\\t65\\tConscientiousness\\t+\\tI keep myself informed and usually make intelligent decisions.\\tNEO\\r\\n481\\t66\\tNeuroticism\\t+\\tI am known as hot-blooded and quick-tempered.\\tNEO\\r\\n482\\t67\\tExtraversion\\t-\\tI usually prefer to do things alone.\\tNEO\\r\\n483\\t68\\tOpenness\\t-\\tWatching ballet or modern dance bores me.\\tNEO\\r\\n484\\t69\\tAgreeableness\\t+\\tI couldn\\'t deceive anyone even if I wanted to.\\tNEO\\r\\n485\\t70\\tConscientiousness\\t-\\tI am not a very methodical person.\\tNEO\\r\\n486\\t71\\tNeuroticism\\t-\\tI am seldom sad and depressed.\\tNEO\\r\\n487\\t72\\tExtraversion\\t+\\tI have often been a leader of groups I have belonged to.\\tNEO\\r\\n488\\t73\\tOpenness\\t+\\tHow I feel about things is important to me.\\tNEO\\r\\n489\\t74\\tAgreeableness\\t-\\tSome people think of me as cold and calculating.\\tNEO\\r\\n490\\t75\\tConscientiousness\\t+\\tI pay my debts promptly and in full.\\tNEO\\r\\n491\\t76\\tNeuroticism\\t+\\tAt times I have been so ashamed I just wanted to hide.\\tNEO\\r\\n492\\t77\\tExtraversion\\t-\\tMy work is likely to be slow but steady.\\tNEO\\r\\n493\\t78\\tOpenness\\t-\\tOnce I find the right way to do something, I stick to it.\\tNEO\\r\\n494\\t79\\tAgreeableness\\t+\\tI hesitate to express my anger even when it\\'s justified.\\tNEO\\r\\n495\\t80\\tConscientiousness\\t-\\tWhen I start a self-improvement program, I usually let it slide after a few days.\\tNEO\\r\\n496\\t81\\tNeuroticism\\t-\\tI have little difficultly resisting temptation.\\tNEO\\r\\n497\\t82\\tExtraversion\\t+\\tI have sometimes done things just for \"kicks\" or \"thrills.\"\\tNEO\\r\\n498\\t83\\tOpenness\\t+\\tI enjoy solving problems or puzzles.\\tNEO\\r\\n499\\t84\\tAgreeableness\\t-\\tI\\'m better than most people, and I know it.\\tNEO\\r\\n500\\t85\\tConscientiousness\\t+\\tI am a productive person who always gets the job done.\\tNEO\\r\\n501\\t86\\tNeuroticism\\t+\\tWhen I\\'m under a great deal of stress, sometimes I feel like I\\'m going to pieces.\\tNEO\\r\\n502\\t87\\tExtraversion\\t-\\tI am not a cheerful optimist.\\tNEO\\r\\n503\\t88\\tOpenness\\t-\\tI believe we should look to our religious authorities for decisions on moral issues.\\tNEO\\r\\n504\\t89\\tAgreeableness\\t+\\tWe can never do too much for the poor and elderly.\\tNEO\\r\\n505\\t90\\tConscientiousness\\t-\\tOccasionally I act first and think later.\\tNEO\\r\\n506\\t91\\tNeuroticism\\t+\\tI often feel tense and jittery.\\tNEO\\r\\n507\\t92\\tExtraversion\\t-\\tMany people think of me as somewhat cold and distant.\\tNEO\\r\\n508\\t93\\tOpenness\\t-\\tI don\\'t like to waste my time daydreaming.\\tNEO\\r\\n509\\t94\\tAgreeableness\\t+\\tI think most of the people I deal with are honest and trustworthy.\\tNEO\\r\\n510\\t95\\tConscientiousness\\t-\\tI often come into situations without being fully prepared.\\tNEO\\r\\n511\\t96\\tNeuroticism\\t-\\tI am not considered a touchy or temperamental person.\\tNEO\\r\\n512\\t97\\tExtraversion\\t-\\tI really feel the need for other people if I am by myself for long.\\tNEO\\r\\n513\\t98\\tOpenness\\t+\\tI am intrigued by the patterns I find in art and nature.\\tNEO\\r\\n514\\t99\\tAgreeableness\\t-\\tBeing perfectly honest is a bad way to do business.\\tNEO\\r\\n515\\t100\\tConscientiousness\\t+\\tI like to keep everything in its place so I know just where it is.\\tNEO\\r\\n516\\t101\\tNeuroticism\\t+\\tI have sometimes experienced a deep sense of guilt and sinfulness.\\tNEO\\r\\n517\\t102\\tExtraversion\\t-\\tIn meetings, I usually let others do the talking.\\tNEO\\r\\n518\\t103\\tOpenness\\t-\\tI seldom pay much attention to my feelings of the moment.\\tNEO\\r\\n519\\t104\\tAgreeableness\\t+\\tI generally try to be thoughtful and considerate.\\tNEO\\r\\n520\\t105\\tConscientiousness\\t-\\tSometimes I cheat when I play solitaire.\\tNEO\\r\\n521\\t106\\tNeuroticism\\t-\\tIt doesn\\'t embarrass me too much if people ridicule and tease me.\\tNEO\\r\\n522\\t107\\tExtraversion\\t+\\tI often feel as if I\\'m bursting with energy.\\tNEO\\r\\n523\\t108\\tOpenness\\t+\\tI often try new and foreign foods.\\tNEO\\r\\n524\\t109\\tAgreeableness\\t-\\tIf I don\\'t like people, I let them know it.\\tNEO\\r\\n525\\t110\\tConscientiousness\\t+\\tI work hard to accomplish my goals.\\tNEO\\r\\n526\\t111\\tNeuroticism\\t+\\tWhen I am having my favorite foods, I tend to eat too much.\\tNEO\\r\\n527\\t112\\tExtraversion\\t-\\tI tend to avoid movies that are shocking or scary.\\tNEO\\r\\n528\\t113\\tOpenness\\t-\\tI sometime lose interest when people talk about very abstract, theoretical matters.\\tNEO\\r\\n529\\t114\\tAgreeableness\\t+\\tI try to be humble.\\tNEO\\r\\n530\\t115\\tConscientiousness\\t-\\tI have trouble making myself do what I should do.\\tNEO\\r\\n531\\t116\\tNeuroticism\\t-\\tI keep a cool head in emergencies.\\tNEO\\r\\n532\\t117\\tExtraversion\\t+\\tSometimes I bubble with happiness.\\tNEO\\r\\n533\\t118\\tOpenness\\t+\\tI believe that different ideas of right and wrong that people in other societies have may be valid for them.\\tNEO\\r\\n534\\t119\\tAgreeableness\\t-\\tI have no sympathy for panhandlers.\\tNEO\\r\\n535\\t120\\tConscientiousness\\t+\\tI always consider the consequences before I take action.\\tNEO\\r\\n536\\t121\\tNeuroticism\\t-\\tI am seldom apprehensive about the future.\\tNEO\\r\\n537\\t122\\tExtraversion\\t+\\tI really enjoy talking to people.\\tNEO\\r\\n538\\t123\\tOpenness\\t+\\tI enjoy concentrating on a fantasy or daydream and exploring all possibilities, letting it grow and develop.\\tNEO\\r\\n539\\t124\\tAgreeableness\\t-\\tI\\'m suspicious when someone does something nice for me.\\tNEO\\r\\n540\\t125\\tConscientiousness\\t+\\tI pride myself on my sound judgment.\\tNEO\\r\\n541\\t126\\tNeuroticism\\t+\\tI often feel disgusted with people I have to deal with.\\tNEO\\r\\n542\\t127\\tExtraversion\\t-\\tI prefer jobs that let me work alone without being bothered by other people.\\tNEO\\r\\n543\\t128\\tOpenness\\t-\\tPoetry has little or no effect on me.\\tNEO\\r\\n544\\t129\\tAgreeableness\\t+\\tI would hate to be thought of as a hypocrite.\\tNEO\\r\\n545\\t130\\tConscientiousness\\t-\\tI never seem to be able to get organized.\\tNEO\\r\\n546\\t131\\tNeuroticism\\t+\\tI tend to blame myself when anything goes wrong.\\tNEO\\r\\n547\\t132\\tExtraversion\\t+\\tOther people often look to me to make decisions.\\tNEO\\r\\n548\\t133\\tOpenness\\t+\\tI experience a wide range of emotions or feelings.\\tNEO\\r\\n549\\t134\\tAgreeableness\\t-\\tI\\'m not known for my generosity.\\tNEO\\r\\n550\\t135\\tConscientiousness\\t+\\tWhen I make a commitment, I can always be counted on to follow through.\\tNEO\\r\\n551\\t136\\tNeuroticism\\t+\\tI often feel inferior to others.\\tNEO\\r\\n552\\t137\\tExtraversion\\t-\\tI\\'m not as quick and lively as other people.\\tNEO\\r\\n553\\t138\\tOpenness\\t-\\tI prefer to spend my time in familiar surroundings.\\tNEO\\r\\n554\\t139\\tAgreeableness\\t+\\tWhen I\\'ve been insulted, I just try to forgive and forget.\\tNEO\\r\\n555\\t140\\tConscientiousness\\t-\\tI don\\'t feel like I\\'m driven to get ahead.\\tNEO\\r\\n556\\t141\\tNeuroticism\\t-\\tI seldom give in to my impulses.\\tNEO\\r\\n557\\t142\\tExtraversion\\t+\\tI like to be where the action is.\\tNEO\\r\\n558\\t143\\tOpenness\\t+\\tI enjoy working on \"mind-twister\"-type puzzles.\\tNEO\\r\\n559\\t144\\tAgreeableness\\t-\\tI have a very high opinion of myself.\\tNEO\\r\\n560\\t145\\tConscientiousness\\t+\\tOnce I start a project, I almost always finish it.\\tNEO\\r\\n561\\t146\\tNeuroticism\\t+\\tIt\\'s often hard for me to make up my mind.\\tNEO\\r\\n562\\t147\\tExtraversion\\t-\\tI don\\'t consider myself especially \"light-hearted.\"\\tNEO\\r\\n563\\t148\\tOpenness\\t-\\tI believe that loyalty to one\\'s ideals and principles is more important than \"open-mindedness.\"\\tNEO\\r\\n564\\t149\\tAgreeableness\\t+\\tHuman need should always take priority over economic considerations.\\tNEO\\r\\n565\\t150\\tConscientiousness\\t-\\tI often do things on the spur of the moment.\\tNEO\\r\\n566\\t151\\tNeuroticism\\t+\\tI often worry about things that might go wrong.\\tNEO\\r\\n567\\t152\\tExtraversion\\t+\\tI find it easy to smile and be outgoing with strangers.\\tNEO\\r\\n568\\t153\\tOpenness\\t-\\tIf I feel my mind starting to drift off into daydreams, I usually get busy and start concentrating on some work or activity instead.\\tNEO\\r\\n569\\t154\\tAgreeableness\\t+\\tMy first reaction is to trust people.\\tNEO\\r\\n570\\t155\\tConscientiousness\\t-\\tI don\\'t seem to be completely successful at anything.\\tNEO\\r\\n571\\t156\\tNeuroticism\\t-\\tIt takes a lot to get me mad.\\tNEO\\r\\n572\\t157\\tExtraversion\\t+\\tI\\'d rather vacation at a popular beach than an isolated cabin in the woods.\\tNEO\\r\\n573\\t158\\tOpenness\\t+\\tCertain kinds of music have an endless fascination for me.\\tNEO\\r\\n574\\t159\\tAgreeableness\\t-\\tSometimes I trick people into doing what I want.\\tNEO\\r\\n575\\t160\\tConscientiousness\\t+\\tI tend to be somewhat fastidious or exacting.\\tNEO\\r\\n576\\t161\\tNeuroticism\\t+\\tI often feel inferior to others.\\tNEO\\r\\n577\\t162\\tExtraversion\\t-\\tI have a low opinion of myself.\\tNEO\\r\\n578\\t163\\tOpenness\\t+\\tI would rather go my own way than be a leader of others.\\tNEO\\r\\n579\\t164\\tAgreeableness\\t-\\tI seldom notice the moods or feelings that different environments produce.\\tNEO\\r\\n580\\t165\\tAgreeableness\\t+\\tMost people I know like me.\\tNEO\\r\\n581\\t166\\tConscientiousness\\t+\\tI adhere strictly to my ethical principles.\\tNEO\\r\\n582\\t167\\tNeuroticism\\t-\\tI feel comfortable in the presence of my bosses or other authorities.\\tNEO\\r\\n583\\t168\\tExtraversion\\t+\\tI usually seem to be in a hurry.\\tNEO\\r\\n584\\t169\\tOpenness\\t+\\tSometimes I make changes around the house just to try something different.\\tNEO\\r\\n585\\t170\\tConscientiousness\\t+\\tI strive to achieve all I can.\\tNEO\\r\\n586\\t171\\tNeuroticism\\t+\\tI sometimes eat myself sick.\\tNEO\\r\\n587\\t172\\tExtraversion\\t+\\tI love the excitement of roller coasters.\\tNEO\\r\\n588\\t173\\tOpenness\\t-\\tI have little interest in speculating on the nature of the universe or the human condition.\\tNEO\\r\\n589\\t174\\tAgreeableness\\t+\\tI feel that I am no better than others, no matter what their conditions are.\\tNEO\\r\\n590\\t175\\tConscientiousness\\t-\\tWhen a project gets too difficult, I\\'m inclined to start a new one.\\tNEO\\r\\n591\\t176\\tNeuroticism\\t-\\tI can handle myself pretty well in a crisis.\\tNEO\\r\\n592\\t177\\tExtraversion\\t+\\tI am a cheerful, high-spirited person.\\tNEO\\r\\n593\\t178\\tOpenness\\t+\\tI consider myself broad-minded and tolerant of other people\\'s lifestyles.\\tNEO\\r\\n594\\t179\\tAgreeableness\\t+\\tI believe all human beings are worthy of respect.\\tNEO\\r\\n595\\t180\\tConscientiousness\\t+\\tI rarely make hasty decisions.\\tNEO\\r\\n596\\t181\\tNeuroticism\\t-\\tI have fewer fears than most people.\\tNEO\\r\\n597\\t182\\tExtraversion\\t+\\tI have strong emotional attachments to my friends.\\tNEO\\r\\n598\\t183\\tOpenness\\t-\\tAs a child I rarely enjoyed games of make believe.\\tNEO\\r\\n599\\t184\\tAgreeableness\\t+\\tI tend to assume the best about people.\\tNEO\\r\\n600\\t185\\tConscientiousness\\t+\\tI\\'m a very competent person.\\tNEO\\r\\n601\\t186\\tNeuroticism\\t+\\tAt times I have felt bitter and resentful.\\tNEO\\r\\n602\\t187\\tExtraversion\\t-\\tSocial gatherings are usually boring to me.\\tNEO\\r\\n603\\t188\\tOpenness\\t+\\tSometimes when I am reading poetry or looking at a work of art, I feel a chill or wave of excitement.\\tNEO\\r\\n604\\t189\\tAgreeableness\\t-\\tAt times I bully or flatter people into doing what I want them to.\\tNEO\\r\\n605\\t190\\tConscientiousness\\t-\\tI\\'m not compulsive about cleaning.\\tNEO\\r\\n606\\t191\\tNeuroticism\\t+\\tSometimes things look pretty bleak and hopeless to me.\\tNEO\\r\\n607\\t192\\tExtraversion\\t+\\tIn conversations, I tend to do most of the talking.\\tNEO\\r\\n608\\t193\\tOpenness\\t+\\tI find it easy to empathize - to feel myself what others are feeling.\\tNEO\\r\\n609\\t194\\tAgreeableness\\t+\\tI think of myself as charitable person.\\tNEO\\r\\n610\\t195\\tConscientiousness\\t+\\tI try to do jobs carefully so they won\\'t have to be done again.\\tNEO\\r\\n611\\t196\\tNeuroticism\\t+\\tIf I have said or done the wrong thing to someone, I can hardly bear to face them again.\\tNEO\\r\\n612\\t197\\tExtraversion\\t+\\tMy life is fast-paced.\\tNEO\\r\\n613\\t198\\tOpenness\\t-\\tOn a vacation, I prefer going back to a tried and true spot.\\tNEO\\r\\n614\\t199\\tAgreeableness\\t-\\tI\\'m hard-headed and stubborn.\\tNEO\\r\\n615\\t200\\tConscientiousness\\t+\\tI strive for excellence in everything I do.\\tNEO\\r\\n616\\t201\\tNeuroticism\\t+\\tSometimes I do things on impulse that I later regret.\\tNEO\\r\\n617\\t202\\tExtraversion\\t+\\tI\\'m attracted to bright colors and flashy styles.\\tNEO\\r\\n618\\t203\\tOpenness\\t+\\tI have a lot of intellectual curiosity.\\tNEO\\r\\n619\\t204\\tAgreeableness\\t+\\tI would rather praise others than be praised myself.\\tNEO\\r\\n620\\t205\\tConscientiousness\\t-\\tThere are so many little jobs that need to be done that I sometimes just ignore them all.\\tNEO\\r\\n621\\t206\\tNeuroticism\\t-\\tWhen everything seems to be going wrong, I can still make good decisions.\\tNEO\\r\\n622\\t207\\tExtraversion\\t-\\tI rarely use words like \"fantastic!\" or \"sensational!\" to describe my experiences.\\tNEO\\r\\n623\\t208\\tOpenness\\t-\\tI think that if people don\\'t know what they believe in by the time they\\'re 25, there\\'s something wrong with them.\\tNEO\\r\\n624\\t209\\tAgreeableness\\t+\\tI have sympathy for others less fortunate than me.\\tNEO\\r\\n625\\t210\\tConscientiousness\\t+\\tI plan ahead carefully when I go on a trip.\\tNEO\\r\\n626\\t211\\tNeuroticism\\t+\\tFrightening thoughts sometimes come into my head.\\tNEO\\r\\n627\\t212\\tExtraversion\\t+\\tI take a personal interest in the people I work with.\\tNEO\\r\\n628\\t213\\tOpenness\\t-\\tI would have difficulty just letting my mind wander without control or guidance.\\tNEO\\r\\n629\\t214\\tAgreeableness\\t+\\tI have a good deal of faith in human nature.\\tNEO\\r\\n630\\t215\\tConscientiousness\\t+\\tI am efficient and effective at my work.\\tNEO\\r\\n631\\t216\\tNeuroticism\\t+\\tEven minor annoyances can be frustrating to me.\\tNEO\\r\\n632\\t217\\tExtraversion\\t+\\tI enjoy parties with lots of people.\\tNEO\\r\\n633\\t218\\tOpenness\\t+\\tI enjoy reading poetry that emphasizes feelings and images more than story lines.\\tNEO\\r\\n634\\t219\\tAgreeableness\\t-\\tI pride myself on my shrewdness in handling people.\\tNEO\\r\\n635\\t220\\tConscientiousness\\t-\\tI spend a lot of time looking for things I\\'ve misplaced.\\tNEO\\r\\n636\\t221\\tNeuroticism\\t+\\tToo often, when things go wrong, I get discouraged and feel like giving up.\\tNEO\\r\\n637\\t222\\tExtraversion\\t-\\tI don\\'t find it easy to take charge of a situation.\\tNEO\\r\\n638\\t223\\tOpenness\\t+\\tOdd things - like certain scents or the names of distant places - can evoke strong moods in me.\\tNEO\\r\\n639\\t224\\tAgreeableness\\t+\\tI go out of my way to help others if I can.\\tNEO\\r\\n640\\t225\\tConscientiousness\\t+\\tI\\'d really have to be sick before I\\'d miss a day of work.\\tNEO\\r\\n641\\t226\\tNeuroticism\\t+\\tWhen people I know do foolish things, I get embarrassed for them.\\tNEO\\r\\n642\\t227\\tExtraversion\\t+\\tI am a very active person.\\tNEO\\r\\n643\\t228\\tOpenness\\t-\\tI follow the same route when I go someplace.\\tNEO\\r\\n644\\t229\\tAgreeableness\\t-\\tI often get into arguments with my family and co-workers.\\tNEO\\r\\n645\\t230\\tConscientiousness\\t+\\tI\\'m something of a \"workaholic.\\tNEO\\r\\n646\\t231\\tNeuroticism\\t-\\tI am always able to keep my feelings under control.\\tNEO\\r\\n647\\t232\\tExtraversion\\t+\\tI like being part of the crowd at sporting events.\\tNEO\\r\\n648\\t233\\tOpenness\\t+\\tI have a wide range of intellectual interests.\\tNEO\\r\\n649\\t234\\tAgreeableness\\t-\\tI\\'m a superior person.\\tNEO\\r\\n650\\t235\\tConscientiousness\\t+\\tI have a lot of self-discipline.\\tNEO\\r\\n651\\t236\\tNeuroticism\\t-\\tI\\'m pretty stable emotionally.\\tNEO\\r\\n652\\t237\\tExtraversion\\t+\\tI laugh easily.\\tNEO\\r\\n653\\t238\\tOpenness\\t-\\tI believe that the \"new morality\" of a permissiveness is no morality at all.\\tNEO\\r\\n654\\t239\\tAgreeableness\\t+\\tI would rather be known as \"merciful\" than as \"just.\"\\tNEO\\r\\n655\\t240\\tConscientiousness\\t+\\tI think twice before I answer a question.\\tNEO\\r\\n'\n"
          ],
          "name": "stdout"
        }
      ]
    },
    {
      "cell_type": "code",
      "metadata": {
        "id": "BJAFtaogNlGc",
        "colab_type": "code",
        "outputId": "b093242d-42d7-486b-8ea4-625e2ee9ead7",
        "colab": {
          "base_uri": "https://localhost:8080/",
          "height": 206
        }
      },
      "source": [
        "data.head()"
      ],
      "execution_count": 6,
      "outputs": [
        {
          "output_type": "execute_result",
          "data": {
            "text/html": [
              "<div>\n",
              "<style scoped>\n",
              "    .dataframe tbody tr th:only-of-type {\n",
              "        vertical-align: middle;\n",
              "    }\n",
              "\n",
              "    .dataframe tbody tr th {\n",
              "        vertical-align: top;\n",
              "    }\n",
              "\n",
              "    .dataframe thead th {\n",
              "        text-align: right;\n",
              "    }\n",
              "</style>\n",
              "<table border=\"1\" class=\"dataframe\">\n",
              "  <thead>\n",
              "    <tr style=\"text-align: right;\">\n",
              "      <th></th>\n",
              "      <th>#ID</th>\n",
              "      <th>Scale Item ID</th>\n",
              "      <th>Scale</th>\n",
              "      <th>Direction</th>\n",
              "      <th>Stem</th>\n",
              "      <th>Instrument</th>\n",
              "    </tr>\n",
              "  </thead>\n",
              "  <tbody>\n",
              "    <tr>\n",
              "      <th>0</th>\n",
              "      <td>1</td>\n",
              "      <td>1</td>\n",
              "      <td>Neuroticism</td>\n",
              "      <td>-</td>\n",
              "      <td>I seldom feel blue.</td>\n",
              "      <td>BFAS</td>\n",
              "    </tr>\n",
              "    <tr>\n",
              "      <th>1</th>\n",
              "      <td>2</td>\n",
              "      <td>2</td>\n",
              "      <td>Agreeableness</td>\n",
              "      <td>-</td>\n",
              "      <td>I am not interested in other people's problems.</td>\n",
              "      <td>BFAS</td>\n",
              "    </tr>\n",
              "    <tr>\n",
              "      <th>2</th>\n",
              "      <td>3</td>\n",
              "      <td>3</td>\n",
              "      <td>Conscientiousness</td>\n",
              "      <td>+</td>\n",
              "      <td>I carry out my plans.</td>\n",
              "      <td>BFAS</td>\n",
              "    </tr>\n",
              "    <tr>\n",
              "      <th>3</th>\n",
              "      <td>4</td>\n",
              "      <td>4</td>\n",
              "      <td>Extraversion</td>\n",
              "      <td>+</td>\n",
              "      <td>I make friends easily.</td>\n",
              "      <td>BFAS</td>\n",
              "    </tr>\n",
              "    <tr>\n",
              "      <th>4</th>\n",
              "      <td>5</td>\n",
              "      <td>5</td>\n",
              "      <td>Openness</td>\n",
              "      <td>+</td>\n",
              "      <td>I am quick to understand things.</td>\n",
              "      <td>BFAS</td>\n",
              "    </tr>\n",
              "  </tbody>\n",
              "</table>\n",
              "</div>"
            ],
            "text/plain": [
              "   #ID  ... Instrument\n",
              "0    1  ...       BFAS\n",
              "1    2  ...       BFAS\n",
              "2    3  ...       BFAS\n",
              "3    4  ...       BFAS\n",
              "4    5  ...       BFAS\n",
              "\n",
              "[5 rows x 6 columns]"
            ]
          },
          "metadata": {
            "tags": []
          },
          "execution_count": 6
        }
      ]
    },
    {
      "cell_type": "markdown",
      "metadata": {
        "id": "uTEs9VUUO6RB",
        "colab_type": "text"
      },
      "source": [
        "DATA PROCESSING\n"
      ]
    },
    {
      "cell_type": "code",
      "metadata": {
        "id": "c6jiabWaV1XY",
        "colab_type": "code",
        "outputId": "6982b199-bef7-4f51-9567-39c549460e54",
        "colab": {
          "base_uri": "https://localhost:8080/",
          "height": 208
        }
      },
      "source": [
        "data.info()"
      ],
      "execution_count": 7,
      "outputs": [
        {
          "output_type": "stream",
          "text": [
            "<class 'pandas.core.frame.DataFrame'>\n",
            "RangeIndex: 655 entries, 0 to 654\n",
            "Data columns (total 6 columns):\n",
            "#ID              655 non-null int64\n",
            "Scale Item ID    655 non-null object\n",
            "Scale            655 non-null object\n",
            "Direction        655 non-null object\n",
            "Stem             655 non-null object\n",
            "Instrument       655 non-null object\n",
            "dtypes: int64(1), object(5)\n",
            "memory usage: 30.8+ KB\n"
          ],
          "name": "stdout"
        }
      ]
    },
    {
      "cell_type": "code",
      "metadata": {
        "id": "Rbj23nEaXxaA",
        "colab_type": "code",
        "outputId": "686480e6-cdc2-4d90-aa3f-59db63a2eb09",
        "colab": {
          "base_uri": "https://localhost:8080/",
          "height": 34
        }
      },
      "source": [
        "data.shape"
      ],
      "execution_count": 8,
      "outputs": [
        {
          "output_type": "execute_result",
          "data": {
            "text/plain": [
              "(655, 6)"
            ]
          },
          "metadata": {
            "tags": []
          },
          "execution_count": 8
        }
      ]
    },
    {
      "cell_type": "code",
      "metadata": {
        "id": "8jyOJ7YjYhAq",
        "colab_type": "code",
        "colab": {}
      },
      "source": [
        "#need to add random.sample() into the data so that the data are random\n",
        "#the beter solution would be to do stratefied sampleing with five dimensions"
      ],
      "execution_count": 0,
      "outputs": []
    },
    {
      "cell_type": "code",
      "metadata": {
        "id": "82XZ2o3yO_ib",
        "colab_type": "code",
        "outputId": "17e5154e-6d32-4e2c-97ef-9af25d3e5458",
        "colab": {
          "base_uri": "https://localhost:8080/",
          "height": 225
        }
      },
      "source": [
        "#stem as one string\n",
        "sentences = pd.Series(data['Stem'])\n",
        "sentences"
      ],
      "execution_count": 20,
      "outputs": [
        {
          "output_type": "execute_result",
          "data": {
            "text/plain": [
              "0                                    I seldom feel blue.\n",
              "1        I am not interested in other people's problems.\n",
              "2                                  I carry out my plans.\n",
              "3                                 I make friends easily.\n",
              "4                       I am quick to understand things.\n",
              "                             ...                        \n",
              "650                       I'm pretty stable emotionally.\n",
              "651                                      I laugh easily.\n",
              "652    I believe that the \"new morality\" of a permiss...\n",
              "653    I would rather be known as \"merciful\" than as ...\n",
              "654            I think twice before I answer a question.\n",
              "Name: Stem, Length: 655, dtype: object"
            ]
          },
          "metadata": {
            "tags": []
          },
          "execution_count": 20
        }
      ]
    },
    {
      "cell_type": "code",
      "metadata": {
        "id": "F3g2CgyHRu4t",
        "colab_type": "code",
        "outputId": "813bde4e-376f-4518-8fc8-73c20e072b06",
        "colab": {
          "base_uri": "https://localhost:8080/",
          "height": 206
        }
      },
      "source": [
        "#scale as categorical data\n",
        "data['labels'] = data['Scale'].astype('category').cat.codes\n",
        "data.head()"
      ],
      "execution_count": 10,
      "outputs": [
        {
          "output_type": "execute_result",
          "data": {
            "text/html": [
              "<div>\n",
              "<style scoped>\n",
              "    .dataframe tbody tr th:only-of-type {\n",
              "        vertical-align: middle;\n",
              "    }\n",
              "\n",
              "    .dataframe tbody tr th {\n",
              "        vertical-align: top;\n",
              "    }\n",
              "\n",
              "    .dataframe thead th {\n",
              "        text-align: right;\n",
              "    }\n",
              "</style>\n",
              "<table border=\"1\" class=\"dataframe\">\n",
              "  <thead>\n",
              "    <tr style=\"text-align: right;\">\n",
              "      <th></th>\n",
              "      <th>#ID</th>\n",
              "      <th>Scale Item ID</th>\n",
              "      <th>Scale</th>\n",
              "      <th>Direction</th>\n",
              "      <th>Stem</th>\n",
              "      <th>Instrument</th>\n",
              "      <th>labels</th>\n",
              "    </tr>\n",
              "  </thead>\n",
              "  <tbody>\n",
              "    <tr>\n",
              "      <th>0</th>\n",
              "      <td>1</td>\n",
              "      <td>1</td>\n",
              "      <td>Neuroticism</td>\n",
              "      <td>-</td>\n",
              "      <td>I seldom feel blue.</td>\n",
              "      <td>BFAS</td>\n",
              "      <td>3</td>\n",
              "    </tr>\n",
              "    <tr>\n",
              "      <th>1</th>\n",
              "      <td>2</td>\n",
              "      <td>2</td>\n",
              "      <td>Agreeableness</td>\n",
              "      <td>-</td>\n",
              "      <td>I am not interested in other people's problems.</td>\n",
              "      <td>BFAS</td>\n",
              "      <td>0</td>\n",
              "    </tr>\n",
              "    <tr>\n",
              "      <th>2</th>\n",
              "      <td>3</td>\n",
              "      <td>3</td>\n",
              "      <td>Conscientiousness</td>\n",
              "      <td>+</td>\n",
              "      <td>I carry out my plans.</td>\n",
              "      <td>BFAS</td>\n",
              "      <td>1</td>\n",
              "    </tr>\n",
              "    <tr>\n",
              "      <th>3</th>\n",
              "      <td>4</td>\n",
              "      <td>4</td>\n",
              "      <td>Extraversion</td>\n",
              "      <td>+</td>\n",
              "      <td>I make friends easily.</td>\n",
              "      <td>BFAS</td>\n",
              "      <td>2</td>\n",
              "    </tr>\n",
              "    <tr>\n",
              "      <th>4</th>\n",
              "      <td>5</td>\n",
              "      <td>5</td>\n",
              "      <td>Openness</td>\n",
              "      <td>+</td>\n",
              "      <td>I am quick to understand things.</td>\n",
              "      <td>BFAS</td>\n",
              "      <td>4</td>\n",
              "    </tr>\n",
              "  </tbody>\n",
              "</table>\n",
              "</div>"
            ],
            "text/plain": [
              "   #ID Scale Item ID  ... Instrument labels\n",
              "0    1             1  ...       BFAS      3\n",
              "1    2             2  ...       BFAS      0\n",
              "2    3             3  ...       BFAS      1\n",
              "3    4             4  ...       BFAS      2\n",
              "4    5             5  ...       BFAS      4\n",
              "\n",
              "[5 rows x 7 columns]"
            ]
          },
          "metadata": {
            "tags": []
          },
          "execution_count": 10
        }
      ]
    },
    {
      "cell_type": "code",
      "metadata": {
        "id": "AJJoFen1Uj03",
        "colab_type": "code",
        "outputId": "c2fcee35-fd73-49d0-8e98-9dade1372fb4",
        "colab": {
          "base_uri": "https://localhost:8080/",
          "height": 538
        }
      },
      "source": [
        "labels = np.array(pd.Series(data['labels']))\n",
        "labels"
      ],
      "execution_count": 11,
      "outputs": [
        {
          "output_type": "execute_result",
          "data": {
            "text/plain": [
              "array([3, 0, 1, 2, 4, 3, 0, 1, 2, 4, 3, 0, 1, 2, 4, 3, 0, 1, 2, 4, 3, 0,\n",
              "       1, 2, 4, 3, 0, 1, 2, 4, 3, 0, 1, 2, 4, 3, 0, 1, 2, 4, 3, 0, 1, 2,\n",
              "       4, 3, 0, 1, 2, 4, 3, 0, 1, 2, 4, 3, 0, 1, 2, 4, 3, 0, 1, 2, 4, 3,\n",
              "       0, 1, 2, 4, 3, 0, 1, 2, 4, 3, 0, 1, 2, 4, 3, 0, 1, 2, 4, 3, 0, 1,\n",
              "       2, 4, 3, 0, 1, 2, 4, 3, 0, 1, 2, 4, 2, 0, 1, 3, 4, 2, 0, 1, 3, 4,\n",
              "       2, 0, 1, 3, 4, 2, 0, 1, 3, 4, 2, 0, 1, 3, 4, 2, 0, 1, 3, 4, 2, 0,\n",
              "       1, 3, 4, 2, 0, 1, 3, 4, 4, 0, 1, 4, 4, 2, 2, 0, 2, 0, 3, 4, 4, 2,\n",
              "       3, 2, 2, 2, 3, 2, 4, 1, 3, 1, 1, 0, 0, 1, 4, 1, 3, 0, 0, 0, 4, 4,\n",
              "       4, 0, 2, 3, 4, 0, 1, 0, 1, 0, 3, 1, 2, 3, 3, 1, 2, 2, 3, 0, 2, 1,\n",
              "       3, 3, 4, 0, 1, 1, 2, 0, 4, 0, 2, 1, 3, 0, 4, 1, 4, 1, 3, 1, 3, 1,\n",
              "       3, 1, 1, 1, 2, 4, 4, 3, 3, 1, 4, 0, 4, 2, 2, 3, 4, 3, 3, 0, 0, 2,\n",
              "       3, 1, 3, 1, 1, 1, 3, 1, 2, 0, 4, 0, 2, 1, 4, 1, 2, 0, 2, 3, 4, 2,\n",
              "       3, 0, 2, 0, 4, 3, 4, 4, 4, 0, 2, 4, 4, 0, 1, 1, 4, 0, 3, 0, 1, 2,\n",
              "       3, 1, 2, 3, 0, 2, 0, 0, 4, 1, 3, 3, 3, 3, 4, 4, 4, 4, 0, 4, 2, 4,\n",
              "       0, 1, 2, 2, 2, 0, 2, 1, 0, 3, 4, 3, 2, 2, 0, 0, 0, 2, 0, 3, 1, 2,\n",
              "       3, 1, 1, 1, 4, 4, 0, 4, 4, 4, 4, 1, 1, 2, 4, 4, 1, 1, 2, 2, 0, 0,\n",
              "       0, 0, 0, 1, 1, 2, 1, 2, 2, 0, 4, 0, 2, 2, 0, 3, 2, 3, 3, 1, 1, 2,\n",
              "       3, 3, 3, 3, 3, 2, 4, 3, 4, 2, 4, 1, 3, 3, 4, 3, 1, 0, 4, 0, 1, 0,\n",
              "       4, 4, 0, 4, 3, 0, 1, 3, 4, 4, 2, 2, 0, 3, 2, 1, 2, 1, 3, 3, 2, 4,\n",
              "       0, 1, 3, 2, 4, 0, 1, 3, 2, 4, 0, 1, 3, 2, 4, 0, 1, 3, 2, 4, 0, 1,\n",
              "       3, 2, 4, 0, 1, 3, 2, 4, 0, 1, 3, 2, 4, 0, 1, 3, 2, 4, 0, 1, 3, 2,\n",
              "       4, 0, 1, 3, 2, 4, 0, 1, 3, 2, 4, 0, 1, 3, 2, 4, 0, 1, 3, 2, 4, 0,\n",
              "       1, 3, 2, 4, 0, 1, 3, 2, 4, 0, 1, 3, 2, 4, 0, 1, 3, 2, 4, 0, 1, 3,\n",
              "       2, 4, 0, 1, 3, 2, 4, 0, 1, 3, 2, 4, 0, 1, 3, 2, 4, 0, 1, 3, 2, 4,\n",
              "       0, 1, 3, 2, 4, 0, 1, 3, 2, 4, 0, 1, 3, 2, 4, 0, 1, 3, 2, 4, 0, 1,\n",
              "       3, 2, 4, 0, 1, 3, 2, 4, 0, 1, 3, 2, 4, 0, 1, 3, 2, 4, 0, 1, 3, 2,\n",
              "       4, 0, 1, 3, 2, 4, 0, 0, 1, 3, 2, 4, 1, 3, 2, 4, 0, 1, 3, 2, 4, 0,\n",
              "       1, 3, 2, 4, 0, 1, 3, 2, 4, 0, 1, 3, 2, 4, 0, 1, 3, 2, 4, 0, 1, 3,\n",
              "       2, 4, 0, 1, 3, 2, 4, 0, 1, 3, 2, 4, 0, 1, 3, 2, 4, 0, 1, 3, 2, 4,\n",
              "       0, 1, 3, 2, 4, 0, 1, 3, 2, 4, 0, 1, 3, 2, 4, 0, 1], dtype=int8)"
            ]
          },
          "metadata": {
            "tags": []
          },
          "execution_count": 11
        }
      ]
    },
    {
      "cell_type": "markdown",
      "metadata": {
        "id": "Dp0mlKadp8x8",
        "colab_type": "text"
      },
      "source": [
        "DATA CLEANING (STEMMING)"
      ]
    },
    {
      "cell_type": "code",
      "metadata": {
        "id": "-3YwSO6_p_-6",
        "colab_type": "code",
        "colab": {}
      },
      "source": [
        ""
      ],
      "execution_count": 0,
      "outputs": []
    },
    {
      "cell_type": "markdown",
      "metadata": {
        "id": "WjR16yfrWvZ5",
        "colab_type": "text"
      },
      "source": [
        "TOKENIZATION AND EMBEDDING"
      ]
    },
    {
      "cell_type": "code",
      "metadata": {
        "id": "RahwW-DvWucE",
        "colab_type": "code",
        "colab": {
          "base_uri": "https://localhost:8080/",
          "height": 106
        },
        "outputId": "43c145ad-9d86-4b9e-879b-4bc7b361a66a"
      },
      "source": [
        "from tensorflow.keras.preprocessing.text import Tokenizer\n",
        "from tensorflow.keras.preprocessing.sequence import pad_sequences\n",
        "\n",
        "tokenizer = Tokenizer(oov_token = \"<OOV>\", num_words = 10000)\n",
        "tokenizer.fit_on_texts(sentences)\n",
        "word_index = tokenizer.word_index\n",
        "print(word_index)\n",
        "\n",
        "sequences = tokenizer.texts_to_sequences(sentences)\n",
        "padded = pad_sequences(sequences, padding = 'pre')\n",
        "print(padded[0])\n",
        "print(padded.shape)"
      ],
      "execution_count": 21,
      "outputs": [
        {
          "output_type": "stream",
          "text": [
            "{'<OOV>': 1, 'i': 2, 'to': 3, 'a': 4, 'of': 5, 'am': 6, 'and': 7, 'my': 8, 'the': 9, 'have': 10, 'in': 11, 'people': 12, 'things': 13, 'be': 14, 'others': 15, 'feel': 16, 'get': 17, 'is': 18, 'with': 19, 'not': 20, \"i'm\": 21, 'or': 22, 'easily': 23, 'for': 24, 'me': 25, 'myself': 26, 'that': 27, 'like': 28, 'do': 29, 'when': 30, 'often': 31, 'on': 32, 'sometimes': 33, 'can': 34, 'as': 35, 'about': 36, 'at': 37, 'lot': 38, 'it': 39, 'work': 40, \"don't\": 41, 'them': 42, 'make': 43, 'take': 44, 'rarely': 45, 'believe': 46, 'than': 47, 'person': 48, 'think': 49, 'seldom': 50, 'time': 51, 'know': 52, 'up': 53, 'other': 54, 'keep': 55, 'feelings': 56, 'if': 57, 'ideas': 58, 'find': 59, 'very': 60, 'most': 61, 'try': 62, 'enjoy': 63, 'what': 64, 'by': 65, 'good': 66, 'done': 67, 'an': 68, 'always': 69, 'are': 70, 'around': 71, 'love': 72, 'way': 73, 'into': 74, 'would': 75, 'just': 76, 'problems': 77, \"others'\": 78, 'emotions': 79, 'being': 80, 'difficult': 81, 'little': 82, 'avoid': 83, 'mind': 84, 'go': 85, 'tend': 86, 'rather': 87, 'all': 88, 'usually': 89, 'wrong': 90, 'hard': 91, 'start': 92, 'want': 93, 'everything': 94, 'no': 95, 'need': 96, 'decisions': 97, 'new': 98, 'active': 99, 'pretty': 100, 'much': 101, 'should': 102, 'blue': 103, 'interested': 104, 'out': 105, 'nature': 106, 'abstract': 107, 'strong': 108, 'well': 109, 'bothered': 110, 'talk': 111, 'doing': 112, 'many': 113, 'assertive': 114, 'different': 115, 'has': 116, 'cold': 117, 'really': 118, 'known': 119, 'so': 120, 'human': 121, 'before': 122, 'let': 123, 'something': 124, 'too': 125, \"people's\": 126, 'quick': 127, 'angry': 128, 'waste': 129, 'difficulty': 130, 'art': 131, 'down': 132, 'seem': 133, 'under': 134, 'follow': 135, 'how': 136, 'music': 137, 'warm': 138, 'quickly': 139, 'poetry': 140, 'excitement': 141, 'reading': 142, 'right': 143, 'emotional': 144, 'interest': 145, 'first': 146, 'tends': 147, 'relaxed': 148, 'tense': 149, 'imagination': 150, 'artistic': 151, 'everyone': 152, 'self': 153, 'attention': 154, 'social': 155, 'life': 156, 'without': 157, 'some': 158, 'easy': 159, 'going': 160, 'even': 161, \"i'd\": 162, 'prefer': 163, 'deal': 164, 'plans': 165, 'friends': 166, 'leave': 167, 'belongings': 168, 'charge': 169, 'irritated': 170, 'better': 171, 'order': 172, 'personality': 173, 'comfortable': 174, 'handle': 175, 'upset': 176, 'reflect': 177, 'mess': 178, 'complex': 179, 'control': 180, 'depressed': 181, 'philosophical': 182, 'change': 183, 'mood': 184, 'will': 185, 'worry': 186, 'put': 187, 'material': 188, 'see': 189, 'leader': 190, 'notice': 191, 'moods': 192, 'creative': 193, 'back': 194, 'talkative': 195, 'does': 196, 'thorough': 197, 'somewhat': 198, 'careless': 199, 'full': 200, 'deep': 201, 'disorganized': 202, 'quiet': 203, 'stable': 204, 'shy': 205, 'considerate': 206, 'kind': 207, 'situations': 208, 'through': 209, 'gets': 210, 'nervous': 211, 'play': 212, 'ease': 213, 'envious': 214, 'high': 215, 'organized': 216, 'intellectual': 217, 'selfish': 218, 'duties': 219, 'plan': 220, 'pay': 221, 'spend': 222, 'their': 223, 'important': 224, 'anything': 225, 'someone': 226, 'never': 227, 'letting': 228, 'more': 229, \"i've\": 230, 'completely': 231, \"it's\": 232, 'been': 233, 'times': 234, 'look': 235, 'talking': 236, 'consider': 237, 'jobs': 238, 'carry': 239, 'understand': 240, 'respect': 241, 'beauty': 242, 'understanding': 243, 'inquire': 244, 'information': 245, 'hate': 246, 'tidy': 247, 'threatened': 248, 'needs': 249, 'solve': 250, 'advantage': 251, 'schedule': 252, 'captivate': 253, 'deeply': 254, 'sympathize': 255, 'finish': 256, 'wait': 257, 'lead': 258, 'indifferent': 259, 'task': 260, 'caught': 261, 'lose': 262, 'discouraged': 263, 'rich': 264, 'vocabulary': 265, 'insult': 266, 'embarrassed': 267, 'show': 268, 'routine': 269, 'thought': 270, 'overwhelmed': 271, 'events': 272, 'soft': 273, 'side': 274, 'learn': 275, 'act': 276, 'daydream': 277, 'distracted': 278, 'laugh': 279, 'own': 280, 'personal': 281, 'might': 282, 'job': 283, 'reserved': 284, 'helpful': 285, 'unselfish': 286, 'stress': 287, 'curious': 288, 'energy': 289, 'reliable': 290, 'generally': 291, 'lazy': 292, 'emotionally': 293, 'until': 294, 'moody': 295, 'aesthetic': 296, 'experiences': 297, 'inhibited': 298, 'almost': 299, 'calm': 300, 'outgoing': 301, 'rude': 302, 'likes': 303, 'few': 304, 'interests': 305, 'cooperate': 306, 'sophisticated': 307, 'agreeable': 308, 'anxious': 309, 'bold': 310, 'bright': 311, 'conscientious': 312, 'cooperative': 313, 'distrustful': 314, 'efficient': 315, 'energetic': 316, 'extraverted': 317, 'generous': 318, 'fearful': 319, 'imaginative': 320, 'impractical': 321, 'intelligent': 322, 'introverted': 323, 'negligent': 324, 'practical': 325, 'neat': 326, 'timid': 327, 'trustful': 328, 'unadventurous': 329, 'uncooperative': 330, 'uncreative': 331, 'unemotional': 332, 'unimaginative': 333, 'uninquisitive': 334, 'unintelligent': 335, 'unkind': 336, 'unreflective': 337, 'steady': 338, 'unsophisticated': 339, 'temperamental': 340, 'touchy': 341, 'away': 342, 'help': 343, 'use': 344, 'words': 345, 'handling': 346, 'conversations': 347, 'strangers': 348, 'exacting': 349, 'ways': 350, 'mad': 351, 'stick': 352, 'forget': 353, 'place': 354, 'parties': 355, 'prepared': 356, 'meet': 357, 'sense': 358, 'from': 359, 'open': 360, 'making': 361, 'set': 362, 'joy': 363, 'policies': 364, 'over': 365, 'thoughts': 366, 'lines': 367, 'tempered': 368, 'experience': 369, 'develop': 370, 'goals': 371, 'trouble': 372, 'resisting': 373, 'arguments': 374, 'boring': 375, 'experienced': 376, 'headed': 377, 'minded': 378, 'fantasy': 379, 'you': 380, 'alone': 381, 'wanted': 382, 'once': 383, 'puzzles': 384, 'cheerful': 385, 'we': 386, 'authorities': 387, 'later': 388, 'distant': 389, 'honest': 390, 'come': 391, 'where': 392, 'moment': 393, 'foods': 394, 'eat': 395, 'head': 396, 'sympathy': 397, 'action': 398, 'concentrating': 399, 'pride': 400, 'able': 401, 'wide': 402, 'range': 403, 'inferior': 404, 'ahead': 405, 'opinion': 406, 'project': 407, 'principles': 408, 'vacation': 409, 'certain': 410, 'strive': 411, 'sick': 412, 'looking': 413, 'carefully': 414, 'they': 415, 'again': 416, 'morality': 417, 'authority': 418, 'filled': 419, 'doubts': 420, 'importance': 421, 'distance': 422, 'pushy': 423, 'lack': 424, 'talent': 425, 'influencing': 426, \"can't\": 427, \"other's\": 428, 'reveal': 429, 'immersed': 430, 'discussions': 431, 'imposing': 432, 'messy': 433, 'hand': 434, 'composure': 435, 'pressure': 436, '“just': 437, '”': 438, 'aspects': 439, 'paintings': 440, 'pictures': 441, 'enthusiastic': 442, 'whose': 443, 'disorder': 444, 'outlet': 445, 'lives': 446, 'happy': 447, 'annoyed': 448, 'seek': 449, 'conflict': 450, 'dislike': 451, 'hold': 452, 'opinions': 453, 'lost': 454, 'become': 455, 'postpone': 456, 'fun': 457, 'slowly': 458, 'agitated': 459, 'fight': 460, 'rules': 461, 'observed': 462, 'afraid': 463, 'formulate': 464, 'clearly': 465, 'stirred': 466, 'gain': 467, 'every': 468, 'detail': 469, 'taken': 470, 'care': 471, 'fault': 472, 'original': 473, 'comes': 474, 'handles': 475, 'starts': 476, 'quarrels': 477, 'worker': 478, 'ingenious': 479, 'thinker': 480, 'generates': 481, 'enthusiasm': 482, 'forgiving': 483, 'worries': 484, 'trusting': 485, 'inventive': 486, 'aloof': 487, 'perseveres': 488, 'finished': 489, 'values': 490, 'efficiently': 491, 'remains': 492, 'prefers': 493, 'sociable': 494, 'makes': 495, 'follows': 496, 'literature': 497, 'politically': 498, 'liberal': 499, 'adventurous': 500, 'analytical': 501, 'bashful': 502, 'careful': 503, 'contented': 504, 'disagreeable': 505, 'daring': 506, 'discontented': 507, 'demanding': 508, 'extravagant': 509, 'hardworking': 510, 'fretful': 511, 'haphazard': 512, 'inactive': 513, 'harsh': 514, 'irresponsible': 515, 'strung': 516, 'imperceptive': 517, 'imperturbable': 518, 'inconsistent': 519, 'inefficient': 520, 'reflective': 521, 'innovative': 522, 'insecure': 523, 'responsible': 524, 'introspective': 525, 'silent': 526, 'irritable': 527, 'jealous': 528, 'stingy': 529, 'thrifty': 530, 'pleasant': 531, 'unanalytical': 532, 'prompt': 533, 'unassertive': 534, 'unenergetic': 535, 'pitying': 536, 'shallow': 537, 'simple': 538, 'sloppy': 539, 'sympathetic': 540, 'unstable': 541, 'systematic': 542, 'uncharitable': 543, 'undefendable': 544, 'undemanding': 545, 'unenvious': 546, 'unexcitable': 547, 'unintellectual': 548, 'unrestrained': 549, 'unsympathetic': 550, 'unsystematic': 551, 'untalkative': 552, 'verbal': 553, 'vigorous': 554, 'withdrawn': 555, 'chores': 556, 'frequent': 557, 'swings': 558, 'say': 559, 'grumble': 560, 'shirk': 561, 'bottle': 562, 'neglect': 563, 'conversation': 564, 'higher': 565, 'level': 566, 'excellent': 567, 'according': 568, 'details': 569, 'skilled': 570, 'imagining': 571, 'probe': 572, 'subject': 573, 'half': 574, 'manner': 575, 'background': 576, 'comfort': 577, 'word': 578, 'continue': 579, 'perfect': 580, 'regularity': 581, 'party': 582, 'terms': 583, 'nearly': 584, 'gratitude': 585, 'private': 586, 'approach': 587, 'room': 588, 'uncomfortable': 589, 'offense': 590, 'disturbed': 591, 'panic': 592, 'stressed': 593, 'reflecting': 594, 'vivid': 595, 'heart': 596, 'read': 597, 'challenging': 598, 'concern': 599, 'catch': 600, 'draw': 601, 'children': 602, 'center': 603, 'proper': 604, 'worrier': 605, 'cynical': 606, 'skeptical': 607, 'intentions': 608, 'prudence': 609, 'common': 610, 'treat': 611, 'crowds': 612, 'concerns': 613, \"aren't\": 614, 'crafty': 615, 'sly': 616, 'options': 617, 'advance': 618, 'lonely': 619, 'dominant': 620, 'forceful': 621, 'uninteresting': 622, 'egotistical': 623, 'perform': 624, 'tasks': 625, 'assigned': 626, 'conscientiously': 627, 'dealing': 628, 'dread': 629, 'blunder': 630, 'leisurely': 631, 'style': 632, 'compete': 633, 'lackadaisical': 634, 'overindulge': 635, 'crave': 636, 'playing': 637, 'theories': 638, 'bragging': 639, 'talents': 640, 'accomplishments': 641, 'pacing': 642, 'helpless': 643, 'else': 644, 'literally': 645, 'jumped': 646, 'students': 647, 'hear': 648, 'controversial': 649, 'speakers': 650, 'only': 651, 'confuse': 652, 'mislead': 653, 'political': 654, 'leaders': 655, 'aware': 656, 'years': 657, 'stupid': 658, 'frightened': 659, 'pleasure': 660, 'chatting': 661, 'directed': 662, 'along': 663, 'realistic': 664, 'flights': 665, 'fancy': 666, 'basically': 667, 'intentioned': 668, 'civic': 669, 'voting': 670, 'seriously': 671, 'absorbed': 672, 'listening': 673, 'necessary': 674, 'willing': 675, 'manipulate': 676, 'clean': 677, 'worthless': 678, 'fail': 679, 'assert': 680, 'courteous': 681, 'dependable': 682, 'conscious': 683, 'vigorously': 684, 'interesting': 685, 'hobbies': 686, 'sarcastic': 687, 'cutting': 688, 'clear': 689, 'toward': 690, 'orderly': 691, 'fashion': 692, 'cravings': 693, \"wouldn't\": 694, 'vacationing': 695, 'las': 696, 'vegas': 697, 'achievements': 698, 'settling': 699, 'capable': 700, 'coping': 701, 'intense': 702, 'ecstasy': 703, 'laws': 704, 'changing': 705, 'world': 706, 'tough': 707, 'attitudes': 708, 'coming': 709, 'decision': 710, 'friendly': 711, 'informed': 712, 'hot': 713, 'blooded': 714, 'watching': 715, 'ballet': 716, 'modern': 717, 'dance': 718, 'bores': 719, \"couldn't\": 720, 'deceive': 721, 'anyone': 722, 'methodical': 723, 'sad': 724, 'groups': 725, 'belonged': 726, 'calculating': 727, 'debts': 728, 'promptly': 729, 'ashamed': 730, 'hide': 731, 'likely': 732, 'slow': 733, 'but': 734, 'hesitate': 735, 'express': 736, 'anger': 737, 'justified': 738, 'improvement': 739, 'program': 740, 'slide': 741, 'after': 742, 'days': 743, 'difficultly': 744, 'temptation': 745, 'kicks': 746, 'thrills': 747, 'solving': 748, 'productive': 749, 'who': 750, 'great': 751, 'pieces': 752, 'optimist': 753, 'our': 754, 'religious': 755, 'moral': 756, 'issues': 757, 'poor': 758, 'elderly': 759, 'occasionally': 760, 'jittery': 761, 'daydreaming': 762, 'trustworthy': 763, 'fully': 764, 'considered': 765, 'long': 766, 'intrigued': 767, 'patterns': 768, 'perfectly': 769, 'bad': 770, 'business': 771, 'its': 772, 'guilt': 773, 'sinfulness': 774, 'meetings': 775, 'thoughtful': 776, 'cheat': 777, 'solitaire': 778, \"doesn't\": 779, 'embarrass': 780, 'ridicule': 781, 'tease': 782, 'bursting': 783, 'foreign': 784, 'accomplish': 785, 'having': 786, 'favorite': 787, 'movies': 788, 'shocking': 789, 'scary': 790, 'sometime': 791, 'theoretical': 792, 'matters': 793, 'humble': 794, 'cool': 795, 'emergencies': 796, 'bubble': 797, 'happiness': 798, 'societies': 799, 'may': 800, 'valid': 801, 'panhandlers': 802, 'consequences': 803, 'apprehensive': 804, 'future': 805, 'exploring': 806, 'possibilities': 807, 'grow': 808, 'suspicious': 809, 'nice': 810, 'sound': 811, 'judgment': 812, 'disgusted': 813, 'effect': 814, 'hypocrite': 815, 'blame': 816, 'goes': 817, 'generosity': 818, 'commitment': 819, 'counted': 820, 'lively': 821, 'familiar': 822, 'surroundings': 823, 'insulted': 824, 'forgive': 825, 'driven': 826, 'give': 827, 'impulses': 828, 'working': 829, 'twister': 830, 'type': 831, 'especially': 832, 'light': 833, 'hearted': 834, 'loyalty': 835, \"one's\": 836, 'ideals': 837, 'mindedness': 838, 'priority': 839, 'economic': 840, 'considerations': 841, 'spur': 842, 'smile': 843, 'starting': 844, 'drift': 845, 'off': 846, 'daydreams': 847, 'busy': 848, 'activity': 849, 'instead': 850, 'reaction': 851, 'trust': 852, 'successful': 853, 'takes': 854, 'popular': 855, 'beach': 856, 'isolated': 857, 'cabin': 858, 'woods': 859, 'kinds': 860, 'endless': 861, 'fascination': 862, 'trick': 863, 'fastidious': 864, 'low': 865, 'environments': 866, 'produce': 867, 'adhere': 868, 'strictly': 869, 'ethical': 870, 'presence': 871, 'bosses': 872, 'hurry': 873, 'changes': 874, 'house': 875, 'achieve': 876, 'roller': 877, 'coasters': 878, 'speculating': 879, 'universe': 880, 'condition': 881, 'matter': 882, 'conditions': 883, 'inclined': 884, 'one': 885, 'crisis': 886, 'spirited': 887, 'broad': 888, 'tolerant': 889, 'lifestyles': 890, 'beings': 891, 'worthy': 892, 'hasty': 893, 'fewer': 894, 'fears': 895, 'attachments': 896, 'child': 897, 'enjoyed': 898, 'games': 899, 'assume': 900, 'best': 901, 'competent': 902, 'felt': 903, 'bitter': 904, 'resentful': 905, 'gatherings': 906, 'chill': 907, 'wave': 908, 'bully': 909, 'flatter': 910, 'compulsive': 911, 'cleaning': 912, 'bleak': 913, 'hopeless': 914, 'empathize': 915, 'feeling': 916, 'charitable': 917, \"won't\": 918, 'said': 919, 'thing': 920, 'hardly': 921, 'bear': 922, 'face': 923, 'fast': 924, 'paced': 925, 'tried': 926, 'true': 927, 'spot': 928, 'stubborn': 929, 'excellence': 930, 'impulse': 931, 'regret': 932, 'attracted': 933, 'colors': 934, 'flashy': 935, 'styles': 936, 'curiosity': 937, 'praise': 938, 'praised': 939, 'there': 940, 'ignore': 941, 'seems': 942, 'still': 943, 'fantastic': 944, 'sensational': 945, 'describe': 946, \"they're\": 947, '25': 948, \"there's\": 949, 'less': 950, 'fortunate': 951, 'trip': 952, 'frightening': 953, 'wander': 954, 'guidance': 955, 'faith': 956, 'effective': 957, 'minor': 958, 'annoyances': 959, 'frustrating': 960, 'lots': 961, 'emphasizes': 962, 'images': 963, 'story': 964, 'shrewdness': 965, 'misplaced': 966, 'giving': 967, 'situation': 968, 'odd': 969, 'scents': 970, 'names': 971, 'places': 972, 'evoke': 973, 'miss': 974, 'day': 975, 'foolish': 976, 'same': 977, 'route': 978, 'someplace': 979, 'family': 980, 'co': 981, 'workers': 982, 'workaholic': 983, 'part': 984, 'crowd': 985, 'sporting': 986, 'superior': 987, 'discipline': 988, 'permissiveness': 989, 'merciful': 990, 'twice': 991, 'answer': 992, 'question': 993}\n",
            "[  0   0   0   0   0   0   0   0   0   0   0   0   0   0   0   0   0   0\n",
            "   0   0   2  50  16 103]\n",
            "(655, 24)\n"
          ],
          "name": "stdout"
        }
      ]
    },
    {
      "cell_type": "markdown",
      "metadata": {
        "id": "XPRZsKqNqAzI",
        "colab_type": "text"
      },
      "source": [
        "TRAINING"
      ]
    },
    {
      "cell_type": "code",
      "metadata": {
        "id": "TzQw4-FfqDGP",
        "colab_type": "code",
        "colab": {}
      },
      "source": [
        "#split training and validation sample\n",
        "training_data, training_labels = np.asarray(padded[ :524]), labels[ :524]\n",
        "test_data, test_labels = np.asarray(padded[525: ]), labels[525: ]"
      ],
      "execution_count": 0,
      "outputs": []
    },
    {
      "cell_type": "markdown",
      "metadata": {
        "id": "QCBU3SGEqGeU",
        "colab_type": "text"
      },
      "source": [
        "MODEL PERFORMANCE"
      ]
    },
    {
      "cell_type": "code",
      "metadata": {
        "id": "rTJBBDYIqJVx",
        "colab_type": "code",
        "colab": {}
      },
      "source": [
        ""
      ],
      "execution_count": 0,
      "outputs": []
    },
    {
      "cell_type": "markdown",
      "metadata": {
        "id": "zC-s3jc7qH8Q",
        "colab_type": "text"
      },
      "source": [
        "MODEL "
      ]
    },
    {
      "cell_type": "code",
      "metadata": {
        "id": "CsGHSzdVSp1O",
        "colab_type": "code",
        "colab": {
          "base_uri": "https://localhost:8080/",
          "height": 139
        },
        "outputId": "e4c6ab2f-9916-4a1c-b099-80d94c7e0fb8"
      },
      "source": [
        "training_data"
      ],
      "execution_count": 53,
      "outputs": [
        {
          "output_type": "execute_result",
          "data": {
            "text/plain": [
              "array([[  0,   0,   0, ...,  50,  16, 103],\n",
              "       [  0,   0,   0, ...,  54, 126,  77],\n",
              "       [  0,   0,   0, ..., 105,   8, 165],\n",
              "       ...,\n",
              "       [  0,   0,   0, ..., 783,  19, 289],\n",
              "       [  0,   0,   0, ...,   7, 784, 394],\n",
              "       [  0,   0,   0, ...,  42,  52,  39]], dtype=int32)"
            ]
          },
          "metadata": {
            "tags": []
          },
          "execution_count": 53
        }
      ]
    },
    {
      "cell_type": "code",
      "metadata": {
        "id": "n1CaznCWqIam",
        "colab_type": "code",
        "colab": {}
      },
      "source": [
        "model = tf.keras.Sequential([\n",
        "    tf.keras.layers.Embedding(1000, 64),\n",
        "    tf.keras.layers.Conv1D(128, 5, activation='relu'),\n",
        "    tf.keras.layers.GlobalAveragePooling1D(),\n",
        "    tf.keras.layers.Dense(64, activation='relu'),\n",
        "    tf.keras.layers.Dense(5, activation='relu')\n",
        "])"
      ],
      "execution_count": 0,
      "outputs": []
    },
    {
      "cell_type": "code",
      "metadata": {
        "id": "PC_Y1_E1O036",
        "colab_type": "code",
        "colab": {
          "base_uri": "https://localhost:8080/",
          "height": 330
        },
        "outputId": "1016b7f9-2990-401a-95ce-a74cf3f9b539"
      },
      "source": [
        "model.summary()"
      ],
      "execution_count": 74,
      "outputs": [
        {
          "output_type": "stream",
          "text": [
            "Model: \"sequential_5\"\n",
            "_________________________________________________________________\n",
            "Layer (type)                 Output Shape              Param #   \n",
            "=================================================================\n",
            "embedding_5 (Embedding)      (None, None, 64)          64000     \n",
            "_________________________________________________________________\n",
            "conv1d_5 (Conv1D)            (None, None, 128)         8320      \n",
            "_________________________________________________________________\n",
            "global_average_pooling1d_5 ( (None, 128)               0         \n",
            "_________________________________________________________________\n",
            "dense_10 (Dense)             (None, 64)                8256      \n",
            "_________________________________________________________________\n",
            "dense_11 (Dense)             (None, 5)                 325       \n",
            "=================================================================\n",
            "Total params: 80,901\n",
            "Trainable params: 80,901\n",
            "Non-trainable params: 0\n",
            "_________________________________________________________________\n"
          ],
          "name": "stdout"
        }
      ]
    },
    {
      "cell_type": "code",
      "metadata": {
        "id": "lfJHoK5GPDfD",
        "colab_type": "code",
        "colab": {}
      },
      "source": [
        "model.compile(loss = 'sparse_categorical_crossentropy', optimizer='adam', metrics=['accuracy'])"
      ],
      "execution_count": 0,
      "outputs": []
    },
    {
      "cell_type": "code",
      "metadata": {
        "id": "6kNZ4jo4O5C-",
        "colab_type": "code",
        "colab": {
          "base_uri": "https://localhost:8080/",
          "height": 1000
        },
        "outputId": "e910aa46-bb9a-4885-a3ba-3c7ca2b71b9a"
      },
      "source": [
        "#NUM_EPOCHS = 10\n",
        "history = model.fit(training_data, training_labels,\n",
        "                    #test_data, test_labels,\n",
        "                    epochs=100)"
      ],
      "execution_count": 76,
      "outputs": [
        {
          "output_type": "stream",
          "text": [
            "Train on 524 samples\n",
            "Epoch 1/100\n",
            "524/524 [==============================] - 1s 1ms/sample - loss: 2.2167 - accuracy: 0.1927\n",
            "Epoch 2/100\n",
            "524/524 [==============================] - 0s 154us/sample - loss: 1.6242 - accuracy: 0.2004\n",
            "Epoch 3/100\n",
            "524/524 [==============================] - 0s 167us/sample - loss: 1.6094 - accuracy: 0.2004\n",
            "Epoch 4/100\n",
            "524/524 [==============================] - 0s 169us/sample - loss: 1.6094 - accuracy: 0.2004\n",
            "Epoch 5/100\n",
            "524/524 [==============================] - 0s 166us/sample - loss: 1.6094 - accuracy: 0.2004\n",
            "Epoch 6/100\n",
            "524/524 [==============================] - 0s 156us/sample - loss: 1.6094 - accuracy: 0.2004\n",
            "Epoch 7/100\n",
            "524/524 [==============================] - 0s 158us/sample - loss: 1.6094 - accuracy: 0.2004\n",
            "Epoch 8/100\n",
            "524/524 [==============================] - 0s 162us/sample - loss: 1.6094 - accuracy: 0.2004\n",
            "Epoch 9/100\n",
            "524/524 [==============================] - 0s 193us/sample - loss: 1.6094 - accuracy: 0.2004\n",
            "Epoch 10/100\n",
            "524/524 [==============================] - 0s 181us/sample - loss: 1.6094 - accuracy: 0.2004\n",
            "Epoch 11/100\n",
            "524/524 [==============================] - 0s 169us/sample - loss: 1.6094 - accuracy: 0.2004\n",
            "Epoch 12/100\n",
            "524/524 [==============================] - 0s 165us/sample - loss: 1.6094 - accuracy: 0.2004\n",
            "Epoch 13/100\n",
            "524/524 [==============================] - 0s 156us/sample - loss: 1.6094 - accuracy: 0.2004\n",
            "Epoch 14/100\n",
            "524/524 [==============================] - 0s 162us/sample - loss: 1.6094 - accuracy: 0.2004\n",
            "Epoch 15/100\n",
            "524/524 [==============================] - 0s 164us/sample - loss: 1.6094 - accuracy: 0.2004\n",
            "Epoch 16/100\n",
            "524/524 [==============================] - 0s 175us/sample - loss: 1.6094 - accuracy: 0.2004\n",
            "Epoch 17/100\n",
            "524/524 [==============================] - 0s 175us/sample - loss: 1.6094 - accuracy: 0.2004\n",
            "Epoch 18/100\n",
            "524/524 [==============================] - 0s 159us/sample - loss: 1.6094 - accuracy: 0.2004\n",
            "Epoch 19/100\n",
            "524/524 [==============================] - 0s 146us/sample - loss: 1.6094 - accuracy: 0.2004\n",
            "Epoch 20/100\n",
            "524/524 [==============================] - 0s 168us/sample - loss: 1.6094 - accuracy: 0.2004\n",
            "Epoch 21/100\n",
            "524/524 [==============================] - 0s 184us/sample - loss: 1.6094 - accuracy: 0.2004\n",
            "Epoch 22/100\n",
            "524/524 [==============================] - 0s 157us/sample - loss: 1.6094 - accuracy: 0.2004\n",
            "Epoch 23/100\n",
            "524/524 [==============================] - 0s 160us/sample - loss: 1.6094 - accuracy: 0.2004\n",
            "Epoch 24/100\n",
            "524/524 [==============================] - 0s 161us/sample - loss: 1.6094 - accuracy: 0.2004\n",
            "Epoch 25/100\n",
            "524/524 [==============================] - 0s 183us/sample - loss: 1.6094 - accuracy: 0.2004\n",
            "Epoch 26/100\n",
            "524/524 [==============================] - 0s 170us/sample - loss: 1.6094 - accuracy: 0.2004\n",
            "Epoch 27/100\n",
            "524/524 [==============================] - 0s 167us/sample - loss: 1.6094 - accuracy: 0.2004\n",
            "Epoch 28/100\n",
            "524/524 [==============================] - 0s 152us/sample - loss: 1.6094 - accuracy: 0.2004\n",
            "Epoch 29/100\n",
            "524/524 [==============================] - 0s 153us/sample - loss: 1.6094 - accuracy: 0.2004\n",
            "Epoch 30/100\n",
            "524/524 [==============================] - 0s 150us/sample - loss: 1.6094 - accuracy: 0.2004\n",
            "Epoch 31/100\n",
            "524/524 [==============================] - 0s 154us/sample - loss: 1.6094 - accuracy: 0.2004\n",
            "Epoch 32/100\n",
            "524/524 [==============================] - 0s 164us/sample - loss: 1.6094 - accuracy: 0.2004\n",
            "Epoch 33/100\n",
            "524/524 [==============================] - 0s 160us/sample - loss: 1.6094 - accuracy: 0.2004\n",
            "Epoch 34/100\n",
            "524/524 [==============================] - 0s 146us/sample - loss: 1.6094 - accuracy: 0.2004\n",
            "Epoch 35/100\n",
            "524/524 [==============================] - 0s 153us/sample - loss: 1.6094 - accuracy: 0.2004\n",
            "Epoch 36/100\n",
            "524/524 [==============================] - 0s 151us/sample - loss: 1.6094 - accuracy: 0.2004\n",
            "Epoch 37/100\n",
            "524/524 [==============================] - 0s 149us/sample - loss: 1.6094 - accuracy: 0.2004\n",
            "Epoch 38/100\n",
            "524/524 [==============================] - 0s 164us/sample - loss: 1.6094 - accuracy: 0.2004\n",
            "Epoch 39/100\n",
            "524/524 [==============================] - 0s 184us/sample - loss: 1.6094 - accuracy: 0.2004\n",
            "Epoch 40/100\n",
            "524/524 [==============================] - 0s 158us/sample - loss: 1.6094 - accuracy: 0.2004\n",
            "Epoch 41/100\n",
            "524/524 [==============================] - 0s 152us/sample - loss: 1.6094 - accuracy: 0.2004\n",
            "Epoch 42/100\n",
            "524/524 [==============================] - 0s 166us/sample - loss: 1.6094 - accuracy: 0.2004\n",
            "Epoch 43/100\n",
            "524/524 [==============================] - 0s 168us/sample - loss: 1.6094 - accuracy: 0.2004\n",
            "Epoch 44/100\n",
            "524/524 [==============================] - 0s 164us/sample - loss: 1.6094 - accuracy: 0.2004\n",
            "Epoch 45/100\n",
            "524/524 [==============================] - 0s 166us/sample - loss: 1.6094 - accuracy: 0.2004\n",
            "Epoch 46/100\n",
            "524/524 [==============================] - 0s 155us/sample - loss: 1.6094 - accuracy: 0.2004\n",
            "Epoch 47/100\n",
            "524/524 [==============================] - 0s 164us/sample - loss: 1.6094 - accuracy: 0.2004\n",
            "Epoch 48/100\n",
            "524/524 [==============================] - 0s 165us/sample - loss: 1.6094 - accuracy: 0.2004\n",
            "Epoch 49/100\n",
            "524/524 [==============================] - 0s 173us/sample - loss: 1.6094 - accuracy: 0.2004\n",
            "Epoch 50/100\n",
            "524/524 [==============================] - 0s 159us/sample - loss: 1.6094 - accuracy: 0.2004\n",
            "Epoch 51/100\n",
            "524/524 [==============================] - 0s 157us/sample - loss: 1.6094 - accuracy: 0.2004\n",
            "Epoch 52/100\n",
            "524/524 [==============================] - 0s 148us/sample - loss: 1.6094 - accuracy: 0.2004\n",
            "Epoch 53/100\n",
            "524/524 [==============================] - 0s 167us/sample - loss: 1.6094 - accuracy: 0.2004\n",
            "Epoch 54/100\n",
            "524/524 [==============================] - 0s 172us/sample - loss: 1.6094 - accuracy: 0.2004\n",
            "Epoch 55/100\n",
            "524/524 [==============================] - 0s 169us/sample - loss: 1.6094 - accuracy: 0.2004\n",
            "Epoch 56/100\n",
            "524/524 [==============================] - 0s 170us/sample - loss: 1.6094 - accuracy: 0.2004\n",
            "Epoch 57/100\n",
            "524/524 [==============================] - 0s 160us/sample - loss: 1.6094 - accuracy: 0.2004\n",
            "Epoch 58/100\n",
            "524/524 [==============================] - 0s 158us/sample - loss: 1.6094 - accuracy: 0.2004\n",
            "Epoch 59/100\n",
            "524/524 [==============================] - 0s 167us/sample - loss: 1.6094 - accuracy: 0.2004\n",
            "Epoch 60/100\n",
            "524/524 [==============================] - 0s 171us/sample - loss: 1.6094 - accuracy: 0.2004\n",
            "Epoch 61/100\n",
            "524/524 [==============================] - 0s 158us/sample - loss: 1.6094 - accuracy: 0.2004\n",
            "Epoch 62/100\n",
            "524/524 [==============================] - 0s 155us/sample - loss: 1.6094 - accuracy: 0.2004\n",
            "Epoch 63/100\n",
            "524/524 [==============================] - 0s 164us/sample - loss: 1.6094 - accuracy: 0.2004\n",
            "Epoch 64/100\n",
            "524/524 [==============================] - 0s 149us/sample - loss: 1.6094 - accuracy: 0.2004\n",
            "Epoch 65/100\n",
            "524/524 [==============================] - 0s 163us/sample - loss: 1.6094 - accuracy: 0.2004\n",
            "Epoch 66/100\n",
            "524/524 [==============================] - 0s 174us/sample - loss: 1.6094 - accuracy: 0.2004\n",
            "Epoch 67/100\n",
            "524/524 [==============================] - 0s 171us/sample - loss: 1.6094 - accuracy: 0.2004\n",
            "Epoch 68/100\n",
            "524/524 [==============================] - 0s 181us/sample - loss: 1.6094 - accuracy: 0.2004\n",
            "Epoch 69/100\n",
            "524/524 [==============================] - 0s 165us/sample - loss: 1.6094 - accuracy: 0.2004\n",
            "Epoch 70/100\n",
            "524/524 [==============================] - 0s 172us/sample - loss: 1.6094 - accuracy: 0.2004\n",
            "Epoch 71/100\n",
            "524/524 [==============================] - 0s 152us/sample - loss: 1.6094 - accuracy: 0.2004\n",
            "Epoch 72/100\n",
            "524/524 [==============================] - 0s 159us/sample - loss: 1.6094 - accuracy: 0.2004\n",
            "Epoch 73/100\n",
            "524/524 [==============================] - 0s 166us/sample - loss: 1.6094 - accuracy: 0.2004\n",
            "Epoch 74/100\n",
            "524/524 [==============================] - 0s 174us/sample - loss: 1.6094 - accuracy: 0.2004\n",
            "Epoch 75/100\n",
            "524/524 [==============================] - 0s 158us/sample - loss: 1.6094 - accuracy: 0.2004\n",
            "Epoch 76/100\n",
            "524/524 [==============================] - 0s 156us/sample - loss: 1.6094 - accuracy: 0.2004\n",
            "Epoch 77/100\n",
            "524/524 [==============================] - 0s 157us/sample - loss: 1.6094 - accuracy: 0.2004\n",
            "Epoch 78/100\n",
            "524/524 [==============================] - 0s 153us/sample - loss: 1.6094 - accuracy: 0.2004\n",
            "Epoch 79/100\n",
            "524/524 [==============================] - 0s 147us/sample - loss: 1.6094 - accuracy: 0.2004\n",
            "Epoch 80/100\n",
            "524/524 [==============================] - 0s 176us/sample - loss: 1.6094 - accuracy: 0.2004\n",
            "Epoch 81/100\n",
            "524/524 [==============================] - 0s 155us/sample - loss: 1.6094 - accuracy: 0.2004\n",
            "Epoch 82/100\n",
            "524/524 [==============================] - 0s 172us/sample - loss: 1.6094 - accuracy: 0.2004\n",
            "Epoch 83/100\n",
            "524/524 [==============================] - 0s 158us/sample - loss: 1.6094 - accuracy: 0.2004\n",
            "Epoch 84/100\n",
            "524/524 [==============================] - 0s 183us/sample - loss: 1.6094 - accuracy: 0.2004\n",
            "Epoch 85/100\n",
            "524/524 [==============================] - 0s 169us/sample - loss: 1.6094 - accuracy: 0.2004\n",
            "Epoch 86/100\n",
            "524/524 [==============================] - 0s 163us/sample - loss: 1.6094 - accuracy: 0.2004\n",
            "Epoch 87/100\n",
            "524/524 [==============================] - 0s 155us/sample - loss: 1.6094 - accuracy: 0.2004\n",
            "Epoch 88/100\n",
            "524/524 [==============================] - 0s 155us/sample - loss: 1.6094 - accuracy: 0.2004\n",
            "Epoch 89/100\n",
            "524/524 [==============================] - 0s 155us/sample - loss: 1.6094 - accuracy: 0.2004\n",
            "Epoch 90/100\n",
            "524/524 [==============================] - 0s 150us/sample - loss: 1.6094 - accuracy: 0.2004\n",
            "Epoch 91/100\n",
            "524/524 [==============================] - 0s 156us/sample - loss: 1.6094 - accuracy: 0.2004\n",
            "Epoch 92/100\n",
            "524/524 [==============================] - 0s 144us/sample - loss: 1.6094 - accuracy: 0.2004\n",
            "Epoch 93/100\n",
            "524/524 [==============================] - 0s 166us/sample - loss: 1.6094 - accuracy: 0.2004\n",
            "Epoch 94/100\n",
            "524/524 [==============================] - 0s 172us/sample - loss: 1.6094 - accuracy: 0.2004\n",
            "Epoch 95/100\n",
            "524/524 [==============================] - 0s 164us/sample - loss: 1.6094 - accuracy: 0.2004\n",
            "Epoch 96/100\n",
            "524/524 [==============================] - 0s 169us/sample - loss: 1.6094 - accuracy: 0.2004\n",
            "Epoch 97/100\n",
            "524/524 [==============================] - 0s 169us/sample - loss: 1.6094 - accuracy: 0.2004\n",
            "Epoch 98/100\n",
            "524/524 [==============================] - 0s 143us/sample - loss: 1.6094 - accuracy: 0.2004\n",
            "Epoch 99/100\n",
            "524/524 [==============================] - 0s 166us/sample - loss: 1.6094 - accuracy: 0.2004\n",
            "Epoch 100/100\n",
            "524/524 [==============================] - 0s 172us/sample - loss: 1.6094 - accuracy: 0.2004\n"
          ],
          "name": "stdout"
        }
      ]
    },
    {
      "cell_type": "code",
      "metadata": {
        "id": "sE_1psYPUv4C",
        "colab_type": "code",
        "colab": {}
      },
      "source": [
        "checkponnt"
      ],
      "execution_count": 0,
      "outputs": []
    },
    {
      "cell_type": "code",
      "metadata": {
        "id": "AGF0UqpsUxn1",
        "colab_type": "code",
        "colab": {}
      },
      "source": [
        "model.save()"
      ],
      "execution_count": 0,
      "outputs": []
    },
    {
      "cell_type": "code",
      "metadata": {
        "id": "PbK3uMwEUyrC",
        "colab_type": "code",
        "colab": {}
      },
      "source": [
        "model.predict()"
      ],
      "execution_count": 0,
      "outputs": []
    }
  ]
}