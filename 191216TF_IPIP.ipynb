{
  "nbformat": 4,
  "nbformat_minor": 0,
  "metadata": {
    "colab": {
      "name": "191216TF_IPIP.ipynb",
      "provenance": [],
      "collapsed_sections": [],
      "include_colab_link": true
    },
    "kernelspec": {
      "name": "python3",
      "display_name": "Python 3"
    },
    "accelerator": "GPU"
  },
  "cells": [
    {
      "cell_type": "markdown",
      "metadata": {
        "id": "view-in-github",
        "colab_type": "text"
      },
      "source": [
        "<a href=\"https://colab.research.google.com/github/jhuang12/Tensorflow-for-personality-items-classification/blob/master/191216TF_IPIP.ipynb\" target=\"_parent\"><img src=\"https://colab.research.google.com/assets/colab-badge.svg\" alt=\"Open In Colab\"/></a>"
      ]
    },
    {
      "cell_type": "code",
      "metadata": {
        "id": "52bYMFnQprcf",
        "colab_type": "code",
        "colab": {}
      },
      "source": [
        "#THIS NOTEBOOK WAS CREATED TO USE TF NLP FOR IPIP ITEMS"
      ],
      "execution_count": 0,
      "outputs": []
    },
    {
      "cell_type": "code",
      "metadata": {
        "id": "jkBl41YZNuzj",
        "colab_type": "code",
        "colab": {}
      },
      "source": [
        "import pandas as pd\n",
        "import os\n",
        "import numpy as np\n",
        "import tensorflow as tf"
      ],
      "execution_count": 0,
      "outputs": []
    },
    {
      "cell_type": "code",
      "metadata": {
        "id": "3HmQPn2QLInf",
        "colab_type": "code",
        "outputId": "a3297fd3-a769-42d5-89df-f71e888f07ad",
        "colab": {
          "base_uri": "https://localhost:8080/",
          "height": 34
        }
      },
      "source": [
        "print(tf.__version__)"
      ],
      "execution_count": 2,
      "outputs": [
        {
          "output_type": "stream",
          "text": [
            "1.15.0\n"
          ],
          "name": "stdout"
        }
      ]
    },
    {
      "cell_type": "code",
      "metadata": {
        "id": "9Di92YMtLRR-",
        "colab_type": "code",
        "outputId": "9db883ed-fc5a-4562-de0e-38403d46d759",
        "colab": {
          "base_uri": "https://localhost:8080/",
          "height": 615
        }
      },
      "source": [
        "!pip install tensorflow==2.0.0"
      ],
      "execution_count": 2,
      "outputs": [
        {
          "output_type": "stream",
          "text": [
            "Requirement already satisfied: tensorflow==2.0.0 in /usr/local/lib/python3.6/dist-packages (2.0.0)\n",
            "Requirement already satisfied: numpy<2.0,>=1.16.0 in /usr/local/lib/python3.6/dist-packages (from tensorflow==2.0.0) (1.17.4)\n",
            "Requirement already satisfied: keras-preprocessing>=1.0.5 in /usr/local/lib/python3.6/dist-packages (from tensorflow==2.0.0) (1.1.0)\n",
            "Requirement already satisfied: gast==0.2.2 in /usr/local/lib/python3.6/dist-packages (from tensorflow==2.0.0) (0.2.2)\n",
            "Requirement already satisfied: wheel>=0.26 in /usr/local/lib/python3.6/dist-packages (from tensorflow==2.0.0) (0.33.6)\n",
            "Requirement already satisfied: absl-py>=0.7.0 in /usr/local/lib/python3.6/dist-packages (from tensorflow==2.0.0) (0.8.1)\n",
            "Requirement already satisfied: keras-applications>=1.0.8 in /usr/local/lib/python3.6/dist-packages (from tensorflow==2.0.0) (1.0.8)\n",
            "Requirement already satisfied: tensorboard<2.1.0,>=2.0.0 in /usr/local/lib/python3.6/dist-packages (from tensorflow==2.0.0) (2.0.2)\n",
            "Requirement already satisfied: six>=1.10.0 in /usr/local/lib/python3.6/dist-packages (from tensorflow==2.0.0) (1.12.0)\n",
            "Requirement already satisfied: opt-einsum>=2.3.2 in /usr/local/lib/python3.6/dist-packages (from tensorflow==2.0.0) (3.1.0)\n",
            "Requirement already satisfied: grpcio>=1.8.6 in /usr/local/lib/python3.6/dist-packages (from tensorflow==2.0.0) (1.15.0)\n",
            "Requirement already satisfied: google-pasta>=0.1.6 in /usr/local/lib/python3.6/dist-packages (from tensorflow==2.0.0) (0.1.8)\n",
            "Requirement already satisfied: protobuf>=3.6.1 in /usr/local/lib/python3.6/dist-packages (from tensorflow==2.0.0) (3.10.0)\n",
            "Requirement already satisfied: wrapt>=1.11.1 in /usr/local/lib/python3.6/dist-packages (from tensorflow==2.0.0) (1.11.2)\n",
            "Requirement already satisfied: astor>=0.6.0 in /usr/local/lib/python3.6/dist-packages (from tensorflow==2.0.0) (0.8.1)\n",
            "Requirement already satisfied: tensorflow-estimator<2.1.0,>=2.0.0 in /usr/local/lib/python3.6/dist-packages (from tensorflow==2.0.0) (2.0.1)\n",
            "Requirement already satisfied: termcolor>=1.1.0 in /usr/local/lib/python3.6/dist-packages (from tensorflow==2.0.0) (1.1.0)\n",
            "Requirement already satisfied: h5py in /usr/local/lib/python3.6/dist-packages (from keras-applications>=1.0.8->tensorflow==2.0.0) (2.8.0)\n",
            "Requirement already satisfied: markdown>=2.6.8 in /usr/local/lib/python3.6/dist-packages (from tensorboard<2.1.0,>=2.0.0->tensorflow==2.0.0) (3.1.1)\n",
            "Requirement already satisfied: werkzeug>=0.11.15 in /usr/local/lib/python3.6/dist-packages (from tensorboard<2.1.0,>=2.0.0->tensorflow==2.0.0) (0.16.0)\n",
            "Requirement already satisfied: google-auth<2,>=1.6.3 in /usr/local/lib/python3.6/dist-packages (from tensorboard<2.1.0,>=2.0.0->tensorflow==2.0.0) (1.10.0)\n",
            "Requirement already satisfied: google-auth-oauthlib<0.5,>=0.4.1 in /usr/local/lib/python3.6/dist-packages (from tensorboard<2.1.0,>=2.0.0->tensorflow==2.0.0) (0.4.1)\n",
            "Requirement already satisfied: requests<3,>=2.21.0 in /usr/local/lib/python3.6/dist-packages (from tensorboard<2.1.0,>=2.0.0->tensorflow==2.0.0) (2.21.0)\n",
            "Requirement already satisfied: setuptools>=41.0.0 in /usr/local/lib/python3.6/dist-packages (from tensorboard<2.1.0,>=2.0.0->tensorflow==2.0.0) (42.0.2)\n",
            "Requirement already satisfied: pyasn1-modules>=0.2.1 in /usr/local/lib/python3.6/dist-packages (from google-auth<2,>=1.6.3->tensorboard<2.1.0,>=2.0.0->tensorflow==2.0.0) (0.2.7)\n",
            "Requirement already satisfied: rsa<4.1,>=3.1.4 in /usr/local/lib/python3.6/dist-packages (from google-auth<2,>=1.6.3->tensorboard<2.1.0,>=2.0.0->tensorflow==2.0.0) (4.0)\n",
            "Requirement already satisfied: cachetools<5.0,>=2.0.0 in /usr/local/lib/python3.6/dist-packages (from google-auth<2,>=1.6.3->tensorboard<2.1.0,>=2.0.0->tensorflow==2.0.0) (4.0.0)\n",
            "Requirement already satisfied: requests-oauthlib>=0.7.0 in /usr/local/lib/python3.6/dist-packages (from google-auth-oauthlib<0.5,>=0.4.1->tensorboard<2.1.0,>=2.0.0->tensorflow==2.0.0) (1.3.0)\n",
            "Requirement already satisfied: certifi>=2017.4.17 in /usr/local/lib/python3.6/dist-packages (from requests<3,>=2.21.0->tensorboard<2.1.0,>=2.0.0->tensorflow==2.0.0) (2019.11.28)\n",
            "Requirement already satisfied: idna<2.9,>=2.5 in /usr/local/lib/python3.6/dist-packages (from requests<3,>=2.21.0->tensorboard<2.1.0,>=2.0.0->tensorflow==2.0.0) (2.8)\n",
            "Requirement already satisfied: chardet<3.1.0,>=3.0.2 in /usr/local/lib/python3.6/dist-packages (from requests<3,>=2.21.0->tensorboard<2.1.0,>=2.0.0->tensorflow==2.0.0) (3.0.4)\n",
            "Requirement already satisfied: urllib3<1.25,>=1.21.1 in /usr/local/lib/python3.6/dist-packages (from requests<3,>=2.21.0->tensorboard<2.1.0,>=2.0.0->tensorflow==2.0.0) (1.24.3)\n",
            "Requirement already satisfied: pyasn1<0.5.0,>=0.4.6 in /usr/local/lib/python3.6/dist-packages (from pyasn1-modules>=0.2.1->google-auth<2,>=1.6.3->tensorboard<2.1.0,>=2.0.0->tensorflow==2.0.0) (0.4.8)\n",
            "Requirement already satisfied: oauthlib>=3.0.0 in /usr/local/lib/python3.6/dist-packages (from requests-oauthlib>=0.7.0->google-auth-oauthlib<0.5,>=0.4.1->tensorboard<2.1.0,>=2.0.0->tensorflow==2.0.0) (3.1.0)\n"
          ],
          "name": "stdout"
        }
      ]
    },
    {
      "cell_type": "markdown",
      "metadata": {
        "id": "OVnl38Ttp19e",
        "colab_type": "text"
      },
      "source": [
        "DATA LOADING"
      ]
    },
    {
      "cell_type": "code",
      "metadata": {
        "id": "7WLvGKL-p1Qx",
        "colab_type": "code",
        "outputId": "46927de9-55a0-439e-ae2b-915b3f0b6fee",
        "colab": {
          "base_uri": "https://localhost:8080/",
          "height": 122
        }
      },
      "source": [
        "# mount google drive\n",
        "from google.colab import drive\n",
        "drive.mount('/content/drive')"
      ],
      "execution_count": 3,
      "outputs": [
        {
          "output_type": "stream",
          "text": [
            "Go to this URL in a browser: https://accounts.google.com/o/oauth2/auth?client_id=947318989803-6bn6qk8qdgf4n4g3pfee6491hc0brc4i.apps.googleusercontent.com&redirect_uri=urn%3aietf%3awg%3aoauth%3a2.0%3aoob&response_type=code&scope=email%20https%3a%2f%2fwww.googleapis.com%2fauth%2fdocs.test%20https%3a%2f%2fwww.googleapis.com%2fauth%2fdrive%20https%3a%2f%2fwww.googleapis.com%2fauth%2fdrive.photos.readonly%20https%3a%2f%2fwww.googleapis.com%2fauth%2fpeopleapi.readonly\n",
            "\n",
            "Enter your authorization code:\n",
            "··········\n",
            "Mounted at /content/drive\n"
          ],
          "name": "stdout"
        }
      ]
    },
    {
      "cell_type": "code",
      "metadata": {
        "id": "ZWPpXW6IMU24",
        "colab_type": "code",
        "colab": {}
      },
      "source": [
        "# dpath = os.path.join(r\"C:/Users/amead/Google Drive/active/machine learning/big5/big_five_items.csv\")\n",
        "dpath = os.path.join(\"/content/drive/My Drive/big_five_items.csv\")"
      ],
      "execution_count": 0,
      "outputs": []
    },
    {
      "cell_type": "code",
      "metadata": {
        "id": "3XVQVhbQMw-w",
        "colab_type": "code",
        "colab": {}
      },
      "source": [
        "data = pd.read_csv(dpath,low_memory = False, sep = \"\\t\", lineterminator = '\\n', encoding = 'utf-8')"
      ],
      "execution_count": 0,
      "outputs": []
    },
    {
      "cell_type": "markdown",
      "metadata": {
        "id": "uTEs9VUUO6RB",
        "colab_type": "text"
      },
      "source": [
        "DATA PROCESSING\n"
      ]
    },
    {
      "cell_type": "code",
      "metadata": {
        "id": "82XZ2o3yO_ib",
        "colab_type": "code",
        "colab": {}
      },
      "source": [
        "#stem as one string\n",
        "sentences = pd.Series(data['Stem'])"
      ],
      "execution_count": 0,
      "outputs": []
    },
    {
      "cell_type": "code",
      "metadata": {
        "id": "F3g2CgyHRu4t",
        "colab_type": "code",
        "colab": {}
      },
      "source": [
        "#scale as categorical data\n",
        "data['labels'] = data['Scale'].astype('category').cat.codes"
      ],
      "execution_count": 0,
      "outputs": []
    },
    {
      "cell_type": "code",
      "metadata": {
        "id": "AJJoFen1Uj03",
        "colab_type": "code",
        "colab": {}
      },
      "source": [
        "labels = np.array(pd.Series(data['labels']))"
      ],
      "execution_count": 0,
      "outputs": []
    },
    {
      "cell_type": "markdown",
      "metadata": {
        "id": "Dp0mlKadp8x8",
        "colab_type": "text"
      },
      "source": [
        "DATA CLEANING (STEMMING)"
      ]
    },
    {
      "cell_type": "markdown",
      "metadata": {
        "id": "WjR16yfrWvZ5",
        "colab_type": "text"
      },
      "source": [
        "TOKENIZATION AND PADDING"
      ]
    },
    {
      "cell_type": "code",
      "metadata": {
        "id": "RahwW-DvWucE",
        "colab_type": "code",
        "colab": {}
      },
      "source": [
        "# from tensorflow.keras.preprocessing.text import Tokenizer\n",
        "# from tensorflow.keras.preprocessing.sequence import pad_sequences\n",
        "\n",
        "# tokenizer = Tokenizer(oov_token = \"<OOV>\", num_words = 10000)\n",
        "# tokenizer.fit_on_texts(sentences)\n",
        "# word_index = tokenizer.word_index\n",
        "# print(word_index)\n",
        "\n",
        "# sequences = tokenizer.texts_to_sequences(sentences)\n",
        "# padded = pad_sequences(sequences, padding = 'pre')\n",
        "# print(padded[0])\n",
        "# print(padded.shape)"
      ],
      "execution_count": 0,
      "outputs": []
    },
    {
      "cell_type": "code",
      "metadata": {
        "id": "TzQw4-FfqDGP",
        "colab_type": "code",
        "colab": {}
      },
      "source": [
        "#split training and validation sample\n",
        "#training_data, training_labels = np.asarray(padded[ :524]), labels[ :524]\n",
        "#test_data, test_labels = np.asarray(padded[525: ]), labels[525: ]"
      ],
      "execution_count": 0,
      "outputs": []
    },
    {
      "cell_type": "markdown",
      "metadata": {
        "id": "XPRZsKqNqAzI",
        "colab_type": "text"
      },
      "source": [
        "TRAINING"
      ]
    },
    {
      "cell_type": "code",
      "metadata": {
        "id": "djKwOT6_mPVD",
        "colab_type": "code",
        "colab": {}
      },
      "source": [
        "import random \n",
        "random.seed(700)"
      ],
      "execution_count": 0,
      "outputs": []
    },
    {
      "cell_type": "code",
      "metadata": {
        "colab_type": "code",
        "id": "mjsXQIDLp3WR",
        "colab": {}
      },
      "source": [
        "#stratified random sampling training and validation sample by dimensions\n",
        "\n",
        "training_data = []\n",
        "training_labels = []\n",
        "validation_data = []\n",
        "validation_labels = []\n",
        "\n",
        "for s in range(5):\n",
        "  training_set = data.loc[data['labels'] == s, 'Stem'].sample(frac = 0.7, replace = False, random_state = 1)\n",
        "  training_l = np.array([s]*len(training_set))\n",
        "\n",
        "  validation_set = data.loc[(~data['Stem'].isin(training_set)) & (data['labels'] == s), 'Stem']\n",
        "  validation_l = np.array([s]*len(validation_set))\n",
        "\n",
        "  training_data.extend(training_set)\n",
        "  training_labels.extend(training_l)\n",
        "\n",
        "  validation_data.extend(validation_set)\n",
        "  validation_labels.extend(validation_l)"
      ],
      "execution_count": 0,
      "outputs": []
    },
    {
      "cell_type": "code",
      "metadata": {
        "id": "ySUmrKW22KE4",
        "colab_type": "code",
        "colab": {}
      },
      "source": [
        "from tensorflow.keras.preprocessing.text import Tokenizer\n",
        "from tensorflow.keras.preprocessing.sequence import pad_sequences\n",
        "\n",
        "MAX_LENGTH = 10000\n",
        "\n",
        "def sequence_vectorization (train_texts, val_texts): \n",
        "  \"\"\"Vectorizes texts as sequence vectors.\n",
        "\n",
        "    1 text = 1 sequence vector with fixed length.\n",
        "\n",
        "    # Arguments\n",
        "        train_texts: list, training text strings.\n",
        "        val_texts: list, validation text strings.\n",
        "\n",
        "    # Returns\n",
        "        x_train, x_val, word_index: vectorized training and validation\n",
        "            texts and word index dictionary.\n",
        "  \"\"\"\n",
        "  tokenizer = Tokenizer(oov_token = \"<OOV>\", num_words = MAX_LENGTH)\n",
        "  # Create vocabulary with training texts.\n",
        "  tokenizer.fit_on_texts(train_texts)\n",
        "  x_train = tokenizer.texts_to_sequences(train_texts)\n",
        "  x_val = tokenizer.texts_to_sequences(val_texts)\n",
        "  \n",
        "  # Get max sequence length.\n",
        "  max_length = len(max(x_train, key=len))\n",
        "  \n",
        "  if max_length > MAX_LENGTH:\n",
        "    max_length = MAX_LENGTH\n",
        " \n",
        "# Fix sequence length to max value. Sequences shorter than the length are\n",
        "# padded in the beginning and sequences longer are truncated\n",
        "# at the beginning.\n",
        "  x_train = np.asarray(pad_sequences(x_train, maxlen=max_length))\n",
        "  x_val = np.asarray(pad_sequences(x_val, maxlen=max_length))\n",
        "\n",
        "  return x_train, x_val, tokenizer.word_index"
      ],
      "execution_count": 0,
      "outputs": []
    },
    {
      "cell_type": "code",
      "metadata": {
        "id": "NUCHHm7xj2p_",
        "colab_type": "code",
        "colab": {}
      },
      "source": [
        "train_vec, val_vec, word_index = sequence_vectorization(training_data, validation_data)"
      ],
      "execution_count": 0,
      "outputs": []
    },
    {
      "cell_type": "code",
      "metadata": {
        "id": "r106kAqj6Roh",
        "colab_type": "code",
        "colab": {}
      },
      "source": [
        "training_labels = np.array(training_labels)\n",
        "validation_labels = np.array(validation_labels)"
      ],
      "execution_count": 0,
      "outputs": []
    },
    {
      "cell_type": "code",
      "metadata": {
        "id": "Z1KVlwVE1qzZ",
        "colab_type": "code",
        "colab": {}
      },
      "source": [
        "#summary of tokenization - validation data\n",
        "# print(tokenizer.word_counts)\n",
        "# print(tokenizer.document_count)\n",
        "# print(tokenizer.word_index)\n",
        "# print(tokenizer.word_docs)"
      ],
      "execution_count": 0,
      "outputs": []
    },
    {
      "cell_type": "markdown",
      "metadata": {
        "id": "zC-s3jc7qH8Q",
        "colab_type": "text"
      },
      "source": [
        "MODEL BUILING - MLP"
      ]
    },
    {
      "cell_type": "code",
      "metadata": {
        "id": "4pPj0LZjZkXE",
        "colab_type": "code",
        "colab": {}
      },
      "source": [
        "ACCURACY_STOP = 0.95\n",
        "\n",
        "class myCallbacks(tf.keras.callbacks.Callback):\n",
        "  def on_epoch_end(self, epoch, logs = {}):\n",
        "    if (logs.get('accuracy')> ACCURACY_STOP):\n",
        "      self.model.stop_training = True\n",
        "      print(\"\\nReach accuracy of 95% and stop training!\")\n",
        "\n",
        "callbacks = myCallbacks()"
      ],
      "execution_count": 0,
      "outputs": []
    },
    {
      "cell_type": "code",
      "metadata": {
        "id": "QGnjMaSYn1V2",
        "colab_type": "code",
        "colab": {}
      },
      "source": [
        "from tensorflow.keras.callbacks import ModelCheckpoint\n",
        "\n",
        "checkpoint_directory = '/content/drive/My Drive/NLP_tensorflow/sequentia_model.h5'\n",
        "\n",
        "checkpoint = ModelCheckpoint(checkpoint_directory,\n",
        "                             monitor = \"val_accuracy\", \n",
        "                             save_best_only = True, \n",
        "                             mode = 'max')"
      ],
      "execution_count": 0,
      "outputs": []
    },
    {
      "cell_type": "code",
      "metadata": {
        "id": "h-x9yGNwAUyS",
        "colab_type": "code",
        "colab": {}
      },
      "source": [
        "def _get_last_layer_units_and_activation(num_classes):\n",
        "    \"\"\"Gets the # units and activation function for the last network layer.\n",
        "\n",
        "    # Arguments\n",
        "        num_classes: int, number of classes.\n",
        "\n",
        "    # Returns\n",
        "        units, activation values.\n",
        "    \"\"\"\n",
        "    if num_classes == 2:\n",
        "        activation = 'sigmoid'\n",
        "        units = 1\n",
        "    else:\n",
        "        activation = 'softmax'\n",
        "        units = num_classes\n",
        "    return units, activation"
      ],
      "execution_count": 0,
      "outputs": []
    },
    {
      "cell_type": "code",
      "metadata": {
        "id": "3Y_7yzwQHI_7",
        "colab_type": "code",
        "colab": {}
      },
      "source": [
        "from tensorflow.python.keras import models\n",
        "from tensorflow.python.keras.layers import Dense\n",
        "from tensorflow.python.keras.layers import Dropout"
      ],
      "execution_count": 0,
      "outputs": []
    },
    {
      "cell_type": "code",
      "metadata": {
        "id": "p4IqBtVJAkOP",
        "colab_type": "code",
        "colab": {}
      },
      "source": [
        "def mlp_model(layers, units, dropout_rate, num_classes):\n",
        "    \"\"\"Creates an instance of a multi-layer perceptron model.\n",
        "\n",
        "    # Arguments\n",
        "        layers: int, number of `Dense` layers in the model.\n",
        "        units: int, output dimension of the layers.\n",
        "        dropout_rate: float, percentage of input to drop at Dropout layers.\n",
        "        input_shape: tuple, shape of input to the model.\n",
        "        num_classes: int, number of output classes.\n",
        "\n",
        "    # Returns\n",
        "        An MLP model instance.\n",
        "    \"\"\"\n",
        "    op_units, op_activation = _get_last_layer_units_and_activation(num_classes)\n",
        "    model = models.Sequential()\n",
        "    #model.add(Dropout(rate = dropout_rate)\n",
        "    \n",
        "    for i in range(layers-1):\n",
        "      model.add(Dense(units = units, activation='sigmoid'))\n",
        "      #model.add(Dropout(rate = dropout_rate))\n",
        "\n",
        "    model.add(Dense(units=op_units, activation=op_activation))\n",
        "    return model"
      ],
      "execution_count": 0,
      "outputs": []
    },
    {
      "cell_type": "code",
      "metadata": {
        "id": "wB96fiqIl4h0",
        "colab_type": "code",
        "colab": {}
      },
      "source": [
        "layers = 4\n",
        "units = 12\n",
        "dropout_rate = 0.1\n",
        "#input_shape = 1\n",
        "num_classes = 5"
      ],
      "execution_count": 0,
      "outputs": []
    },
    {
      "cell_type": "code",
      "metadata": {
        "id": "uCtGDpPIA0ay",
        "colab_type": "code",
        "colab": {}
      },
      "source": [
        "mlp_model = mlp_model(layers, units, dropout_rate, num_classes)"
      ],
      "execution_count": 0,
      "outputs": []
    },
    {
      "cell_type": "code",
      "metadata": {
        "id": "SWW8utx3HOs4",
        "colab_type": "code",
        "colab": {}
      },
      "source": [
        "mlp_model.compile(loss = 'sparse_categorical_crossentropy', \n",
        "              optimizer = 'adam', \n",
        "              metrics = ['accuracy'])"
      ],
      "execution_count": 0,
      "outputs": []
    },
    {
      "cell_type": "code",
      "metadata": {
        "id": "7tTcnJsKHker",
        "colab_type": "code",
        "colab": {
          "base_uri": "https://localhost:8080/",
          "height": 1000
        },
        "outputId": "02d759c7-d089-483e-9113-a9fbf13d2b46"
      },
      "source": [
        "NUM_EPOCHS = 50\n",
        "history = mlp_model.fit(train_vec, training_labels,\n",
        "                    validation_data = (val_vec, validation_labels),\n",
        "                    epochs = NUM_EPOCHS, \n",
        "                    callbacks = [checkpoint, callbacks])"
      ],
      "execution_count": 74,
      "outputs": [
        {
          "output_type": "stream",
          "text": [
            "Train on 459 samples, validate on 183 samples\n",
            "Epoch 1/50\n",
            "459/459 [==============================] - 1s 1ms/sample - loss: 1.6319 - accuracy: 0.1983 - val_loss: 1.6166 - val_accuracy: 0.2022\n",
            "Epoch 2/50\n",
            "459/459 [==============================] - 0s 102us/sample - loss: 1.6192 - accuracy: 0.1983 - val_loss: 1.6105 - val_accuracy: 0.2022\n",
            "Epoch 3/50\n",
            "459/459 [==============================] - 0s 94us/sample - loss: 1.6120 - accuracy: 0.1983 - val_loss: 1.6084 - val_accuracy: 0.2077\n",
            "Epoch 4/50\n",
            "459/459 [==============================] - 0s 106us/sample - loss: 1.6088 - accuracy: 0.1961 - val_loss: 1.6077 - val_accuracy: 0.2459\n",
            "Epoch 5/50\n",
            "459/459 [==============================] - 0s 103us/sample - loss: 1.6074 - accuracy: 0.2048 - val_loss: 1.6081 - val_accuracy: 0.1749\n",
            "Epoch 6/50\n",
            "459/459 [==============================] - 0s 111us/sample - loss: 1.6070 - accuracy: 0.2266 - val_loss: 1.6083 - val_accuracy: 0.2186\n",
            "Epoch 7/50\n",
            "459/459 [==============================] - 0s 106us/sample - loss: 1.6070 - accuracy: 0.2266 - val_loss: 1.6087 - val_accuracy: 0.2295\n",
            "Epoch 8/50\n",
            "459/459 [==============================] - 0s 98us/sample - loss: 1.6059 - accuracy: 0.2070 - val_loss: 1.6085 - val_accuracy: 0.1585\n",
            "Epoch 9/50\n",
            "459/459 [==============================] - 0s 122us/sample - loss: 1.6059 - accuracy: 0.2331 - val_loss: 1.6087 - val_accuracy: 0.1858\n",
            "Epoch 10/50\n",
            "459/459 [==============================] - 0s 104us/sample - loss: 1.6054 - accuracy: 0.2200 - val_loss: 1.6084 - val_accuracy: 0.1694\n",
            "Epoch 11/50\n",
            "459/459 [==============================] - 0s 108us/sample - loss: 1.6051 - accuracy: 0.2309 - val_loss: 1.6088 - val_accuracy: 0.1913\n",
            "Epoch 12/50\n",
            "459/459 [==============================] - 0s 101us/sample - loss: 1.6049 - accuracy: 0.2135 - val_loss: 1.6087 - val_accuracy: 0.2131\n",
            "Epoch 13/50\n",
            "459/459 [==============================] - 0s 105us/sample - loss: 1.6045 - accuracy: 0.2200 - val_loss: 1.6084 - val_accuracy: 0.2186\n",
            "Epoch 14/50\n",
            "459/459 [==============================] - 0s 105us/sample - loss: 1.6053 - accuracy: 0.2244 - val_loss: 1.6080 - val_accuracy: 0.1749\n",
            "Epoch 15/50\n",
            "459/459 [==============================] - 0s 115us/sample - loss: 1.6051 - accuracy: 0.2244 - val_loss: 1.6088 - val_accuracy: 0.1803\n",
            "Epoch 16/50\n",
            "459/459 [==============================] - 0s 100us/sample - loss: 1.6047 - accuracy: 0.2157 - val_loss: 1.6090 - val_accuracy: 0.2022\n",
            "Epoch 17/50\n",
            "459/459 [==============================] - 0s 103us/sample - loss: 1.6045 - accuracy: 0.2266 - val_loss: 1.6089 - val_accuracy: 0.2240\n",
            "Epoch 18/50\n",
            "459/459 [==============================] - 0s 121us/sample - loss: 1.6036 - accuracy: 0.2309 - val_loss: 1.6087 - val_accuracy: 0.2131\n",
            "Epoch 19/50\n",
            "459/459 [==============================] - 0s 111us/sample - loss: 1.6028 - accuracy: 0.2288 - val_loss: 1.6088 - val_accuracy: 0.2459\n",
            "Epoch 20/50\n",
            "459/459 [==============================] - 0s 96us/sample - loss: 1.6030 - accuracy: 0.2222 - val_loss: 1.6090 - val_accuracy: 0.2404\n",
            "Epoch 21/50\n",
            "459/459 [==============================] - 0s 98us/sample - loss: 1.6026 - accuracy: 0.2353 - val_loss: 1.6089 - val_accuracy: 0.2131\n",
            "Epoch 22/50\n",
            "459/459 [==============================] - 0s 100us/sample - loss: 1.6021 - accuracy: 0.2571 - val_loss: 1.6088 - val_accuracy: 0.2295\n",
            "Epoch 23/50\n",
            "459/459 [==============================] - 0s 104us/sample - loss: 1.6022 - accuracy: 0.2418 - val_loss: 1.6089 - val_accuracy: 0.1967\n",
            "Epoch 24/50\n",
            "459/459 [==============================] - 0s 97us/sample - loss: 1.6017 - accuracy: 0.2397 - val_loss: 1.6089 - val_accuracy: 0.2295\n",
            "Epoch 25/50\n",
            "459/459 [==============================] - 0s 93us/sample - loss: 1.6017 - accuracy: 0.2527 - val_loss: 1.6087 - val_accuracy: 0.2240\n",
            "Epoch 26/50\n",
            "459/459 [==============================] - 0s 105us/sample - loss: 1.6016 - accuracy: 0.2549 - val_loss: 1.6083 - val_accuracy: 0.2295\n",
            "Epoch 27/50\n",
            "459/459 [==============================] - 0s 150us/sample - loss: 1.6008 - accuracy: 0.2636 - val_loss: 1.6085 - val_accuracy: 0.2350\n",
            "Epoch 28/50\n",
            "459/459 [==============================] - 0s 106us/sample - loss: 1.6008 - accuracy: 0.2549 - val_loss: 1.6088 - val_accuracy: 0.2186\n",
            "Epoch 29/50\n",
            "459/459 [==============================] - 0s 111us/sample - loss: 1.6001 - accuracy: 0.2658 - val_loss: 1.6084 - val_accuracy: 0.2350\n",
            "Epoch 30/50\n",
            "459/459 [==============================] - 0s 103us/sample - loss: 1.6002 - accuracy: 0.2375 - val_loss: 1.6086 - val_accuracy: 0.2240\n",
            "Epoch 31/50\n",
            "459/459 [==============================] - 0s 96us/sample - loss: 1.6000 - accuracy: 0.2375 - val_loss: 1.6076 - val_accuracy: 0.2186\n",
            "Epoch 32/50\n",
            "459/459 [==============================] - 0s 105us/sample - loss: 1.5988 - accuracy: 0.2397 - val_loss: 1.6084 - val_accuracy: 0.2240\n",
            "Epoch 33/50\n",
            "459/459 [==============================] - 0s 105us/sample - loss: 1.5987 - accuracy: 0.2614 - val_loss: 1.6089 - val_accuracy: 0.2404\n",
            "Epoch 34/50\n",
            "459/459 [==============================] - 0s 109us/sample - loss: 1.5981 - accuracy: 0.2593 - val_loss: 1.6086 - val_accuracy: 0.2295\n",
            "Epoch 35/50\n",
            "459/459 [==============================] - 0s 109us/sample - loss: 1.5978 - accuracy: 0.2571 - val_loss: 1.6087 - val_accuracy: 0.2186\n",
            "Epoch 36/50\n",
            "459/459 [==============================] - 0s 111us/sample - loss: 1.5978 - accuracy: 0.2593 - val_loss: 1.6083 - val_accuracy: 0.2295\n",
            "Epoch 37/50\n",
            "459/459 [==============================] - 0s 106us/sample - loss: 1.5965 - accuracy: 0.2614 - val_loss: 1.6081 - val_accuracy: 0.2459\n",
            "Epoch 38/50\n",
            "459/459 [==============================] - 0s 111us/sample - loss: 1.5971 - accuracy: 0.2745 - val_loss: 1.6086 - val_accuracy: 0.2240\n",
            "Epoch 39/50\n",
            "459/459 [==============================] - 0s 98us/sample - loss: 1.5967 - accuracy: 0.2593 - val_loss: 1.6091 - val_accuracy: 0.2077\n",
            "Epoch 40/50\n",
            "459/459 [==============================] - 0s 110us/sample - loss: 1.5958 - accuracy: 0.2810 - val_loss: 1.6083 - val_accuracy: 0.2295\n",
            "Epoch 41/50\n",
            "459/459 [==============================] - 0s 114us/sample - loss: 1.5961 - accuracy: 0.2593 - val_loss: 1.6093 - val_accuracy: 0.2568\n",
            "Epoch 42/50\n",
            "459/459 [==============================] - 0s 98us/sample - loss: 1.5955 - accuracy: 0.2614 - val_loss: 1.6091 - val_accuracy: 0.2459\n",
            "Epoch 43/50\n",
            "459/459 [==============================] - 0s 105us/sample - loss: 1.5947 - accuracy: 0.2658 - val_loss: 1.6086 - val_accuracy: 0.2186\n",
            "Epoch 44/50\n",
            "459/459 [==============================] - 0s 98us/sample - loss: 1.5947 - accuracy: 0.2723 - val_loss: 1.6088 - val_accuracy: 0.2459\n",
            "Epoch 45/50\n",
            "459/459 [==============================] - 0s 102us/sample - loss: 1.5935 - accuracy: 0.2527 - val_loss: 1.6091 - val_accuracy: 0.2514\n",
            "Epoch 46/50\n",
            "459/459 [==============================] - 0s 94us/sample - loss: 1.5931 - accuracy: 0.2745 - val_loss: 1.6096 - val_accuracy: 0.2240\n",
            "Epoch 47/50\n",
            "459/459 [==============================] - 0s 95us/sample - loss: 1.5927 - accuracy: 0.2505 - val_loss: 1.6099 - val_accuracy: 0.2295\n",
            "Epoch 48/50\n",
            "459/459 [==============================] - 0s 109us/sample - loss: 1.5923 - accuracy: 0.2702 - val_loss: 1.6101 - val_accuracy: 0.2240\n",
            "Epoch 49/50\n",
            "459/459 [==============================] - 0s 103us/sample - loss: 1.5920 - accuracy: 0.2658 - val_loss: 1.6098 - val_accuracy: 0.2404\n",
            "Epoch 50/50\n",
            "459/459 [==============================] - 0s 106us/sample - loss: 1.5918 - accuracy: 0.2484 - val_loss: 1.6100 - val_accuracy: 0.2131\n"
          ],
          "name": "stdout"
        }
      ]
    },
    {
      "cell_type": "markdown",
      "metadata": {
        "id": "Mlo9hZQUAV8Z",
        "colab_type": "text"
      },
      "source": [
        "MODEL BUILDING CNN, RNN, AND LSTM"
      ]
    },
    {
      "cell_type": "code",
      "metadata": {
        "id": "xdDLnxuuQgHL",
        "colab_type": "code",
        "colab": {}
      },
      "source": [
        "  model = tf.keras.Sequential([\n",
        "      tf.keras.layers.Embedding(1000, 16),\n",
        "      tf.keras.layers.Conv1D(128, 5, activation = 'relu'),\n",
        "      tf.keras.layers.GlobalAveragePooling1D(),\n",
        "      tf.keras.layers.Dense(64, activation = 'relu'),\n",
        "      tf.keras.layers.Dense(16, activation ='relu'),\n",
        "      tf.keras.layers.Dense(5, activation='softmax')\n",
        "  ])"
      ],
      "execution_count": 0,
      "outputs": []
    },
    {
      "cell_type": "code",
      "metadata": {
        "id": "FJh5OhmZR4S2",
        "colab_type": "code",
        "colab": {
          "base_uri": "https://localhost:8080/",
          "height": 357
        },
        "outputId": "1f0ee515-dc10-4875-c2de-d76ea6569ccc"
      },
      "source": [
        "model.summary()"
      ],
      "execution_count": 17,
      "outputs": [
        {
          "output_type": "stream",
          "text": [
            "Model: \"sequential\"\n",
            "_________________________________________________________________\n",
            "Layer (type)                 Output Shape              Param #   \n",
            "=================================================================\n",
            "embedding (Embedding)        (None, None, 16)          16000     \n",
            "_________________________________________________________________\n",
            "conv1d (Conv1D)              (None, None, 128)         10368     \n",
            "_________________________________________________________________\n",
            "global_average_pooling1d (Gl (None, 128)               0         \n",
            "_________________________________________________________________\n",
            "dense (Dense)                (None, 64)                8256      \n",
            "_________________________________________________________________\n",
            "dense_1 (Dense)              (None, 16)                1040      \n",
            "_________________________________________________________________\n",
            "dense_2 (Dense)              (None, 5)                 85        \n",
            "=================================================================\n",
            "Total params: 35,749\n",
            "Trainable params: 35,749\n",
            "Non-trainable params: 0\n",
            "_________________________________________________________________\n"
          ],
          "name": "stdout"
        }
      ]
    },
    {
      "cell_type": "code",
      "metadata": {
        "id": "gn5SQbSGR7Tf",
        "colab_type": "code",
        "colab": {}
      },
      "source": [
        "from tensorflow.python.keras import models\n",
        "from tensorflow.python.keras.layers import Embedding\n",
        "from tensorflow.python.keras.layers import Conv1D\n",
        "from tensorflow.python.keras.layers import GlobalAveragePooling1D\n",
        "from tensorflow.python.keras.layers import Dense\n",
        "from tensorflow.python.keras.layers import Dropout"
      ],
      "execution_count": 0,
      "outputs": []
    },
    {
      "cell_type": "code",
      "metadata": {
        "id": "n1CaznCWqIam",
        "colab_type": "code",
        "colab": {}
      },
      "source": [
        "def cnn_model(layers, units, num_classes):\n",
        "  \"\"\" create an instance of CNN model. \n",
        "\n",
        "      # Arguments\n",
        "          layers: int, number of `Dense` layers in the model.\n",
        "          units: int, output dimension of the layers.\n",
        "          dropout_rate: float, percentage of input to drop at Dropout layers.\n",
        "          num_classes: int, number of output classes.\n",
        "\n",
        "      # Returns\n",
        "          A CNN model instance.\n",
        "\n",
        "  \"\"\"\n",
        "  op_units, op_activation = _get_last_layer_units_and_activation(num_classes)\n",
        "  model = models.Sequential()\n",
        "  model.add(Embedding(1000, 16))\n",
        "  model.add(Conv1D(64, 5, activation = 'relu'))\n",
        "  model.add(GlobalAveragePooling1D())\n",
        "    \n",
        "  for i in range(layers-1):\n",
        "    model.add(Dense(units = units, activation ='relu'))\n",
        "    #model.add(Dropout(rate = dropout_rate))\n",
        "    units = units//2\n",
        "\n",
        "  model.add(Dense(units=op_units, activation=op_activation))\n",
        "\n",
        "  return model"
      ],
      "execution_count": 0,
      "outputs": []
    },
    {
      "cell_type": "code",
      "metadata": {
        "id": "fOR2iqgASaWG",
        "colab_type": "code",
        "colab": {}
      },
      "source": [
        "layers = 4\n",
        "units = 256\n",
        "dropout_rate = 0.1\n",
        "#input_shape = 1\n",
        "num_classes = 5"
      ],
      "execution_count": 0,
      "outputs": []
    },
    {
      "cell_type": "code",
      "metadata": {
        "id": "PC_Y1_E1O036",
        "colab_type": "code",
        "colab": {}
      },
      "source": [
        "model = cnn_model(layers, units, num_classes)"
      ],
      "execution_count": 0,
      "outputs": []
    },
    {
      "cell_type": "code",
      "metadata": {
        "id": "lfJHoK5GPDfD",
        "colab_type": "code",
        "colab": {}
      },
      "source": [
        "model.compile(loss = 'sparse_categorical_crossentropy', \n",
        "              optimizer = 'adam', \n",
        "              metrics = ['accuracy'])"
      ],
      "execution_count": 0,
      "outputs": []
    },
    {
      "cell_type": "code",
      "metadata": {
        "id": "ONQ79ts-Stap",
        "colab_type": "code",
        "colab": {
          "base_uri": "https://localhost:8080/",
          "height": 391
        },
        "outputId": "f0099226-4832-4230-8b3f-16eeb23d3dc7"
      },
      "source": [
        "model.summary()"
      ],
      "execution_count": 61,
      "outputs": [
        {
          "output_type": "stream",
          "text": [
            "Model: \"sequential_3\"\n",
            "_________________________________________________________________\n",
            "Layer (type)                 Output Shape              Param #   \n",
            "=================================================================\n",
            "embedding_3 (Embedding)      (None, None, 16)          16000     \n",
            "_________________________________________________________________\n",
            "conv1d_3 (Conv1D)            (None, None, 64)          5184      \n",
            "_________________________________________________________________\n",
            "global_average_pooling1d_3 ( (None, 64)                0         \n",
            "_________________________________________________________________\n",
            "dense_12 (Dense)             (None, 256)               16640     \n",
            "_________________________________________________________________\n",
            "dense_13 (Dense)             (None, 128)               32896     \n",
            "_________________________________________________________________\n",
            "dense_14 (Dense)             (None, 64)                8256      \n",
            "_________________________________________________________________\n",
            "dense_15 (Dense)             (None, 5)                 325       \n",
            "=================================================================\n",
            "Total params: 79,301\n",
            "Trainable params: 79,301\n",
            "Non-trainable params: 0\n",
            "_________________________________________________________________\n"
          ],
          "name": "stdout"
        }
      ]
    },
    {
      "cell_type": "code",
      "metadata": {
        "id": "6kNZ4jo4O5C-",
        "colab_type": "code",
        "outputId": "1a1d7c75-4a79-41ca-9789-1f47df9b0ead",
        "colab": {
          "base_uri": "https://localhost:8080/",
          "height": 870
        }
      },
      "source": [
        "NUM_EPOCHS = 50\n",
        "history = model.fit(train_vec, training_labels,\n",
        "                    validation_data = (val_vec, validation_labels),\n",
        "                    epochs = NUM_EPOCHS, \n",
        "                    callbacks = [checkpoint, callbacks])"
      ],
      "execution_count": 62,
      "outputs": [
        {
          "output_type": "stream",
          "text": [
            "Train on 459 samples, validate on 183 samples\n",
            "Epoch 1/50\n",
            "459/459 [==============================] - 1s 2ms/sample - loss: 1.6111 - accuracy: 0.1983 - val_loss: 1.6093 - val_accuracy: 0.2077\n",
            "Epoch 2/50\n",
            "459/459 [==============================] - 0s 237us/sample - loss: 1.6103 - accuracy: 0.1634 - val_loss: 1.6094 - val_accuracy: 0.2077\n",
            "Epoch 3/50\n",
            "459/459 [==============================] - 0s 245us/sample - loss: 1.6096 - accuracy: 0.1961 - val_loss: 1.6093 - val_accuracy: 0.1913\n",
            "Epoch 4/50\n",
            "459/459 [==============================] - 0s 232us/sample - loss: 1.6097 - accuracy: 0.1721 - val_loss: 1.6089 - val_accuracy: 0.2131\n",
            "Epoch 5/50\n",
            "459/459 [==============================] - 0s 234us/sample - loss: 1.6091 - accuracy: 0.2092 - val_loss: 1.6083 - val_accuracy: 0.2350\n",
            "Epoch 6/50\n",
            "459/459 [==============================] - 0s 234us/sample - loss: 1.6048 - accuracy: 0.2723 - val_loss: 1.6036 - val_accuracy: 0.2623\n",
            "Epoch 7/50\n",
            "459/459 [==============================] - 0s 246us/sample - loss: 1.5699 - accuracy: 0.2898 - val_loss: 1.5758 - val_accuracy: 0.2186\n",
            "Epoch 8/50\n",
            "459/459 [==============================] - 0s 218us/sample - loss: 1.4686 - accuracy: 0.3246 - val_loss: 1.5738 - val_accuracy: 0.2732\n",
            "Epoch 9/50\n",
            "459/459 [==============================] - 0s 242us/sample - loss: 1.3423 - accuracy: 0.3791 - val_loss: 1.7058 - val_accuracy: 0.2732\n",
            "Epoch 10/50\n",
            "459/459 [==============================] - 0s 251us/sample - loss: 1.1909 - accuracy: 0.4619 - val_loss: 1.6552 - val_accuracy: 0.3169\n",
            "Epoch 11/50\n",
            "459/459 [==============================] - 0s 229us/sample - loss: 0.9830 - accuracy: 0.5730 - val_loss: 1.8816 - val_accuracy: 0.3333\n",
            "Epoch 12/50\n",
            "459/459 [==============================] - 0s 242us/sample - loss: 0.8158 - accuracy: 0.5969 - val_loss: 2.1785 - val_accuracy: 0.3443\n",
            "Epoch 13/50\n",
            "459/459 [==============================] - 0s 218us/sample - loss: 0.6914 - accuracy: 0.6688 - val_loss: 2.5586 - val_accuracy: 0.3443\n",
            "Epoch 14/50\n",
            "459/459 [==============================] - 0s 229us/sample - loss: 0.6013 - accuracy: 0.6993 - val_loss: 2.6279 - val_accuracy: 0.3880\n",
            "Epoch 15/50\n",
            "459/459 [==============================] - 0s 238us/sample - loss: 0.5292 - accuracy: 0.7211 - val_loss: 2.9687 - val_accuracy: 0.4098\n",
            "Epoch 16/50\n",
            "459/459 [==============================] - 0s 250us/sample - loss: 0.4545 - accuracy: 0.7778 - val_loss: 3.1866 - val_accuracy: 0.4481\n",
            "Epoch 17/50\n",
            "459/459 [==============================] - 0s 227us/sample - loss: 0.3758 - accuracy: 0.8344 - val_loss: 3.5763 - val_accuracy: 0.3661\n",
            "Epoch 18/50\n",
            "459/459 [==============================] - 0s 902us/sample - loss: 0.3328 - accuracy: 0.8453 - val_loss: 3.6818 - val_accuracy: 0.4699\n",
            "Epoch 19/50\n",
            "459/459 [==============================] - 0s 357us/sample - loss: 0.2651 - accuracy: 0.8845 - val_loss: 4.0580 - val_accuracy: 0.4809\n",
            "Epoch 20/50\n",
            "459/459 [==============================] - 0s 245us/sample - loss: 0.2375 - accuracy: 0.8911 - val_loss: 4.3644 - val_accuracy: 0.4590\n",
            "Epoch 21/50\n",
            "459/459 [==============================] - 0s 226us/sample - loss: 0.1763 - accuracy: 0.9368 - val_loss: 4.8093 - val_accuracy: 0.4426\n",
            "Epoch 22/50\n",
            "459/459 [==============================] - 0s 250us/sample - loss: 0.1593 - accuracy: 0.9237 - val_loss: 4.8709 - val_accuracy: 0.4699\n",
            "Epoch 23/50\n",
            "352/459 [======================>.......] - ETA: 0s - loss: 0.1083 - accuracy: 0.9744\n",
            "Reach accuracy of 95% and stop training!\n",
            "459/459 [==============================] - 0s 232us/sample - loss: 0.1119 - accuracy: 0.9717 - val_loss: 5.2841 - val_accuracy: 0.4645\n"
          ],
          "name": "stdout"
        }
      ]
    },
    {
      "cell_type": "markdown",
      "metadata": {
        "id": "0SwLGxV7rrG8",
        "colab_type": "text"
      },
      "source": [
        "MODEL PERFORMANCE"
      ]
    },
    {
      "cell_type": "code",
      "metadata": {
        "id": "5b-jwoaTjOy7",
        "colab_type": "code",
        "colab": {}
      },
      "source": [
        "import matplotlib.pyplot as plt\n",
        "\n",
        "def plot_graphs(history, string):\n",
        "  plt.plot(history.history[string])\n",
        "  plt.plot(history.history['val_'+string])\n",
        "  plt.xlabel(\"Epochs\")\n",
        "  plt.ylabel(string)\n",
        "  plt.legend([string, 'val_'+string])\n",
        "  plt.show()"
      ],
      "execution_count": 0,
      "outputs": []
    },
    {
      "cell_type": "code",
      "metadata": {
        "id": "iRHVCIxIjP84",
        "colab_type": "code",
        "outputId": "e9bb68c4-28f6-47c5-b6b9-1eaf6aec4649",
        "colab": {
          "base_uri": "https://localhost:8080/",
          "height": 280
        }
      },
      "source": [
        "plot_graphs(history, 'accuracy')"
      ],
      "execution_count": 64,
      "outputs": [
        {
          "output_type": "display_data",
          "data": {
            "image/png": "[encoded data removed]",
            "text/plain": [
              "<Figure size 432x288 with 1 Axes>"
            ]
          },
          "metadata": {
            "tags": []
          }
        }
      ]
    },
    {
      "cell_type": "code",
      "metadata": {
        "id": "D4dqPcXIjvyX",
        "colab_type": "code",
        "outputId": "d8b9b0d0-129e-4bed-8b00-10c3b6832ab6",
        "colab": {
          "base_uri": "https://localhost:8080/",
          "height": 279
        }
      },
      "source": [
        "plot_graphs(history, 'loss')"
      ],
      "execution_count": 65,
      "outputs": [
        {
          "output_type": "display_data",
          "data": {
            "image/png": "[encoded data removed]",
            "text/plain": [
              "<Figure size 432x288 with 1 Axes>"
            ]
          },
          "metadata": {
            "tags": []
          }
        }
      ]
    },
    {
      "cell_type": "markdown",
      "metadata": {
        "id": "jjwZhxfNw38y",
        "colab_type": "text"
      },
      "source": [
        "USE SINGLE LAYER LSTM"
      ]
    },
    {
      "cell_type": "code",
      "metadata": {
        "id": "b7rOD3KWxc5c",
        "colab_type": "code",
        "colab": {}
      },
      "source": [
        "model1 = tf.keras.Sequential([\n",
        "    tf.keras.layers.Embedding(1000, 64),\n",
        "    tf.keras.layers.Bidirectional(tf.keras.layers.LSTM(64)),\n",
        "    tf.keras.layers.Dense(64, activation='relu'),\n",
        "    tf.keras.layers.Dense(5, activation='softmax')\n",
        "])"
      ],
      "execution_count": 0,
      "outputs": []
    },
    {
      "cell_type": "code",
      "metadata": {
        "id": "SkOuU8JLxiX5",
        "colab_type": "code",
        "outputId": "5fab0402-7f87-4956-8581-6a7c7b4d275b",
        "colab": {
          "base_uri": "https://localhost:8080/",
          "height": 289
        }
      },
      "source": [
        "model1.summary()"
      ],
      "execution_count": 0,
      "outputs": [
        {
          "output_type": "stream",
          "text": [
            "Model: \"sequential\"\n",
            "_________________________________________________________________\n",
            "Layer (type)                 Output Shape              Param #   \n",
            "=================================================================\n",
            "embedding (Embedding)        (None, None, 64)          64000     \n",
            "_________________________________________________________________\n",
            "bidirectional (Bidirectional (None, 128)               66048     \n",
            "_________________________________________________________________\n",
            "dense (Dense)                (None, 64)                8256      \n",
            "_________________________________________________________________\n",
            "dense_1 (Dense)              (None, 5)                 325       \n",
            "=================================================================\n",
            "Total params: 138,629\n",
            "Trainable params: 138,629\n",
            "Non-trainable params: 0\n",
            "_________________________________________________________________\n"
          ],
          "name": "stdout"
        }
      ]
    },
    {
      "cell_type": "code",
      "metadata": {
        "id": "hi39j1snYpg0",
        "colab_type": "code",
        "colab": {}
      },
      "source": [
        "from tensorflow.keras.layers import Bidirectional"
      ],
      "execution_count": 0,
      "outputs": []
    },
    {
      "cell_type": "code",
      "metadata": {
        "id": "fFsQksEJUEeP",
        "colab_type": "code",
        "colab": {}
      },
      "source": [
        "def lstm_1l(layers, units, lstm_layer, num_classes):\n",
        "  \"\"\"create an instance of a single layer LSTM. \n",
        "\n",
        "    # Arguments\n",
        "        layers: int, number of `Dense` layers in the model.\n",
        "        units: int, output dimension of the layers.\n",
        "        dropout_rate: float, percentage of input to drop at Dropout layers.\n",
        "        num_classes: int, number of output classes.\n",
        "\n",
        "    # Returns\n",
        "        A single layer LSTM model instance.\n",
        "  \"\"\"\n",
        "  op_units, op_activation = _get_last_layer_units_and_activation(num_classes)\n",
        "  model = models.Sequential()\n",
        "  model.add(Embedding(1000, 16))\n",
        "  model.add(Bidirectional(tf.keras.layers.LSTM(lstm_layer)))\n",
        "\n",
        "    \n",
        "  for i in range(layers-1):\n",
        "    model.add(Dense(units = units, activation ='relu'))\n",
        "    #model.add(Dropout(rate = dropout_rate))\n",
        "    units = units//2\n",
        "\n",
        "  model.add(Dense(units=op_units, activation=op_activation))\n",
        "\n",
        "  return model"
      ],
      "execution_count": 0,
      "outputs": []
    },
    {
      "cell_type": "code",
      "metadata": {
        "id": "yj4w9PstYSY7",
        "colab_type": "code",
        "colab": {}
      },
      "source": [
        "layers = 4\n",
        "units = 256\n",
        "dropout_rate = 0.1\n",
        "#input_shape = 1\n",
        "lstm_layer = 64\n",
        "num_classes = 5"
      ],
      "execution_count": 0,
      "outputs": []
    },
    {
      "cell_type": "code",
      "metadata": {
        "id": "RQUL6_3zYTWq",
        "colab_type": "code",
        "colab": {}
      },
      "source": [
        "model1 = lstm_1l(layers, units, lstm_layer, num_classes)"
      ],
      "execution_count": 0,
      "outputs": []
    },
    {
      "cell_type": "code",
      "metadata": {
        "id": "qDF40ZTcZR6L",
        "colab_type": "code",
        "colab": {
          "base_uri": "https://localhost:8080/",
          "height": 357
        },
        "outputId": "4cbfdd32-fbe3-4935-fd8b-83eb2bd296a2"
      },
      "source": [
        "model1.summary()"
      ],
      "execution_count": 90,
      "outputs": [
        {
          "output_type": "stream",
          "text": [
            "Model: \"sequential_7\"\n",
            "_________________________________________________________________\n",
            "Layer (type)                 Output Shape              Param #   \n",
            "=================================================================\n",
            "embedding_6 (Embedding)      (None, None, 16)          16000     \n",
            "_________________________________________________________________\n",
            "bidirectional_1 (Bidirection (None, 128)               41472     \n",
            "_________________________________________________________________\n",
            "dense_24 (Dense)             (None, 256)               33024     \n",
            "_________________________________________________________________\n",
            "dense_25 (Dense)             (None, 128)               32896     \n",
            "_________________________________________________________________\n",
            "dense_26 (Dense)             (None, 64)                8256      \n",
            "_________________________________________________________________\n",
            "dense_27 (Dense)             (None, 5)                 325       \n",
            "=================================================================\n",
            "Total params: 131,973\n",
            "Trainable params: 131,973\n",
            "Non-trainable params: 0\n",
            "_________________________________________________________________\n"
          ],
          "name": "stdout"
        }
      ]
    },
    {
      "cell_type": "code",
      "metadata": {
        "id": "nd7x8SAExkDe",
        "colab_type": "code",
        "colab": {}
      },
      "source": [
        "model1.compile(loss = 'sparse_categorical_crossentropy', \n",
        "              optimizer='adam', \n",
        "              metrics=['accuracy'])"
      ],
      "execution_count": 0,
      "outputs": []
    },
    {
      "cell_type": "code",
      "metadata": {
        "id": "z1sQZeNExqEP",
        "colab_type": "code",
        "outputId": "1fc45fdf-5b0c-46f6-ccc5-b9af52ed57c5",
        "colab": {
          "base_uri": "https://localhost:8080/",
          "height": 445
        }
      },
      "source": [
        "model1.fit(train_vec, training_labels,\n",
        "          validation_data=(val_vec, validation_labels),\n",
        "          epochs=50, \n",
        "          callbacks = [ callbacks])"
      ],
      "execution_count": 92,
      "outputs": [
        {
          "output_type": "stream",
          "text": [
            "Train on 459 samples, validate on 183 samples\n",
            "Epoch 1/50\n",
            "459/459 [==============================] - 5s 10ms/sample - loss: 1.6103 - accuracy: 0.1743 - val_loss: 1.6095 - val_accuracy: 0.1858\n",
            "Epoch 2/50\n",
            "459/459 [==============================] - 0s 1ms/sample - loss: 1.6094 - accuracy: 0.2113 - val_loss: 1.6085 - val_accuracy: 0.2022\n",
            "Epoch 3/50\n",
            "459/459 [==============================] - 0s 1ms/sample - loss: 1.6063 - accuracy: 0.2288 - val_loss: 1.6011 - val_accuracy: 0.3169\n",
            "Epoch 4/50\n",
            "459/459 [==============================] - 0s 1ms/sample - loss: 1.5735 - accuracy: 0.4161 - val_loss: 1.5660 - val_accuracy: 0.2350\n",
            "Epoch 5/50\n",
            "459/459 [==============================] - 0s 1ms/sample - loss: 1.4151 - accuracy: 0.4336 - val_loss: 1.4191 - val_accuracy: 0.3607\n",
            "Epoch 6/50\n",
            "459/459 [==============================] - 0s 1ms/sample - loss: 1.0290 - accuracy: 0.5643 - val_loss: 1.3994 - val_accuracy: 0.4153\n",
            "Epoch 7/50\n",
            "459/459 [==============================] - 0s 1ms/sample - loss: 0.7222 - accuracy: 0.6819 - val_loss: 1.5657 - val_accuracy: 0.4317\n",
            "Epoch 8/50\n",
            "459/459 [==============================] - 0s 1ms/sample - loss: 0.5221 - accuracy: 0.8039 - val_loss: 1.7138 - val_accuracy: 0.4536\n",
            "Epoch 9/50\n",
            "459/459 [==============================] - 0s 1ms/sample - loss: 0.3089 - accuracy: 0.9041 - val_loss: 2.1746 - val_accuracy: 0.4699\n",
            "Epoch 10/50\n",
            "416/459 [==========================>...] - ETA: 0s - loss: 0.1416 - accuracy: 0.9760\n",
            "Reach accuracy of 95% and stop training!\n",
            "459/459 [==============================] - 0s 1ms/sample - loss: 0.1404 - accuracy: 0.9739 - val_loss: 2.6601 - val_accuracy: 0.4809\n"
          ],
          "name": "stdout"
        },
        {
          "output_type": "execute_result",
          "data": {
            "text/plain": [
              "<tensorflow.python.keras.callbacks.History at 0x7fd90b8237b8>"
            ]
          },
          "metadata": {
            "tags": []
          },
          "execution_count": 92
        }
      ]
    },
    {
      "cell_type": "markdown",
      "metadata": {
        "id": "ToxroTOZy3Az",
        "colab_type": "text"
      },
      "source": [
        "USE MULTIPLE LAYER LSTM"
      ]
    },
    {
      "cell_type": "code",
      "metadata": {
        "id": "QtvqCYMny1Oz",
        "colab_type": "code",
        "colab": {}
      },
      "source": [
        "model2 = tf.keras.Sequential([\n",
        "    tf.keras.layers.Embedding(1000, 64),\n",
        "    tf.keras.layers.Bidirectional(tf.keras.layers.LSTM(64, return_sequences=True)),\n",
        "    tf.keras.layers.Bidirectional(tf.keras.layers.LSTM(32)),\n",
        "    tf.keras.layers.Dense(64, activation='relu'),\n",
        "    tf.keras.layers.Dense(16, activation='relu'),\n",
        "    tf.keras.layers.Dense(5, activation='softmax')\n",
        "])"
      ],
      "execution_count": 0,
      "outputs": []
    },
    {
      "cell_type": "code",
      "metadata": {
        "id": "ly8VAdY0y9FE",
        "colab_type": "code",
        "outputId": "645da3f9-8ccf-4bfb-be3a-bbc49d254c8b",
        "colab": {
          "base_uri": "https://localhost:8080/",
          "height": 357
        }
      },
      "source": [
        "model2.summary()"
      ],
      "execution_count": 59,
      "outputs": [
        {
          "output_type": "stream",
          "text": [
            "Model: \"sequential_2\"\n",
            "_________________________________________________________________\n",
            "Layer (type)                 Output Shape              Param #   \n",
            "=================================================================\n",
            "embedding_1 (Embedding)      (None, None, 64)          64000     \n",
            "_________________________________________________________________\n",
            "bidirectional (Bidirectional (None, None, 128)         66048     \n",
            "_________________________________________________________________\n",
            "bidirectional_1 (Bidirection (None, 64)                41216     \n",
            "_________________________________________________________________\n",
            "dense_6 (Dense)              (None, 64)                4160      \n",
            "_________________________________________________________________\n",
            "dense_7 (Dense)              (None, 16)                1040      \n",
            "_________________________________________________________________\n",
            "dense_8 (Dense)              (None, 5)                 85        \n",
            "=================================================================\n",
            "Total params: 176,549\n",
            "Trainable params: 176,549\n",
            "Non-trainable params: 0\n",
            "_________________________________________________________________\n"
          ],
          "name": "stdout"
        }
      ]
    },
    {
      "cell_type": "code",
      "metadata": {
        "id": "8IQivKPJzIeH",
        "colab_type": "code",
        "colab": {}
      },
      "source": [
        "model2.compile(loss = 'sparse_categorical_crossentropy', \n",
        "              optimizer='adam', \n",
        "              metrics=['accuracy']\n",
        ")"
      ],
      "execution_count": 0,
      "outputs": []
    },
    {
      "cell_type": "code",
      "metadata": {
        "id": "__h1ykqqy_Iz",
        "colab_type": "code",
        "outputId": "ec9e05c3-4f45-4fdd-ab15-8ec73ff36cc7",
        "colab": {
          "base_uri": "https://localhost:8080/",
          "height": 479
        }
      },
      "source": [
        "model2.fit(train_vec, training_labels,\n",
        "           validation_data=(val_vec, validation_labels),\n",
        "           epochs=30, \n",
        "           callbacks = [ callbacks])"
      ],
      "execution_count": 64,
      "outputs": [
        {
          "output_type": "stream",
          "text": [
            "Train on 459 samples, validate on 183 samples\n",
            "Epoch 1/30\n",
            "459/459 [==============================] - 7s 15ms/sample - loss: 1.6100 - accuracy: 0.2026 - val_loss: 1.6082 - val_accuracy: 0.2131\n",
            "Epoch 2/30\n",
            "459/459 [==============================] - 1s 2ms/sample - loss: 1.6080 - accuracy: 0.2048 - val_loss: 1.6060 - val_accuracy: 0.2295\n",
            "Epoch 3/30\n",
            "459/459 [==============================] - 1s 2ms/sample - loss: 1.5995 - accuracy: 0.2941 - val_loss: 1.5953 - val_accuracy: 0.2896\n",
            "Epoch 4/30\n",
            "459/459 [==============================] - 1s 2ms/sample - loss: 1.5403 - accuracy: 0.3682 - val_loss: 1.5020 - val_accuracy: 0.3060\n",
            "Epoch 5/30\n",
            "459/459 [==============================] - 1s 2ms/sample - loss: 1.2583 - accuracy: 0.4183 - val_loss: 1.5028 - val_accuracy: 0.4098\n",
            "Epoch 6/30\n",
            "459/459 [==============================] - 1s 2ms/sample - loss: 1.0714 - accuracy: 0.5839 - val_loss: 1.4754 - val_accuracy: 0.4317\n",
            "Epoch 7/30\n",
            "459/459 [==============================] - 1s 2ms/sample - loss: 0.8174 - accuracy: 0.7364 - val_loss: 1.6724 - val_accuracy: 0.3825\n",
            "Epoch 8/30\n",
            "459/459 [==============================] - 1s 2ms/sample - loss: 0.5424 - accuracy: 0.8192 - val_loss: 1.8211 - val_accuracy: 0.4645\n",
            "Epoch 9/30\n",
            "459/459 [==============================] - 1s 2ms/sample - loss: 0.4052 - accuracy: 0.8998 - val_loss: 1.8904 - val_accuracy: 0.5082\n",
            "Epoch 10/30\n",
            "459/459 [==============================] - 1s 2ms/sample - loss: 0.2465 - accuracy: 0.9368 - val_loss: 1.9198 - val_accuracy: 0.5246\n",
            "Epoch 11/30\n",
            "416/459 [==========================>...] - ETA: 0s - loss: 0.1406 - accuracy: 0.9591\n",
            "Reach accuracy of 95% and stop training!\n",
            "459/459 [==============================] - 1s 2ms/sample - loss: 0.1427 - accuracy: 0.9608 - val_loss: 2.2927 - val_accuracy: 0.4973\n"
          ],
          "name": "stdout"
        },
        {
          "output_type": "execute_result",
          "data": {
            "text/plain": [
              "<tensorflow.python.keras.callbacks.History at 0x7fb4b21f6630>"
            ]
          },
          "metadata": {
            "tags": []
          },
          "execution_count": 64
        }
      ]
    },
    {
      "cell_type": "markdown",
      "metadata": {
        "id": "HgzBEyX2zb_V",
        "colab_type": "text"
      },
      "source": [
        "USE GRU"
      ]
    },
    {
      "cell_type": "code",
      "metadata": {
        "id": "YMer-IAAzeCs",
        "colab_type": "code",
        "outputId": "d2f4a101-fdac-426a-9999-fb37ea16d3bf",
        "colab": {
          "base_uri": "https://localhost:8080/",
          "height": 289
        }
      },
      "source": [
        "model3 = tf.keras.Sequential([\n",
        "    tf.keras.layers.Embedding(1000, 64, input_length=24),\n",
        "    tf.keras.layers.Bidirectional(tf.keras.layers.GRU(32)),\n",
        "    tf.keras.layers.Dense(6, activation='relu'),\n",
        "    tf.keras.layers.Dense(5, activation='softmax')\n",
        "])\n",
        "model3.compile(loss='sparse_categorical_crossentropy',optimizer='adam',metrics=['accuracy'])\n",
        "model3.summary()"
      ],
      "execution_count": 0,
      "outputs": [
        {
          "output_type": "stream",
          "text": [
            "Model: \"sequential_4\"\n",
            "_________________________________________________________________\n",
            "Layer (type)                 Output Shape              Param #   \n",
            "=================================================================\n",
            "embedding_4 (Embedding)      (None, 24, 64)            64000     \n",
            "_________________________________________________________________\n",
            "bidirectional_6 (Bidirection (None, 64)                18816     \n",
            "_________________________________________________________________\n",
            "dense_8 (Dense)              (None, 6)                 390       \n",
            "_________________________________________________________________\n",
            "dense_9 (Dense)              (None, 5)                 35        \n",
            "=================================================================\n",
            "Total params: 83,241\n",
            "Trainable params: 83,241\n",
            "Non-trainable params: 0\n",
            "_________________________________________________________________\n"
          ],
          "name": "stdout"
        }
      ]
    },
    {
      "cell_type": "code",
      "metadata": {
        "id": "BspZTqB7z9jY",
        "colab_type": "code",
        "outputId": "f4cd6942-b7aa-46c7-e099-8e8151855f97",
        "colab": {
          "base_uri": "https://localhost:8080/",
          "height": 513
        }
      },
      "source": [
        "model3.fit(training_data, training_labels,\n",
        "                    validation_data=(test_data, test_labels),\n",
        "                    epochs=30, \n",
        "                    callbacks = [ callbacks])"
      ],
      "execution_count": 0,
      "outputs": [
        {
          "output_type": "stream",
          "text": [
            "Train on 524 samples, validate on 130 samples\n",
            "Epoch 1/30\n",
            "524/524 [==============================] - 4s 7ms/sample - loss: 1.6102 - accuracy: 0.2099 - val_loss: 1.6057 - val_accuracy: 0.2462\n",
            "Epoch 2/30\n",
            "524/524 [==============================] - 0s 662us/sample - loss: 1.5952 - accuracy: 0.2538 - val_loss: 1.6034 - val_accuracy: 0.2000\n",
            "Epoch 3/30\n",
            "524/524 [==============================] - 0s 628us/sample - loss: 1.5684 - accuracy: 0.2309 - val_loss: 1.5907 - val_accuracy: 0.2308\n",
            "Epoch 4/30\n",
            "524/524 [==============================] - 0s 686us/sample - loss: 1.5167 - accuracy: 0.2653 - val_loss: 1.5860 - val_accuracy: 0.2231\n",
            "Epoch 5/30\n",
            "524/524 [==============================] - 0s 658us/sample - loss: 1.4132 - accuracy: 0.3588 - val_loss: 1.6173 - val_accuracy: 0.3231\n",
            "Epoch 6/30\n",
            "524/524 [==============================] - 0s 630us/sample - loss: 1.2616 - accuracy: 0.4866 - val_loss: 1.5625 - val_accuracy: 0.3538\n",
            "Epoch 7/30\n",
            "524/524 [==============================] - 0s 637us/sample - loss: 1.0967 - accuracy: 0.6069 - val_loss: 1.7247 - val_accuracy: 0.3154\n",
            "Epoch 8/30\n",
            "524/524 [==============================] - 0s 674us/sample - loss: 0.9403 - accuracy: 0.6947 - val_loss: 1.7436 - val_accuracy: 0.3000\n",
            "Epoch 9/30\n",
            "524/524 [==============================] - 0s 642us/sample - loss: 0.7923 - accuracy: 0.8053 - val_loss: 1.7286 - val_accuracy: 0.3231\n",
            "Epoch 10/30\n",
            "524/524 [==============================] - 0s 636us/sample - loss: 0.6634 - accuracy: 0.8492 - val_loss: 1.8570 - val_accuracy: 0.3000\n",
            "Epoch 11/30\n",
            "524/524 [==============================] - 0s 623us/sample - loss: 0.4920 - accuracy: 0.8989 - val_loss: 1.8777 - val_accuracy: 0.3231\n",
            "Epoch 12/30\n",
            "512/524 [============================>.] - ETA: 0s - loss: 0.3568 - accuracy: 0.9492\n",
            "Reach accuracy of 95% and stop training!\n",
            "524/524 [==============================] - 0s 640us/sample - loss: 0.3551 - accuracy: 0.9504 - val_loss: 1.9236 - val_accuracy: 0.3538\n"
          ],
          "name": "stdout"
        },
        {
          "output_type": "execute_result",
          "data": {
            "text/plain": [
              "<tensorflow.python.keras.callbacks.History at 0x7f9580861c88>"
            ]
          },
          "metadata": {
            "tags": []
          },
          "execution_count": 119
        }
      ]
    },
    {
      "cell_type": "code",
      "metadata": {
        "id": "VMXrnsq3vKbk",
        "colab_type": "code",
        "colab": {}
      },
      "source": [
        "#clear the trained models\n",
        "tf.keras.backend.clear_session()"
      ],
      "execution_count": 0,
      "outputs": []
    }
  ]
}